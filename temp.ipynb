{
 "cells": [
  {
   "cell_type": "code",
   "execution_count": 3,
   "metadata": {},
   "outputs": [],
   "source": [
    "from catenary import Catenary\n",
    "import numpy as np\n",
    "import pandas as pd\n",
    "import matplotlib.pyplot as plt\n",
    "from sysidentpy.model_structure_selection import FROLS\n",
    "from sysidentpy.basis_function._basis_function import Polynomial\n",
    "from sysidentpy.parameter_estimation import LeastSquares\n",
    "from sysidentpy.metrics import root_relative_squared_error\n",
    "from sysidentpy.utils.display_results import results\n",
    "from sysidentpy.utils.plotting import plot_results\n",
    "from sysidentpy.utils.generate_data import get_miso_data"
   ]
  },
  {
   "cell_type": "code",
   "execution_count": 4,
   "metadata": {},
   "outputs": [],
   "source": [
    "cat = Catenary(length=3., get_parameter_method='precompute', reference_frame='ENU')"
   ]
  },
  {
   "cell_type": "code",
   "execution_count": 7,
   "metadata": {},
   "outputs": [],
   "source": [
    "X = np.array([cat._dHs, cat._two_D_plus_dDs])\n",
    "Y = np.array(cat._Cs)\n",
    "\n",
    "basis_function = Polynomial(degree=2)\n",
    "estimator = LeastSquares()\n",
    "\n",
    "model = FROLS(\n",
    "    order_selection=True,\n",
    "    n_terms=4,\n",
    "    ylag=2,\n",
    "    xlag=[[1, 2]],\n",
    "    info_criteria=\"aic\",\n",
    "    estimator=estimator,\n",
    "    basis_function=basis_function,\n",
    "    err_tol=None,\n",
    ")"
   ]
  },
  {
   "cell_type": "code",
   "execution_count": 8,
   "metadata": {},
   "outputs": [
    {
     "ename": "IndexError",
     "evalue": "list index out of range",
     "output_type": "error",
     "traceback": [
      "\u001b[1;31m---------------------------------------------------------------------------\u001b[0m",
      "\u001b[1;31mIndexError\u001b[0m                                Traceback (most recent call last)",
      "Cell \u001b[1;32mIn[8], line 1\u001b[0m\n\u001b[1;32m----> 1\u001b[0m \u001b[43mmodel\u001b[49m\u001b[38;5;241;43m.\u001b[39;49m\u001b[43mfit\u001b[49m\u001b[43m(\u001b[49m\u001b[43mX\u001b[49m\u001b[38;5;241;43m=\u001b[39;49m\u001b[43mX\u001b[49m\u001b[43m,\u001b[49m\u001b[43m \u001b[49m\u001b[43my\u001b[49m\u001b[38;5;241;43m=\u001b[39;49m\u001b[43mY\u001b[49m\u001b[43m)\u001b[49m\n",
      "File \u001b[1;32mc:\\dev\\mpc_test\\venv_312\\Lib\\site-packages\\sysidentpy\\model_structure_selection\\forward_regression_orthogonal_least_squares.py:602\u001b[0m, in \u001b[0;36mFROLS.fit\u001b[1;34m(self, X, y)\u001b[0m\n\u001b[0;32m    599\u001b[0m     \u001b[38;5;28;01mraise\u001b[39;00m \u001b[38;5;167;01mValueError\u001b[39;00m(\u001b[38;5;124m\"\u001b[39m\u001b[38;5;124my cannot be None\u001b[39m\u001b[38;5;124m\"\u001b[39m)\n\u001b[0;32m    601\u001b[0m \u001b[38;5;28mself\u001b[39m\u001b[38;5;241m.\u001b[39mmax_lag \u001b[38;5;241m=\u001b[39m \u001b[38;5;28mself\u001b[39m\u001b[38;5;241m.\u001b[39m_get_max_lag()\n\u001b[1;32m--> 602\u001b[0m lagged_data \u001b[38;5;241m=\u001b[39m \u001b[38;5;28;43mself\u001b[39;49m\u001b[38;5;241;43m.\u001b[39;49m\u001b[43mbuild_matrix\u001b[49m\u001b[43m(\u001b[49m\u001b[43mX\u001b[49m\u001b[43m,\u001b[49m\u001b[43m \u001b[49m\u001b[43my\u001b[49m\u001b[43m)\u001b[49m\n\u001b[0;32m    604\u001b[0m reg_matrix \u001b[38;5;241m=\u001b[39m \u001b[38;5;28mself\u001b[39m\u001b[38;5;241m.\u001b[39mbasis_function\u001b[38;5;241m.\u001b[39mfit(\n\u001b[0;32m    605\u001b[0m     lagged_data, \u001b[38;5;28mself\u001b[39m\u001b[38;5;241m.\u001b[39mmax_lag, predefined_regressors\u001b[38;5;241m=\u001b[39m\u001b[38;5;28;01mNone\u001b[39;00m\n\u001b[0;32m    606\u001b[0m )\n\u001b[0;32m    608\u001b[0m \u001b[38;5;28;01mif\u001b[39;00m X \u001b[38;5;129;01mis\u001b[39;00m \u001b[38;5;129;01mnot\u001b[39;00m \u001b[38;5;28;01mNone\u001b[39;00m:\n",
      "File \u001b[1;32mc:\\dev\\mpc_test\\venv_312\\Lib\\site-packages\\sysidentpy\\narmax_base.py:275\u001b[0m, in \u001b[0;36mInformationMatrix.build_input_output_matrix\u001b[1;34m(self, X, y)\u001b[0m\n\u001b[0;32m    252\u001b[0m \u001b[38;5;250m\u001b[39m\u001b[38;5;124;03m\"\"\"Build the information matrix.\u001b[39;00m\n\u001b[0;32m    253\u001b[0m \n\u001b[0;32m    254\u001b[0m \u001b[38;5;124;03mEach columns of the information matrix represents a candidate\u001b[39;00m\n\u001b[1;32m   (...)\u001b[0m\n\u001b[0;32m    269\u001b[0m \n\u001b[0;32m    270\u001b[0m \u001b[38;5;124;03m\"\"\"\u001b[39;00m\n\u001b[0;32m    271\u001b[0m \u001b[38;5;66;03m# Generate a lagged data which each column is a input or output\u001b[39;00m\n\u001b[0;32m    272\u001b[0m \u001b[38;5;66;03m# related to its respective lags. With this approach we can create\u001b[39;00m\n\u001b[0;32m    273\u001b[0m \u001b[38;5;66;03m# the information matrix by using all possible combination of\u001b[39;00m\n\u001b[0;32m    274\u001b[0m \u001b[38;5;66;03m# the columns as a product in the iterations\u001b[39;00m\n\u001b[1;32m--> 275\u001b[0m lagged_data \u001b[38;5;241m=\u001b[39m \u001b[38;5;28;43mself\u001b[39;49m\u001b[38;5;241;43m.\u001b[39;49m\u001b[43minitial_lagged_matrix\u001b[49m\u001b[43m(\u001b[49m\u001b[43mX\u001b[49m\u001b[43m,\u001b[49m\u001b[43m \u001b[49m\u001b[43my\u001b[49m\u001b[43m)\u001b[49m\n\u001b[0;32m    276\u001b[0m constant \u001b[38;5;241m=\u001b[39m np\u001b[38;5;241m.\u001b[39mones([lagged_data\u001b[38;5;241m.\u001b[39mshape[\u001b[38;5;241m0\u001b[39m], \u001b[38;5;241m1\u001b[39m])\n\u001b[0;32m    277\u001b[0m data \u001b[38;5;241m=\u001b[39m np\u001b[38;5;241m.\u001b[39mconcatenate([constant, lagged_data], axis\u001b[38;5;241m=\u001b[39m\u001b[38;5;241m1\u001b[39m)\n",
      "File \u001b[1;32mc:\\dev\\mpc_test\\venv_312\\Lib\\site-packages\\sysidentpy\\narmax_base.py:185\u001b[0m, in \u001b[0;36mInformationMatrix.initial_lagged_matrix\u001b[1;34m(self, X, y)\u001b[0m\n\u001b[0;32m    183\u001b[0m n_inputs, \u001b[38;5;28mself\u001b[39m\u001b[38;5;241m.\u001b[39mxlag \u001b[38;5;241m=\u001b[39m \u001b[38;5;28mself\u001b[39m\u001b[38;5;241m.\u001b[39m_process_xlag(X)\n\u001b[0;32m    184\u001b[0m \u001b[38;5;28mself\u001b[39m\u001b[38;5;241m.\u001b[39mylag \u001b[38;5;241m=\u001b[39m \u001b[38;5;28mself\u001b[39m\u001b[38;5;241m.\u001b[39m_process_ylag()\n\u001b[1;32m--> 185\u001b[0m x_lagged \u001b[38;5;241m=\u001b[39m \u001b[38;5;28;43mself\u001b[39;49m\u001b[38;5;241;43m.\u001b[39;49m\u001b[43m_create_lagged_X\u001b[49m\u001b[43m(\u001b[49m\u001b[43mX\u001b[49m\u001b[43m,\u001b[49m\u001b[43m \u001b[49m\u001b[43mn_inputs\u001b[49m\u001b[43m)\u001b[49m\n\u001b[0;32m    186\u001b[0m y_lagged \u001b[38;5;241m=\u001b[39m \u001b[38;5;28mself\u001b[39m\u001b[38;5;241m.\u001b[39m_create_lagged_y(y)\n\u001b[0;32m    187\u001b[0m lagged_data \u001b[38;5;241m=\u001b[39m np\u001b[38;5;241m.\u001b[39mconcatenate([y_lagged, x_lagged], axis\u001b[38;5;241m=\u001b[39m\u001b[38;5;241m1\u001b[39m)\n",
      "File \u001b[1;32mc:\\dev\\mpc_test\\venv_312\\Lib\\site-packages\\sysidentpy\\narmax_base.py:132\u001b[0m, in \u001b[0;36mInformationMatrix._create_lagged_X\u001b[1;34m(self, X, n_inputs)\u001b[0m\n\u001b[0;32m    129\u001b[0m xlag \u001b[38;5;241m=\u001b[39m [[i] \u001b[38;5;28;01mif\u001b[39;00m \u001b[38;5;28misinstance\u001b[39m(i, \u001b[38;5;28mint\u001b[39m) \u001b[38;5;28;01melse\u001b[39;00m i \u001b[38;5;28;01mfor\u001b[39;00m i \u001b[38;5;129;01min\u001b[39;00m \u001b[38;5;28mself\u001b[39m\u001b[38;5;241m.\u001b[39mxlag]\n\u001b[0;32m    130\u001b[0m \u001b[38;5;28;01mfor\u001b[39;00m col \u001b[38;5;129;01min\u001b[39;00m \u001b[38;5;28mrange\u001b[39m(n_inputs):\n\u001b[0;32m    131\u001b[0m     x_lagged_col \u001b[38;5;241m=\u001b[39m np\u001b[38;5;241m.\u001b[39mcolumn_stack(\n\u001b[1;32m--> 132\u001b[0m         [\u001b[38;5;28mself\u001b[39m\u001b[38;5;241m.\u001b[39mshift_column(X[:, col], lag) \u001b[38;5;28;01mfor\u001b[39;00m lag \u001b[38;5;129;01min\u001b[39;00m \u001b[43mxlag\u001b[49m\u001b[43m[\u001b[49m\u001b[43mcol\u001b[49m\u001b[43m]\u001b[49m]\n\u001b[0;32m    133\u001b[0m     )\n\u001b[0;32m    134\u001b[0m     x_lagged \u001b[38;5;241m=\u001b[39m np\u001b[38;5;241m.\u001b[39mcolumn_stack([x_lagged, x_lagged_col])\n\u001b[0;32m    136\u001b[0m x_lagged \u001b[38;5;241m=\u001b[39m x_lagged[:, \u001b[38;5;241m1\u001b[39m:]  \u001b[38;5;66;03m# remove the column of 0 created above\u001b[39;00m\n",
      "\u001b[1;31mIndexError\u001b[0m: list index out of range"
     ]
    }
   ],
   "source": [
    "model.fit(X=X, y=Y)"
   ]
  }
 ],
 "metadata": {
  "kernelspec": {
   "display_name": "venv_312",
   "language": "python",
   "name": "python3"
  },
  "language_info": {
   "codemirror_mode": {
    "name": "ipython",
    "version": 3
   },
   "file_extension": ".py",
   "mimetype": "text/x-python",
   "name": "python",
   "nbconvert_exporter": "python",
   "pygments_lexer": "ipython3",
   "version": "3.12.6"
  }
 },
 "nbformat": 4,
 "nbformat_minor": 2
}
