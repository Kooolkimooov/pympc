{
 "cells": [
  {
   "metadata": {
    "ExecuteTime": {
     "end_time": "2024-09-27T18:23:59.914667Z",
     "start_time": "2024-09-27T18:23:59.911315Z"
    }
   },
   "cell_type": "code",
   "source": [
    "import json as json\n",
    "import pathlib as pl\n",
    "from copy import deepcopy\n",
    "from datetime import datetime\n",
    "from gc import collect\n",
    "from os import path, system\n",
    "from warnings import simplefilter\n",
    "\n",
    "import matplotlib.pyplot as plt\n",
    "from matplotlib import rcParams\n",
    "from numpy import array, zeros\n",
    "from numpy.linalg import norm\n",
    "from tqdm import tqdm\n",
    "\n",
    "from catenary import Catenary\n",
    "from utils import check, gif_from_pngs, print_dict\n",
    "\n",
    "simplefilter( 'ignore', RuntimeWarning )\n",
    "\n",
    "gain = 1.5\n",
    "rcParams[ 'figure.figsize' ] = [ gain * 6.4, gain * 4.8 / 2 ]"
   ],
   "id": "aba6b7805a7db44b",
   "outputs": [],
   "execution_count": 23
  },
  {
   "metadata": {
    "ExecuteTime": {
     "end_time": "2024-09-27T18:23:59.931596Z",
     "start_time": "2024-09-27T18:23:59.926204Z"
    }
   },
   "cell_type": "code",
   "source": [
    "files = list(pl.Path( \"./export\" ).glob( '*' ))\n",
    "files.sort( key = lambda x: path.getctime( x ) )\n",
    "for v in files:\n",
    "\tprint( str( v ).split( '//' )[ -1 ], end = '\\t' )\n",
    "\tprint( datetime.fromtimestamp( path.getctime( v ) ) )"
   ],
   "id": "5064fca0b6aaa5b7",
   "outputs": [
    {
     "name": "stdout",
     "output_type": "stream",
     "text": [
      "export\\three_robots_chain_1725023279\t2024-08-30 15:07:59.322093\n",
      "export\\three_robots_chain_1725026180\t2024-08-30 15:56:20.535888\n",
      "export\\three_robots_chain_1725027577\t2024-08-30 16:19:37.793898\n",
      "export\\three_robots_chain_1725028953\t2024-08-30 16:42:33.378778\n",
      "export\\three_robots_chain_1725033548\t2024-08-30 17:59:08.196554\n",
      "export\\three_robots_chain_1725033930\t2024-08-30 18:05:30.159590\n",
      "export\\three_robots_chain_1726033948\t2024-09-11 07:52:28.967991\n",
      "export\\three_robots_chain_1726151643\t2024-09-12 16:34:03.025139\n",
      "export\\three_robots_chain_1726153404\t2024-09-12 17:03:24.524985\n",
      "export\\three_robots_chain_1726157070\t2024-09-12 18:04:30.478803\n",
      "export\\three_robots_chain_1725264976\t2024-09-12 22:05:01.853236\n",
      "export\\three_robots_chain_1725268112\t2024-09-12 22:05:01.928170\n",
      "export\\three_robots_chain_1725274451\t2024-09-12 22:05:02.010784\n",
      "export\\three_robots_chain_1725278516\t2024-09-12 22:05:02.088836\n",
      "export\\three_robots_chain_1725525073\t2024-09-12 22:05:02.166874\n",
      "export\\three_robots_chain_1725534896\t2024-09-12 22:05:02.353150\n",
      "export\\three_robots_chain_1726033954\t2024-09-12 22:05:02.508750\n",
      "export\\three_robots_chain_1726033959\t2024-09-12 22:05:02.522252\n",
      "export\\turtle_1724844317\t2024-09-12 22:05:02.570251\n",
      "export\\turtle_1724844973\t2024-09-12 22:05:02.586752\n",
      "export\\turtle_1724845921\t2024-09-12 22:05:02.603251\n",
      "export\\turtle_1724846294\t2024-09-12 22:05:02.619751\n",
      "export\\turtle_1724846994\t2024-09-12 22:05:02.634805\n",
      "export\\three_robots_chain_with_fixed_end_1726241793\t2024-09-13 17:36:33.392769\n",
      "export\\three_robots_chain_with_fixed_end_1726242029\t2024-09-13 17:40:29.885362\n",
      "export\\three_robots_chain_with_fixed_end_1726429003\t2024-09-15 21:36:43.341270\n",
      "export\\bluerov_1726514489\t2024-09-16 21:21:29.375715\n",
      "export\\three_robots_chain_1726514783\t2024-09-16 21:26:23.644055\n",
      "export\\three_robots_chain_with_fixed_end_1726554218\t2024-09-17 08:23:38.966013\n",
      "export\\three_robots_chain_with_fixed_end_1727194840\t2024-09-24 18:20:40.829446\n",
      "export\\three_robots_chain_with_fixed_end_1727198478\t2024-09-24 19:21:18.669014\n",
      "export\\three_robots_chain_with_fixed_end_1727200560\t2024-09-24 19:56:00.366083\n",
      "export\\chain_of_four_1727452974\t2024-09-27 18:02:54.323008\n",
      "export\\chain_of_four_1727453654\t2024-09-27 18:14:14.171116\n",
      "export\\chain_of_four_1727455398\t2024-09-27 18:43:18.511628\n",
      "export\\chain_of_four_1727456231\t2024-09-27 18:57:11.519703\n",
      "export\\chain_of_four_1727457295\t2024-09-27 19:14:55.515492\n",
      "export\\chain_of_four_1727458419\t2024-09-27 19:33:39.155089\n",
      "export\\chain_of_four_1727460859\t2024-09-27 20:14:19.696298\n"
     ]
    }
   ],
   "execution_count": 24
  },
  {
   "metadata": {
    "ExecuteTime": {
     "end_time": "2024-09-27T18:23:59.958856Z",
     "start_time": "2024-09-27T18:23:59.956345Z"
    }
   },
   "cell_type": "code",
   "source": [
    "folder = pl.Path( './export/chain_of_four_1727460859' )\n",
    "uuid = str( folder ).split( '_' )[ -1 ]"
   ],
   "id": "6705faebb9d7422b",
   "outputs": [],
   "execution_count": 25
  },
  {
   "metadata": {
    "ExecuteTime": {
     "end_time": "2024-09-27T18:24:00.045678Z",
     "start_time": "2024-09-27T18:24:00.037768Z"
    }
   },
   "cell_type": "code",
   "source": [
    "with open( folder / 'config.json' ) as f:\n",
    "\tconfig = json.load( f )\n",
    "print_dict( config )"
   ],
   "id": "95276bac8221f605",
   "outputs": [
    {
     "name": "stdout",
     "output_type": "stream",
     "text": [
      "predict: _predict_non_linear\n",
      "get_actuation: _get_actuation_from_actual\n",
      "get_result: _get_result_from_actual\n",
      "model:\n",
      "\tdynamics: dynamics\n",
      "\tstep: step\n",
      "\tmodel_dynamics:\n",
      "\t\tstate_size: 48\n",
      "\t\tactuation_size: 24\n",
      "\t\tbr_0:\n",
      "\t\t\tstate_size: 12\n",
      "\t\t\tactuation_size: 6\n",
      "\t\t\tmass: 11.5\n",
      "\t\t\tcenter_of_mass: [0.0, 0.0, 0.0]\n",
      "\t\t\tweight: [0.0, 0.0, 112.77647499999999]\n",
      "\t\t\tcenter_of_volume: [0.0, 0.0, -0.02]\n",
      "\t\t\tbuoyancy: [0.0, 0.0, -120.0]\n",
      "\t\t\tinverse_inertial_matrix: (6, 6)\n",
      "\t\t\thydrodynamic_matrix: (6, 6)\n",
      "\t\tc_01:\n",
      "\t\t\tget_lowest_point: get_lowest_point\n",
      "\t\t\tget_perturbations: get_perturbations\n",
      "\t\t\tdiscretize: discretize\n",
      "\t\t\toptimization_function: _optimization_function_1\n",
      "\t\t\tget_parameters: _get_parameters_optimization\n",
      "\t\t\tlength: 3.0\n",
      "\t\t\tlinear_mass: 0.0\n",
      "\t\tbr_1:\n",
      "\t\t\tstate_size: 12\n",
      "\t\t\tactuation_size: 6\n",
      "\t\t\tmass: 11.5\n",
      "\t\t\tcenter_of_mass: [0.0, 0.0, 0.0]\n",
      "\t\t\tweight: [0.0, 0.0, 112.77647499999999]\n",
      "\t\t\tcenter_of_volume: [0.0, 0.0, -0.02]\n",
      "\t\t\tbuoyancy: [0.0, 0.0, -120.0]\n",
      "\t\t\tinverse_inertial_matrix: (6, 6)\n",
      "\t\t\thydrodynamic_matrix: (6, 6)\n",
      "\t\tc_12:\n",
      "\t\t\tget_lowest_point: get_lowest_point\n",
      "\t\t\tget_perturbations: get_perturbations\n",
      "\t\t\tdiscretize: discretize\n",
      "\t\t\toptimization_function: _optimization_function_1\n",
      "\t\t\tget_parameters: _get_parameters_optimization\n",
      "\t\t\tlength: 3.0\n",
      "\t\t\tlinear_mass: 0.0\n",
      "\t\tbr_2:\n",
      "\t\t\tstate_size: 12\n",
      "\t\t\tactuation_size: 6\n",
      "\t\t\tmass: 11.5\n",
      "\t\t\tcenter_of_mass: [0.0, 0.0, 0.0]\n",
      "\t\t\tweight: [0.0, 0.0, 112.77647499999999]\n",
      "\t\t\tcenter_of_volume: [0.0, 0.0, -0.02]\n",
      "\t\t\tbuoyancy: [0.0, 0.0, -120.0]\n",
      "\t\t\tinverse_inertial_matrix: (6, 6)\n",
      "\t\t\thydrodynamic_matrix: (6, 6)\n",
      "\t\tc_23:\n",
      "\t\t\tget_lowest_point: get_lowest_point\n",
      "\t\t\tget_perturbations: get_perturbations\n",
      "\t\t\tdiscretize: discretize\n",
      "\t\t\toptimization_function: _optimization_function_1\n",
      "\t\t\tget_parameters: _get_parameters_optimization\n",
      "\t\t\tlength: 3.0\n",
      "\t\t\tlinear_mass: 0.0\n",
      "\t\tbr_3:\n",
      "\t\t\tstate_size: 12\n",
      "\t\t\tactuation_size: 6\n",
      "\t\t\tmass: 11.5\n",
      "\t\t\tcenter_of_mass: [0.0, 0.0, 0.0]\n",
      "\t\t\tweight: [0.0, 0.0, 112.77647499999999]\n",
      "\t\t\tcenter_of_volume: [0.0, 0.0, -0.02]\n",
      "\t\t\tbuoyancy: [0.0, 0.0, -120.0]\n",
      "\t\t\tinverse_inertial_matrix: (6, 6)\n",
      "\t\t\thydrodynamic_matrix: (6, 6)\n",
      "\t\twater_current_force: [0, 0, 0, 0, 0, 0]\n",
      "\t\tbr_0_pose: 0:6:None\n",
      "\t\tbr_0_position: 0:3:None\n",
      "\t\tbr_0_xy: 0:2:None\n",
      "\t\tbr_0_z: 2\n",
      "\t\tbr_0_orientation: 3:6:None\n",
      "\t\tbr_1_pose: 6:12:None\n",
      "\t\tbr_1_position: 6:9:None\n",
      "\t\tbr_1_xy: 6:8:None\n",
      "\t\tbr_1_z: 8\n",
      "\t\tbr_1_orientation: 9:12:None\n",
      "\t\tbr_2_pose: 12:18:None\n",
      "\t\tbr_2_position: 12:15:None\n",
      "\t\tbr_2_xy: 12:14:None\n",
      "\t\tbr_2_z: 14\n",
      "\t\tbr_2_orientation: 15:18:None\n",
      "\t\tbr_3_pose: 18:24:None\n",
      "\t\tbr_3_position: 18:21:None\n",
      "\t\tbr_3_xy: 18:20:None\n",
      "\t\tbr_3_z: 20\n",
      "\t\tbr_3_orientation: 21:24:None\n",
      "\t\tbr_0_speed: 24:30:None\n",
      "\t\tbr_0_linear_speed: 24:27:None\n",
      "\t\tbr_0_angular_speed: 27:30:None\n",
      "\t\tbr_1_speed: 30:36:None\n",
      "\t\tbr_1_linear_speed: 30:33:None\n",
      "\t\tbr_1_angular_speed: 33:36:None\n",
      "\t\tbr_2_speed: 36:42:None\n",
      "\t\tbr_2_linear_speed: 36:39:None\n",
      "\t\tbr_2_angular_speed: 39:42:None\n",
      "\t\tbr_3_speed: 42:48:None\n",
      "\t\tbr_3_linear_speed: 42:45:None\n",
      "\t\tbr_3_angular_speed: 45:48:None\n",
      "\t\tbr_0_actuation_start: 0\n",
      "\t\tbr_0_actuation: 0:6:None\n",
      "\t\tbr_0_linear_actuation: 0:6:None\n",
      "\t\tbr_0_angular_actuation: 0:0:None\n",
      "\t\tbr_1_actuation_start: 6\n",
      "\t\tbr_1_actuation: 6:12:None\n",
      "\t\tbr_1_linear_actuation: 6:9:None\n",
      "\t\tbr_1_angular_actuation: 9:12:None\n",
      "\t\tbr_2_actuation: 12:18:None\n",
      "\t\tbr_2_actuation_start: 12\n",
      "\t\tbr_2_linear_actuation: 12:15:None\n",
      "\t\tbr_2_angular_actuation: 15:18:None\n",
      "\t\tbr_3_actuation: 18:24:None\n",
      "\t\tbr_3_actuation_start: 18\n",
      "\t\tbr_3_linear_actuation: 18:21:None\n",
      "\t\tbr_3_angular_actuation: 21:24:None\n",
      "\t\tbr_0_state: (12,)\n",
      "\t\tbr_1_state: (12,)\n",
      "\t\tbr_2_state: (12,)\n",
      "\t\tbr_3_state: (12,)\n",
      "\ttime_step: 0.1\n",
      "\tstate: (48,)\n",
      "\tactuation: (24,)\n",
      "\tkwargs:\n",
      "\trecord: True\n",
      "\tprevious_states: (1, 48)\n",
      "\tprevious_actuations: (1, 24)\n",
      "horizon: 5\n",
      "target_trajectory: (400, 1, 24)\n",
      "objective: chain_of_4_objective\n",
      "time_step: 0.1\n",
      "time_steps_per_actuation: 5\n",
      "guess_from_last_solution: True\n",
      "tolerance: 1e-06\n",
      "max_iter: 100\n",
      "bounds: None\n",
      "constraints:\n",
      "\t0:\n",
      "\t\tfun: chain_of_4_constraints\n",
      "\t\tlb: (60,)\n",
      "\t\tub: (60,)\n",
      "\t\tfinite_diff_rel_step: None\n",
      "\t\tfinite_diff_jac_sparsity: None\n",
      "\t\tjac: 2-point\n",
      "\t\thess:\n",
      "\t\t\tinitialize: initialize\n",
      "\t\t\tupdate: update\n",
      "\t\t\tdot: dot\n",
      "\t\t\tget_matrix: get_matrix\n",
      "\t\t\tmin_curvature: 1e-08\n",
      "\t\t\tinit_scale: auto\n",
      "\t\t\tfirst_iteration: None\n",
      "\t\t\tapprox_type: None\n",
      "\t\t\tB: None\n",
      "\t\t\tH: None\n",
      "\t\t\texception_strategy: skip_update\n",
      "\t\tkeep_feasible: False\n",
      "\t\tlabels: (12,)\n",
      "result_shape: [1, 1, 24]\n",
      "raw_result: None\n",
      "result: (24,)\n",
      "pose_weight_matrix: (5, 24, 24)\n",
      "actuation_derivative_weight_matrix: (1, 24, 24)\n",
      "objective_weight: 0.1\n",
      "final_weight: 0.0\n",
      "record: True\n",
      "predicted_trajectories: []\n",
      "candidate_actuations: []\n",
      "compute_times: []\n",
      "verbose: False\n",
      "constraints_function: chain_of_4_constraints\n"
     ]
    }
   ],
   "execution_count": 26
  },
  {
   "metadata": {
    "ExecuteTime": {
     "end_time": "2024-09-27T18:24:00.135804Z",
     "start_time": "2024-09-27T18:24:00.130680Z"
    }
   },
   "cell_type": "code",
   "source": [
    "slice_repository = { }\n",
    "axes = [ 'x', 'y', 'z', 'phi', 'theta', 'psi', 'u', 'v', 'w', 'p', 'q', 'r' ]\n",
    "\n",
    "for k, v in config[ 'model' ][ 'model_dynamics' ].items():\n",
    "\tif isinstance( v, str ) and ':' in v:\n",
    "\t\tslice_repository[ k ] = slice( *[ int( v ) if v != 'None' else None for v in v.split( ':' ) ] )\n",
    "\n",
    "positions = { k: v for k, v in slice_repository.items() if 'position' in k }\n",
    "orientations = { k: v for k, v in slice_repository.items() if 'orientation' in k }\n",
    "positions_pairs = { '_'.join( a.split( '_' )[ :2 ] ): '_'.join( b.split( '_' )[ :2 ] ) for a, b in\n",
    "\t\t\t\t\t\t\t\t\t\tzip( list( positions )[ :-1 ], list( positions )[ 1: ] ) }\n",
    "linear_actuation = { k: v for k, v in slice_repository.items() if 'linear_actuation' in k }"
   ],
   "id": "66d4edaec6b9e310",
   "outputs": [],
   "execution_count": 27
  },
  {
   "metadata": {
    "ExecuteTime": {
     "end_time": "2024-09-27T18:24:00.166692Z",
     "start_time": "2024-09-27T18:24:00.163455Z"
    }
   },
   "cell_type": "code",
   "source": [
    "for i, c in enumerate( config[ 'constraints' ] ):\n",
    "\tprint( f'Constraint {i}' )\n",
    "\tfor j, l in enumerate( c[ 'labels' ] ):\n",
    "\t\tprint( f'\\t{j}: {l}' )"
   ],
   "id": "f754895dc8c4adf8",
   "outputs": [
    {
     "name": "stdout",
     "output_type": "stream",
     "text": [
      "Constraint 0\n",
      "\t0: $z_0+H_{01}$\n",
      "\t1: $z_1+H_{12}$\n",
      "\t2: $z_2+H_{2fe}$\n",
      "\t3: $|P_0^{x,y}-P_1^{x,y}|$\n",
      "\t4: $|P_1^{x,y}-P_2^{x,y}|$\n",
      "\t5: $|P_2^{x,y}-P_fe^{x,y}|$\n",
      "\t6: $|P_0^{x,y,z}-P_1^{x,y,z}|$\n",
      "\t7: $|P_1^{x,y,z}-P_2^{x,y,z}|$\n",
      "\t8: $|P_2^{x,y,z}-P_fe^{x,y,z}|$\n",
      "\t9: $|V_0|$\n",
      "\t10: $|V_1|$\n",
      "\t11: $|V_2|$\n"
     ]
    }
   ],
   "execution_count": 28
  },
  {
   "metadata": {
    "ExecuteTime": {
     "end_time": "2024-09-27T18:24:00.588435Z",
     "start_time": "2024-09-27T18:24:00.272273Z"
    }
   },
   "cell_type": "code",
   "source": [
    "data_files = list( folder.glob( 'data/*' ) )\n",
    "data_files.sort( key = lambda x: path.getmtime( x ) )\n",
    "with open( data_files[ -1 ] ) as f:\n",
    "\tfinal_state = json.load( f )\n",
    "\n",
    "times = [ config[ 'model' ][ 'time_step' ] * i for i in range( len( config[ 'target_trajectory' ] ) ) ]\n",
    "target_trajectory = array( config[ 'target_trajectory' ] )[ :, 0 ]\n",
    "\n",
    "n_frames = len( data_files )\n",
    "previous_times = [ config[ 'model' ][ 'time_step' ] * i for i in range( n_frames ) ]\n",
    "previous_target_trajectory = target_trajectory[ :n_frames ]\n",
    "previous_actual_trajectory = array( final_state[ 'model' ][ 'previous_states' ] )[ 1:,\n",
    "\t\t\t\t\t\t\t\t\t\t\t\t\t\t :config[ 'model' ][ 'model_dynamics' ][ 'state_size' ] // 2 ]\n",
    "\n",
    "previous_actuations = array( final_state[ 'model' ][ 'previous_actuations' ] )\n",
    "\n",
    "pose_weight = array( config[ 'pose_weight_matrix' ][ 0 ] )"
   ],
   "id": "c6a8d4b62d2c37c3",
   "outputs": [],
   "execution_count": 29
  },
  {
   "metadata": {
    "ExecuteTime": {
     "end_time": "2024-09-27T18:24:02.743488Z",
     "start_time": "2024-09-27T18:24:00.608239Z"
    }
   },
   "cell_type": "code",
   "source": "check( f'{folder}/plots' )",
   "id": "5ca37c9278171cfa",
   "outputs": [
    {
     "data": {
      "text/plain": [
       "17"
      ]
     },
     "execution_count": 30,
     "metadata": {},
     "output_type": "execute_result"
    }
   ],
   "execution_count": 30
  },
  {
   "metadata": {
    "ExecuteTime": {
     "end_time": "2024-09-27T18:24:02.993010Z",
     "start_time": "2024-09-27T18:24:02.776608Z"
    }
   },
   "cell_type": "code",
   "source": [
    "for k, v in positions.items():\n",
    "\tif norm( pose_weight[ v, v ] ) == 0:\n",
    "\t\tcontinue\n",
    "\tabsolute_distances = abs( previous_target_trajectory[ :, v ] - previous_actual_trajectory[ :, v ] )\n",
    "\tplt.plot( previous_times, absolute_distances )\n",
    "\tplt.legend(\n",
    "\t\t\t[\n",
    "\t\t\t\t\tr'over $\\mathbf{x}_w$-axis',\n",
    "\t\t\t\t\tr'over $\\mathbf{y}_w$-axis',\n",
    "\t\t\t\t\tr'over $\\mathbf{z}_w$-axis'\n",
    "\t\t\t\t\t]\n",
    "\t\t\t)\n",
    "\tplt.xlabel( 'time [s]' )\n",
    "\tplt.ylabel( 'absolute error [m]' )\n",
    "\tplt.subplots_adjust( bottom = 0.125, top = 1, left = 0.075, right = 1 )\n",
    "\tplt.savefig( f'{folder}/plots/{k}_tracking_error_{uuid}.png', dpi = 300 )\n",
    "\tplt.close( 'all' )"
   ],
   "id": "6ed37028b7257b52",
   "outputs": [],
   "execution_count": 31
  },
  {
   "metadata": {
    "ExecuteTime": {
     "end_time": "2024-09-27T18:24:03.631825Z",
     "start_time": "2024-09-27T18:24:03.010781Z"
    }
   },
   "cell_type": "code",
   "source": [
    "for k, v in orientations.items():\n",
    "\tif norm( pose_weight[ v, v ] ) == 0:\n",
    "\t\tcontinue\n",
    "\tplt.plot( previous_times, abs( previous_target_trajectory[ :, v ] - previous_actual_trajectory[ :, v ] ) )\n",
    "\tplt.legend(\n",
    "\t\t\t[\n",
    "\t\t\t\t\tr'around $\\mathbf{x}_w$-axis',\n",
    "\t\t\t\t\tr'around $\\mathbf{y}_w$-axis',\n",
    "\t\t\t\t\tr'around $\\mathbf{z}_w$-axis'\n",
    "\t\t\t\t\t]\n",
    "\t\t\t)\n",
    "\tplt.xlabel( 'time [s]' )\n",
    "\tplt.ylabel( 'absolute error [rad]' )\n",
    "\tplt.subplots_adjust( bottom = 0.125, top = 1, left = 0.075, right = 1 )\n",
    "\tplt.savefig( f'{folder}/plots/{k}_tracking_error_{uuid}.png', dpi = 300 )\n",
    "\tplt.close( 'all' )"
   ],
   "id": "2c6abf6d5bcedfc7",
   "outputs": [],
   "execution_count": 32
  },
  {
   "metadata": {
    "ExecuteTime": {
     "end_time": "2024-09-27T18:24:04.497165Z",
     "start_time": "2024-09-27T18:24:03.650377Z"
    }
   },
   "cell_type": "code",
   "source": [
    "for k, v in linear_actuation.items():\n",
    "\tplt.plot( previous_times, previous_actuations[ :-1, v ] )\n",
    "\tplt.xlabel( 'time [s]' )\n",
    "\tplt.ylabel( 'actuation [N]' )\n",
    "\tplt.legend(\n",
    "\t\t\t[\n",
    "\t\t\t\t\tr'over $\\mathbf{x}_w$-axis',\n",
    "\t\t\t\t\tr'over $\\mathbf{y}_w$-axis',\n",
    "\t\t\t\t\tr'over $\\mathbf{z}_w$-axis'\n",
    "\t\t\t\t\t]\n",
    "\t\t\t)\n",
    "\tplt.subplots_adjust( bottom = 0.125, top = 1, left = 0.075, right = 1 )\n",
    "\tplt.savefig( f'{folder}/plots/{k}_{uuid}.png', dpi = 300 )\n",
    "\tplt.close( 'all' )"
   ],
   "id": "2cbd3ff85cdbcfff",
   "outputs": [],
   "execution_count": 33
  },
  {
   "metadata": {
    "ExecuteTime": {
     "end_time": "2024-09-27T18:24:04.725027Z",
     "start_time": "2024-09-27T18:24:04.515694Z"
    }
   },
   "cell_type": "code",
   "source": [
    "for pair_1, pair_2 in positions_pairs.items():\n",
    "\tposition_1 = deepcopy( previous_actual_trajectory[ :, slice_repository[ pair_1 + '_position' ] ] )\n",
    "\tposition_2 = deepcopy( previous_actual_trajectory[ :, slice_repository[ pair_2 + '_position' ] ] )\n",
    "\n",
    "\tlowest_points = zeros( (position_1.shape[ 0 ],) )\n",
    "\t\n",
    "\tname = f'c_{pair_1.split( \"_\" )[ -1 ]}{pair_2.split( \"_\" )[ -1 ]}'\n",
    "\tcat = Catenary(\n",
    "\t\t\tconfig[ 'model' ][ 'model_dynamics' ][ name ][ 'length' ],\n",
    "\t\t\tconfig[ 'model' ][ 'model_dynamics' ][ name ][ 'linear_mass' ]\n",
    "\t\t\t)\n",
    "\n",
    "\tfor i, (p1, p2) in enumerate( zip( position_1, position_2 ) ):\n",
    "\t\tlowest_points[ i ] = cat.get_lowest_point( p1, p2 )[ 2 ]\n",
    "\n",
    "\tplt.plot( previous_times, lowest_points )\n",
    "\t\n",
    "plt.legend( [ f'from {a} to {b}' for a, b in positions_pairs.items() ] )\n",
    "plt.xlabel( 'time [s]' )\n",
    "plt.ylabel( 'distance [m]' )\n",
    "plt.subplots_adjust( bottom = 0.125, top = 1, left = 0.075, right = 1 )\n",
    "plt.gca().invert_yaxis()\n",
    "plt.savefig( f'{folder}/plots/lowest_points_{uuid}.png', dpi = 300 )\n",
    "plt.close( 'all' )"
   ],
   "id": "3e3a23d854d5f74e",
   "outputs": [],
   "execution_count": 34
  },
  {
   "metadata": {
    "ExecuteTime": {
     "end_time": "2024-09-27T18:24:04.935481Z",
     "start_time": "2024-09-27T18:24:04.746307Z"
    }
   },
   "cell_type": "code",
   "source": [
    "for pair_1, pair_2 in positions_pairs.items():\n",
    "\tabsolute_distances = norm(\n",
    "\t\t\tprevious_actual_trajectory[ :, positions[ pair_1 + '_position' ] ] -\n",
    "\t\t\tprevious_actual_trajectory[ :, positions[ pair_2 + '_position' ] ],\n",
    "\t\t\taxis = 1\n",
    "\t\t\t)\n",
    "\tplt.plot( previous_times, absolute_distances )\n",
    "plt.legend( [ f'from {a} to {b}' for a, b in positions_pairs.items() ] )\n",
    "plt.xlabel( 'time [s]' )\n",
    "plt.ylabel( 'distance [m]' )\n",
    "plt.subplots_adjust( bottom = 0.125, top = 1, left = 0.075, right = 1 )\n",
    "plt.savefig( f'{folder}/plots/distance_{uuid}.png', dpi = 300 )\n",
    "plt.close( 'all' )"
   ],
   "id": "a04d352575c1d1ae",
   "outputs": [],
   "execution_count": 35
  },
  {
   "metadata": {
    "ExecuteTime": {
     "end_time": "2024-09-27T18:24:05.136318Z",
     "start_time": "2024-09-27T18:24:04.955560Z"
    }
   },
   "cell_type": "code",
   "source": [
    "for p1, p2 in positions_pairs.items():\n",
    "\tabsolute_distances = norm(\n",
    "\t\t\tprevious_actual_trajectory[ :, slice_repository[ p1 + '_xy' ] ] -\n",
    "\t\t\tprevious_actual_trajectory[ :, slice_repository[ p2 + '_xy' ] ],\n",
    "\t\t\taxis = 1\n",
    "\t\t\t)\n",
    "\tplt.plot( previous_times, absolute_distances )\n",
    "plt.legend( [ f'from {a} to {b}' for a, b in positions_pairs.items() ] )\n",
    "plt.xlabel( 'time [s]' )\n",
    "plt.ylabel( 'distance [m]' )\n",
    "plt.subplots_adjust( bottom = 0.125, top = 1, left = 0.075, right = 1 )\n",
    "plt.savefig( f'{folder}/plots/horizontal_distance_{uuid}.png', dpi = 300 )\n",
    "plt.close( 'all' )"
   ],
   "id": "f723ff6e0c74da50",
   "outputs": [],
   "execution_count": 36
  },
  {
   "metadata": {
    "ExecuteTime": {
     "end_time": "2024-09-27T18:24:05.759553Z",
     "start_time": "2024-09-27T18:24:05.155919Z"
    }
   },
   "cell_type": "code",
   "source": [
    "figs = [ 'x', 'y', 'z' ]\n",
    "\n",
    "x = plt.figure().subplots()\n",
    "y = plt.figure().subplots()\n",
    "z = plt.figure().subplots()\n",
    "z.invert_yaxis()\n",
    "\n",
    "legends = [ [ ], [ ], [ ] ]\n",
    "\n",
    "for k, v in positions.items():\n",
    "\tposition = previous_actual_trajectory[ :, v ]\n",
    "\n",
    "\tX = position[ :, 0 ]\n",
    "\tY = position[ :, 1 ]\n",
    "\tZ = position[ :, 2 ]\n",
    "\n",
    "\tx.plot( previous_times, X )\n",
    "\ty.plot( previous_times, Y )\n",
    "\tz.plot( previous_times, Z )\n",
    "\n",
    "\tfor i in range( 3 ):\n",
    "\t\tlegends[ i ] += [ f'{k}' ]\n",
    "\n",
    "\tif norm( pose_weight[ v, v ][ :, 0 ] ) > 0:\n",
    "\t\ttarget = previous_target_trajectory[ :, v ][ :, 0 ]\n",
    "\t\tx.plot( previous_times, target, ':', linewidth = 3 )\n",
    "\t\tlegends[ 0 ] += [ f'{k} target' ]\n",
    "\n",
    "\tif norm( pose_weight[ v, v ][ :, 1 ] ) > 0:\n",
    "\t\ttarget = previous_target_trajectory[ :, v ][ :, 1 ]\n",
    "\t\ty.plot( previous_times, target, ':', linewidth = 3 )\n",
    "\t\tlegends[ 1 ] += [ f'{k} target' ]\n",
    "\n",
    "\tif norm( pose_weight[ v, v ][ :, 2 ] ) > 0:\n",
    "\t\ttarget = previous_target_trajectory[ :, v ][ :, 2 ]\n",
    "\t\tz.plot( previous_times, target, ':', linewidth = 3 )\n",
    "\t\tlegends[ 2 ] += [ f'{k} target' ]\n",
    "\n",
    "for f in plt.get_fignums():\n",
    "\tfig = plt.figure( f )\n",
    "\tplt.legend( legends[ f - 1 ] )\n",
    "\tplt.xlabel( 'time [s]' )\n",
    "\tplt.ylabel( f'position on $\\\\mathbf{{{figs[ f - 1 ]}}}_w$-axis [m]' )\n",
    "\tplt.subplots_adjust( bottom = 0.125, top = 1, left = 0.075, right = 1 )\n",
    "\tplt.savefig( f'{folder}/plots/positions_on_{figs[ f - 1 ]}_{uuid}.png', dpi = 300 )\n",
    "plt.close( 'all' )"
   ],
   "id": "befa11f8536aa032",
   "outputs": [],
   "execution_count": 37
  },
  {
   "metadata": {
    "ExecuteTime": {
     "end_time": "2024-09-27T18:24:05.961302Z",
     "start_time": "2024-09-27T18:24:05.781492Z"
    }
   },
   "cell_type": "code",
   "source": [
    "plt.plot( previous_times, final_state[ 'compute_times' ] )\n",
    "plt.hlines( config[ 'model' ][ 'time_step' ] * config[ 'horizon' ], 0, previous_times[ -1 ], 'r', '--' )\n",
    "plt.legend( [ 'compute time', 'horizon depth' ] )\n",
    "plt.xlabel( 'time [s]' )\n",
    "plt.ylabel( 'time [s]' )\n",
    "plt.subplots_adjust( bottom = 0.125, top = 1, left = 0.075, right = 1 )\n",
    "plt.savefig( f'{folder}/plots/compute_times_{uuid}.png', dpi = 300 )\n",
    "plt.close( 'all' )"
   ],
   "id": "11a6f665d406cb71",
   "outputs": [],
   "execution_count": 38
  },
  {
   "metadata": {
    "ExecuteTime": {
     "end_time": "2024-09-27T18:24:06.977882Z",
     "start_time": "2024-09-27T18:24:05.983284Z"
    }
   },
   "cell_type": "code",
   "source": "frames_already_done = check( f'{folder}/plots/3d_frames' )",
   "id": "933698b29bfd2c41",
   "outputs": [],
   "execution_count": 39
  },
  {
   "metadata": {
    "ExecuteTime": {
     "end_time": "2024-09-27T18:25:24.267963Z",
     "start_time": "2024-09-27T18:24:06.999542Z"
    }
   },
   "cell_type": "code",
   "source": [
    "for frame in tqdm( range( frames_already_done, n_frames ) ):\n",
    "\t# frame = 100\n",
    "\n",
    "\twith open( data_files[ frame ] ) as f:\n",
    "\t\tsimulation_state = json.load( f )\n",
    "\tpredicted_trajectories = array( simulation_state[ 'predicted_trajectories' ] )\n",
    "\tif predicted_trajectories.shape[ 0 ] > 100:\n",
    "\t\tpredicted_trajectories = predicted_trajectories[ ::predicted_trajectories.shape[ 0 ] // 100 ]\n",
    "\n",
    "\tfig = plt.figure( figsize = (10, 10) )\n",
    "\tview = plt.subplot( projection = '3d' )\n",
    "\tview.set_xlabel( r\"$\\mathbf{x}_w$-axis\" )\n",
    "\tview.set_ylabel( r\"$\\mathbf{y}_w$-axis\" )\n",
    "\tview.set_zlabel( r\"$\\mathbf{z}_w$-axis\" )\n",
    "\n",
    "\tinset_view_xz = view.inset_axes( [ .0, .0, .2, .2 ] )\n",
    "\tinset_view_xz.set_xlabel( r\"$\\mathbf{x}_w$-axis\" )\n",
    "\tinset_view_xz.set_ylabel( r\"$\\mathbf{z}_w$-axis\" )\n",
    "\tinset_view_xz.invert_yaxis()\n",
    "\n",
    "\tinset_view_yz = view.inset_axes( [ .8, .0, .2, .2 ] )\n",
    "\tinset_view_yz.set_xlabel( r\"$\\mathbf{y}_w$-axis\" )\n",
    "\tinset_view_yz.set_ylabel( r\"$\\mathbf{z}_w$-axis\" )\n",
    "\tinset_view_yz.invert_xaxis()\n",
    "\tinset_view_yz.invert_yaxis()\n",
    "\n",
    "\tinset_view_xy = view.inset_axes( [ .0, .8, .2, .2 ] )\n",
    "\tinset_view_xy.set_xlabel( r\"$\\mathbf{x}_w$-axis\" )\n",
    "\tinset_view_xy.set_ylabel( r\"$\\mathbf{y}_w$-axis\" )\n",
    "\tinset_view_xy.invert_yaxis()\n",
    "\n",
    "\tfor k, v in positions.items():\n",
    "\t\tif norm( pose_weight[ v, v ] ) > 0:\n",
    "\t\t\tXt = target_trajectory[ :, v ][ :, 0 ]\n",
    "\t\t\tYt = target_trajectory[ :, v ][ :, 1 ]\n",
    "\t\t\tZt = target_trajectory[ :, v ][ :, 2 ]\n",
    "\n",
    "\t\t\tview.plot( Xt, Yt, Zt, ':' )\n",
    "\t\t\tview.scatter( Xt[ frame + 1 ], Yt[ frame + 1 ], Zt[ frame + 1 ], marker = 'x' )\n",
    "\t\t\tinset_view_xz.plot( Xt, Zt, ':' )\n",
    "\t\t\tinset_view_xz.scatter( Xt[ frame + 1 ], Zt[ frame + 1 ], marker = 'x' )\n",
    "\t\t\tinset_view_yz.plot( Yt, Zt, ':' )\n",
    "\t\t\tinset_view_yz.scatter( Yt[ frame + 1 ], Zt[ frame + 1 ], marker = 'x' )\n",
    "\t\t\tinset_view_xy.plot( Xt, Yt, ':' )\n",
    "\t\t\tinset_view_xy.scatter( Xt[ frame + 1 ], Yt[ frame + 1 ], marker = 'x' )\n",
    "\n",
    "\t\tX = previous_actual_trajectory[ frame, v ][ 0 ]\n",
    "\t\tY = previous_actual_trajectory[ frame, v ][ 1 ]\n",
    "\t\tZ = previous_actual_trajectory[ frame, v ][ 2 ]\n",
    "\n",
    "\t\tview.scatter( X, Y, Z )\n",
    "\t\tinset_view_xz.scatter( X, Z )\n",
    "\t\tinset_view_yz.scatter( Y, Z )\n",
    "\t\tinset_view_xy.scatter( X, Y )\n",
    "\n",
    "\t\tfor trajectory in predicted_trajectories:\n",
    "\t\t\tX = trajectory[ :, 0, v ][ :, 0 ]\n",
    "\t\t\tY = trajectory[ :, 0, v ][ :, 1 ]\n",
    "\t\t\tZ = trajectory[ :, 0, v ][ :, 2 ]\n",
    "\n",
    "\t\t\tview.plot( X, Y, Z, linewidth = .5 )\n",
    "\t\t\tinset_view_xz.plot( X, Z, linewidth = .5 )\n",
    "\t\t\tinset_view_yz.plot( Y, Z, linewidth = .5 )\n",
    "\t\t\tinset_view_xy.plot( X, Y, linewidth = .5 )\n",
    "\n",
    "\tfor p1, p2 in positions_pairs.items():\n",
    "\t\tposition_1 = deepcopy( previous_actual_trajectory[ frame, positions[ p1 + '_position' ] ] )\n",
    "\t\tposition_2 = deepcopy( previous_actual_trajectory[ frame, positions[ p2 + '_position' ] ] )\n",
    "\n",
    "\t\tname = f'c_{p1.split( \"_\" )[ -1 ]}{p2.split( \"_\" )[ -1 ]}'\n",
    "\t\tcat = Catenary(\n",
    "\t\t\t\tconfig[ 'model' ][ 'model_dynamics' ][ name ][ 'length' ],\n",
    "\t\t\t\tconfig[ 'model' ][ 'model_dynamics' ][ name ][ 'linear_mass' ]\n",
    "\t\t\t\t)\n",
    "\t\t\n",
    "\t\tcat_12 = cat.discretize( position_1, position_2 )\n",
    "\n",
    "\t\tview.plot( cat_12[ :, 0 ], cat_12[ :, 1 ], cat_12[ :, 2 ] )\n",
    "\t\tinset_view_xz.plot( cat_12[ :, 0 ], cat_12[ :, 2 ] )\n",
    "\t\tinset_view_yz.plot( cat_12[ :, 1 ], cat_12[ :, 2 ] )\n",
    "\t\tinset_view_xy.plot( cat_12[ :, 0 ], cat_12[ :, 1 ] )\n",
    "\n",
    "\tview.axis( 'equal' )\n",
    "\tinset_view_xy.axis( 'equal' )\n",
    "\tinset_view_xz.axis( 'equal' )\n",
    "\tinset_view_yz.axis( 'equal' )\n",
    "\tview.invert_yaxis()\n",
    "\tview.invert_zaxis()\n",
    "\n",
    "\tplt.savefig( f'{folder}/plots/3d_frames/{frame}.png', dpi = 100 )\n",
    "\tplt.close( 'all' )\n",
    "\tdel fig, view, inset_view_xz, inset_view_yz, inset_view_xy"
   ],
   "id": "fbb9c8e2fc8852d9",
   "outputs": [
    {
     "name": "stderr",
     "output_type": "stream",
     "text": [
      "100%|██████████| 63/63 [01:17<00:00,  1.23s/it]\n"
     ]
    }
   ],
   "execution_count": 40
  },
  {
   "metadata": {
    "ExecuteTime": {
     "end_time": "2024-09-27T18:25:30.399807Z",
     "start_time": "2024-09-27T18:25:24.286871Z"
    }
   },
   "cell_type": "code",
   "source": "collect()",
   "id": "70338ea0a686564",
   "outputs": [
    {
     "data": {
      "text/plain": [
       "7467334"
      ]
     },
     "execution_count": 41,
     "metadata": {},
     "output_type": "execute_result"
    }
   ],
   "execution_count": 41
  },
  {
   "metadata": {
    "ExecuteTime": {
     "end_time": "2024-09-27T18:25:34.439540Z",
     "start_time": "2024-09-27T18:25:30.418260Z"
    }
   },
   "cell_type": "code",
   "source": "gif_from_pngs( f'{folder}/plots/3d_frames', duration = config[ 'model' ][ 'time_step' ] * 1000 )",
   "id": "eb26e196bad38112",
   "outputs": [],
   "execution_count": 42
  },
  {
   "metadata": {
    "ExecuteTime": {
     "end_time": "2024-09-27T18:25:34.591970Z",
     "start_time": "2024-09-27T18:25:34.491306Z"
    }
   },
   "cell_type": "code",
   "source": "collect()",
   "id": "f79cbacba01f8091",
   "outputs": [
    {
     "data": {
      "text/plain": [
       "0"
      ]
     },
     "execution_count": 43,
     "metadata": {},
     "output_type": "execute_result"
    }
   ],
   "execution_count": 43
  },
  {
   "metadata": {
    "ExecuteTime": {
     "end_time": "2024-09-27T18:25:35.066473Z",
     "start_time": "2024-09-27T18:25:34.594989Z"
    }
   },
   "cell_type": "code",
   "source": "system( f'ffmpeg -y -i {folder}/plots/3d_frames/animation.gif {folder}/plots/animation.mp4' )",
   "id": "21caf7a3eeacdfe0",
   "outputs": [
    {
     "data": {
      "text/plain": [
       "0"
      ]
     },
     "execution_count": 44,
     "metadata": {},
     "output_type": "execute_result"
    }
   ],
   "execution_count": 44
  }
 ],
 "metadata": {
  "kernelspec": {
   "display_name": "Python 3",
   "language": "python",
   "name": "python3"
  },
  "language_info": {
   "codemirror_mode": {
    "name": "ipython",
    "version": 2
   },
   "file_extension": ".py",
   "mimetype": "text/x-python",
   "name": "python",
   "nbconvert_exporter": "python",
   "pygments_lexer": "ipython2",
   "version": "3.12.3"
  }
 },
 "nbformat": 4,
 "nbformat_minor": 5
}
