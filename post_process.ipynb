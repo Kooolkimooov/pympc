{
 "cells": [
  {
   "metadata": {
    "ExecuteTime": {
     "end_time": "2024-10-08T12:05:27.730018Z",
     "start_time": "2024-10-08T12:05:20.318759Z"
    }
   },
   "cell_type": "code",
   "source": [
    "import json as json\n",
    "import pathlib as pl\n",
    "from copy import deepcopy\n",
    "from datetime import datetime\n",
    "from gc import collect\n",
    "from os import path, system\n",
    "from warnings import simplefilter\n",
    "\n",
    "import matplotlib.pyplot as plt\n",
    "from matplotlib import rcParams\n",
    "from numpy import array, zeros\n",
    "from numpy.linalg import norm\n",
    "from scipy.spatial.transform import Rotation\n",
    "from tqdm import tqdm\n",
    "\n",
    "from catenary import Catenary\n",
    "from utils import check, gif_from_pngs, print_dict\n",
    "\n",
    "simplefilter( 'ignore', RuntimeWarning )\n",
    "\n",
    "gain = 1.5\n",
    "rcParams[ 'figure.figsize' ] = [ gain * 6.4, gain * 4.8 / 2 ]"
   ],
   "id": "bbc75564e51cad8e",
   "outputs": [],
   "execution_count": 2
  },
  {
   "metadata": {
    "ExecuteTime": {
     "end_time": "2024-10-03T17:56:03.691187Z",
     "start_time": "2024-10-03T17:56:03.686559Z"
    }
   },
   "cell_type": "code",
   "source": [
    "\tfiles = list( pl.Path( \"./export\" ).glob( '*' ) )\n",
    "files.sort( key = lambda x: path.getctime( x ) )\n",
    "for v in files:\n",
    "\tprint( str( v ).split( '//' )[ -1 ], end = '\\t' )\n",
    "\tprint( datetime.fromtimestamp( path.getctime( v ) ) )"
   ],
   "id": "3423fed8fb41d212",
   "outputs": [
    {
     "name": "stdout",
     "output_type": "stream",
     "text": [
      "export/three_robots_chain_1726157070\t2024-10-03 18:22:25.531267\n",
      "export/three_robots_chain_1726514783\t2024-10-03 18:22:25.547268\n",
      "export/three_robots_chain_with_fixed_end_1726429003\t2024-10-03 18:22:25.556268\n",
      "export/three_robots_chain_with_fixed_end_1726554218\t2024-10-03 18:22:25.570269\n",
      "export/chain_of_four_1727975808\t2024-10-03 19:19:13.721646\n",
      "export/chain_of_four_1727977565\t2024-10-03 19:47:11.937823\n"
     ]
    }
   ],
   "execution_count": 77
  },
  {
   "metadata": {
    "ExecuteTime": {
     "end_time": "2024-10-03T17:56:03.799909Z",
     "start_time": "2024-10-03T17:56:03.797901Z"
    }
   },
   "cell_type": "code",
   "source": [
    "folder = pl.Path( './export/chain_of_four_1727977565' )\n",
    "uuid = str( folder ).split( '_' )[ -1 ]"
   ],
   "id": "1e61faef7e2de6ff",
   "outputs": [],
   "execution_count": 78
  },
  {
   "metadata": {
    "ExecuteTime": {
     "end_time": "2024-10-03T17:56:03.857615Z",
     "start_time": "2024-10-03T17:56:03.847996Z"
    }
   },
   "cell_type": "code",
   "source": [
    "with open( folder / 'config.json' ) as f:\n",
    "\tconfig = json.load( f )\n",
    "print_dict( config )"
   ],
   "id": "ee369b87390cc54a",
   "outputs": [
    {
     "name": "stdout",
     "output_type": "stream",
     "text": [
      "predict: _predict_non_linear\n",
      "get_actuation: _get_actuation_from_actual\n",
      "get_result: _get_result_from_actual\n",
      "model:\n",
      "\tdynamics: dynamics\n",
      "\tstep: step\n",
      "\tmodel_dynamics:\n",
      "\t\tstate_size: 48\n",
      "\t\tactuation_size: 20\n",
      "\t\tget_taunt_cable_perturbations: get_taunt_cable_perturbations\n",
      "\t\tbr_0:\n",
      "\t\t\tstate_size: 12\n",
      "\t\t\tactuation_size: 6\n",
      "\t\t\tbuild_transformation_matrix:\n",
      "\t\t\tbuild_inertial_matrix:\n",
      "\t\t\tmass: 11.5\n",
      "\t\t\tcenter_of_mass: [0.0, 0.0, 0.0]\n",
      "\t\t\tweight: [0.0, 0.0, 112.77647499999999]\n",
      "\t\t\tbuoyancy_norm: 120.0\n",
      "\t\t\tcenter_of_volume: [0.0, 0.0, -0.02]\n",
      "\t\t\twater_surface_z: 0.0\n",
      "\t\t\twater_current: [0.5, 0.5, 0.0, 0.0, 0.0, 0.0]\n",
      "\t\t\tinertial_coefficients: [0.16, 0.16, 0.16, 0.0, 0.0, 0.0]\n",
      "\t\t\thydrodynamic_coefficients: [4.03, 6.22, 5.18, 0.07, 0.07, 0.07]\n",
      "\t\t\tadded_mass_coefficients: [5.5, 12.7, 14.57, 0.12, 0.12, 0.12]\n",
      "\t\t\tinertial_matrix: (6, 6)\n",
      "\t\t\tinverse_inertial_matrix: (6, 6)\n",
      "\t\t\thydrodynamic_matrix: (6, 6)\n",
      "\t\tc_01:\n",
      "\t\t\tget_lowest_point: get_lowest_point\n",
      "\t\t\tget_perturbations: get_perturbations\n",
      "\t\t\tdiscretize: discretize\n",
      "\t\t\toptimization_function: _optimization_function_1\n",
      "\t\t\tget_parameters: _get_parameters_optimization\n",
      "\t\t\tlength: 3.0\n",
      "\t\t\tlinear_mass: 0.0\n",
      "\t\tbr_1:\n",
      "\t\t\tstate_size: 12\n",
      "\t\t\tactuation_size: 6\n",
      "\t\t\tbuild_transformation_matrix:\n",
      "\t\t\tbuild_inertial_matrix:\n",
      "\t\t\tmass: 11.5\n",
      "\t\t\tcenter_of_mass: [0.0, 0.0, 0.0]\n",
      "\t\t\tweight: [0.0, 0.0, 112.77647499999999]\n",
      "\t\t\tbuoyancy_norm: 120.0\n",
      "\t\t\tcenter_of_volume: [0.0, 0.0, -0.02]\n",
      "\t\t\twater_surface_z: 0.0\n",
      "\t\t\twater_current: [0.5, 0.5, 0.0, 0.0, 0.0, 0.0]\n",
      "\t\t\tinertial_coefficients: [0.16, 0.16, 0.16, 0.0, 0.0, 0.0]\n",
      "\t\t\thydrodynamic_coefficients: [4.03, 6.22, 5.18, 0.07, 0.07, 0.07]\n",
      "\t\t\tadded_mass_coefficients: [5.5, 12.7, 14.57, 0.12, 0.12, 0.12]\n",
      "\t\t\tinertial_matrix: (6, 6)\n",
      "\t\t\tinverse_inertial_matrix: (6, 6)\n",
      "\t\t\thydrodynamic_matrix: (6, 6)\n",
      "\t\tc_12:\n",
      "\t\t\tget_lowest_point: get_lowest_point\n",
      "\t\t\tget_perturbations: get_perturbations\n",
      "\t\t\tdiscretize: discretize\n",
      "\t\t\toptimization_function: _optimization_function_1\n",
      "\t\t\tget_parameters: _get_parameters_optimization\n",
      "\t\t\tlength: 3.0\n",
      "\t\t\tlinear_mass: 0.0\n",
      "\t\tbr_2:\n",
      "\t\t\tstate_size: 12\n",
      "\t\t\tactuation_size: 6\n",
      "\t\t\tbuild_transformation_matrix:\n",
      "\t\t\tbuild_inertial_matrix:\n",
      "\t\t\tmass: 11.5\n",
      "\t\t\tcenter_of_mass: [0.0, 0.0, 0.0]\n",
      "\t\t\tweight: [0.0, 0.0, 112.77647499999999]\n",
      "\t\t\tbuoyancy_norm: 120.0\n",
      "\t\t\tcenter_of_volume: [0.0, 0.0, -0.02]\n",
      "\t\t\twater_surface_z: 0.0\n",
      "\t\t\twater_current: [0.5, 0.5, 0.0, 0.0, 0.0, 0.0]\n",
      "\t\t\tinertial_coefficients: [0.16, 0.16, 0.16, 0.0, 0.0, 0.0]\n",
      "\t\t\thydrodynamic_coefficients: [4.03, 6.22, 5.18, 0.07, 0.07, 0.07]\n",
      "\t\t\tadded_mass_coefficients: [5.5, 12.7, 14.57, 0.12, 0.12, 0.12]\n",
      "\t\t\tinertial_matrix: (6, 6)\n",
      "\t\t\tinverse_inertial_matrix: (6, 6)\n",
      "\t\t\thydrodynamic_matrix: (6, 6)\n",
      "\t\tc_23:\n",
      "\t\t\tget_lowest_point: get_lowest_point\n",
      "\t\t\tget_perturbations: get_perturbations\n",
      "\t\t\tdiscretize: discretize\n",
      "\t\t\toptimization_function: _optimization_function_1\n",
      "\t\t\tget_parameters: _get_parameters_optimization\n",
      "\t\t\tlength: 3.0\n",
      "\t\t\tlinear_mass: 0.0\n",
      "\t\tbr_3:\n",
      "\t\t\tstate_size: 12\n",
      "\t\t\tactuation_size: 2\n",
      "\t\t\tbuild_transformation_matrix:\n",
      "\t\t\tbuild_inertial_matrix:\n",
      "\t\t\tmass: 11.5\n",
      "\t\t\tcenter_of_mass: [0.0, 0.0, 0.0]\n",
      "\t\t\tweight: [0.0, 0.0, 112.77647499999999]\n",
      "\t\t\tbuoyancy_norm: 120.0\n",
      "\t\t\tcenter_of_volume: [0.0, 0.0, -0.02]\n",
      "\t\t\twater_surface_z: 0.0\n",
      "\t\t\twater_current: [0.0, 0.0, 0.0, 0.0, 0.0, 0.0]\n",
      "\t\t\tinertial_coefficients: [0.16, 0.16, 0.16, 0.0, 0.0, 0.0]\n",
      "\t\t\thydrodynamic_coefficients: [4.03, 6.22, 5.18, 0.07, 0.07, 0.07]\n",
      "\t\t\tadded_mass_coefficients: [5.5, 12.7, 14.57, 0.12, 0.12, 0.12]\n",
      "\t\t\tinertial_matrix: (6, 6)\n",
      "\t\t\tinverse_inertial_matrix: (6, 6)\n",
      "\t\t\thydrodynamic_matrix: (6, 6)\n",
      "\t\tbr_0_pose: 0:6:None\n",
      "\t\tbr_0_position: 0:3:None\n",
      "\t\tbr_0_xy: 0:2:None\n",
      "\t\tbr_0_z: 2\n",
      "\t\tbr_0_orientation: 3:6:None\n",
      "\t\tbr_1_pose: 6:12:None\n",
      "\t\tbr_1_position: 6:9:None\n",
      "\t\tbr_1_xy: 6:8:None\n",
      "\t\tbr_1_z: 8\n",
      "\t\tbr_1_orientation: 9:12:None\n",
      "\t\tbr_2_pose: 12:18:None\n",
      "\t\tbr_2_position: 12:15:None\n",
      "\t\tbr_2_xy: 12:14:None\n",
      "\t\tbr_2_z: 14\n",
      "\t\tbr_2_orientation: 15:18:None\n",
      "\t\tbr_3_pose: 18:24:None\n",
      "\t\tbr_3_position: 18:21:None\n",
      "\t\tbr_3_xy: 18:20:None\n",
      "\t\tbr_3_z: 20\n",
      "\t\tbr_3_orientation: 21:24:None\n",
      "\t\tbr_0_speed: 24:30:None\n",
      "\t\tbr_0_linear_speed: 24:27:None\n",
      "\t\tbr_0_angular_speed: 27:30:None\n",
      "\t\tbr_1_speed: 30:36:None\n",
      "\t\tbr_1_linear_speed: 30:33:None\n",
      "\t\tbr_1_angular_speed: 33:36:None\n",
      "\t\tbr_2_speed: 36:42:None\n",
      "\t\tbr_2_linear_speed: 36:39:None\n",
      "\t\tbr_2_angular_speed: 39:42:None\n",
      "\t\tbr_3_speed: 42:48:None\n",
      "\t\tbr_3_linear_speed: 42:45:None\n",
      "\t\tbr_3_angular_speed: 45:48:None\n",
      "\t\tbr_0_actuation_start: 0\n",
      "\t\tbr_0_actuation: 0:6:None\n",
      "\t\tbr_0_linear_actuation: 0:3:None\n",
      "\t\tbr_0_angular_actuation: 3:6:None\n",
      "\t\tbr_1_actuation_start: 6\n",
      "\t\tbr_1_actuation: 6:12:None\n",
      "\t\tbr_1_linear_actuation: 6:9:None\n",
      "\t\tbr_1_angular_actuation: 9:12:None\n",
      "\t\tbr_2_actuation: 12:18:None\n",
      "\t\tbr_2_actuation_start: 12\n",
      "\t\tbr_2_linear_actuation: 12:15:None\n",
      "\t\tbr_2_angular_actuation: 15:18:None\n",
      "\t\tbr_3_actuation: 18:20:None\n",
      "\t\tbr_3_actuation_start: 18\n",
      "\t\tbr_3_linear_actuation: 18\n",
      "\t\tbr_3_angular_actuation: 19\n",
      "\t\tbr_0_state: (12,)\n",
      "\t\tbr_1_state: (12,)\n",
      "\t\tbr_2_state: (12,)\n",
      "\t\tbr_3_state: (12,)\n",
      "\ttime_step: 0.1\n",
      "\tstate: (48,)\n",
      "\tactuation: (20,)\n",
      "\tkwargs:\n",
      "\trecord: True\n",
      "\tprevious_states: (1, 48)\n",
      "\tprevious_actuations: (1, 20)\n",
      "horizon: 5\n",
      "target_trajectory: (400, 1, 24)\n",
      "objective: chain_of_4_objective\n",
      "time_step: 0.1\n",
      "time_steps_per_actuation: 5\n",
      "guess_from_last_solution: True\n",
      "tolerance: 1e-06\n",
      "max_iter: 100\n",
      "bounds: None\n",
      "constraints:\n",
      "\t0:\n",
      "\t\tfun: chain_of_4_constraints\n",
      "\t\tlb: (45,)\n",
      "\t\tub: (45,)\n",
      "\t\tfinite_diff_rel_step: None\n",
      "\t\tfinite_diff_jac_sparsity: None\n",
      "\t\tjac: 2-point\n",
      "\t\thess:\n",
      "\t\t\tinitialize: initialize\n",
      "\t\t\tupdate: update\n",
      "\t\t\tdot: dot\n",
      "\t\t\tget_matrix: get_matrix\n",
      "\t\t\tmin_curvature: 1e-08\n",
      "\t\t\tinit_scale: auto\n",
      "\t\t\tfirst_iteration: None\n",
      "\t\t\tapprox_type: None\n",
      "\t\t\tB: None\n",
      "\t\t\tH: None\n",
      "\t\t\texception_strategy: skip_update\n",
      "\t\tkeep_feasible: False\n",
      "\t\tlabels: ['$z_0+H_{01}$', '$z_1+H_{12}$', '$z_2+H_{2fe}$', '$|P_0^{x,y}-P_1^{x,y}|$', '$|P_1^{x,y}-P_2^{x,y}|$', '$|P_2^{x,y}-P_fe^{x,y}|$', '$|P_0^{x,y,z}-P_1^{x,y,z}|$', '$|P_1^{x,y,z}-P_2^{x,y,z}|$', '$|P_2^{x,y,z}-P_fe^{x,y,z}|$']\n",
      "result_shape: [1, 1, 20]\n",
      "raw_result: None\n",
      "result: (20,)\n",
      "pose_weight_matrix: (5, 24, 24)\n",
      "actuation_derivative_weight_matrix: (1, 20, 20)\n",
      "objective_weight: 0.2\n",
      "final_weight: 0.0\n",
      "record: True\n",
      "predicted_trajectories: []\n",
      "candidate_actuations: []\n",
      "compute_times: []\n",
      "verbose: False\n",
      "constraints_function: chain_of_4_constraints\n",
      "os: Linux\n",
      "os_release: 6.8.0-45-generic\n",
      "os_version: #45-Ubuntu SMP PREEMPT_DYNAMIC Fri Aug 30 12:02:04 UTC 2024\n",
      "cpu:\n",
      "\tpython_version: 3.12.3.final.0 (64 bit)\n",
      "\tcpuinfo_version: [9, 0, 0]\n",
      "\tcpuinfo_version_string: 9.0.0\n",
      "\tarch: X86_64\n",
      "\tbits: 64\n",
      "\tcount: 16\n",
      "\tarch_string_raw: x86_64\n",
      "\tvendor_id_raw: AuthenticAMD\n",
      "\tbrand_raw: AMD Ryzen 7 5800X 8-Core Processor\n",
      "\thz_advertised_friendly: 4.1918 GHz\n",
      "\thz_actual_friendly: 4.1918 GHz\n",
      "\thz_advertised: [4191828000, 0]\n",
      "\thz_actual: [4191828000, 0]\n",
      "\tstepping: 2\n",
      "\tmodel: 33\n",
      "\tfamily: 25\n",
      "\tflags: (146,)\n",
      "\tl3_cache_size: 524288\n",
      "\tl2_cache_size: 4194304\n",
      "\tl1_data_cache_size: 262144\n",
      "\tl1_instruction_cache_size: 262144\n",
      "\tl2_cache_line_size: 512\n",
      "\tl2_cache_associativity: 6\n"
     ]
    }
   ],
   "execution_count": 79
  },
  {
   "metadata": {
    "ExecuteTime": {
     "end_time": "2024-10-03T17:56:03.899661Z",
     "start_time": "2024-10-03T17:56:03.895917Z"
    }
   },
   "cell_type": "code",
   "source": [
    "slice_repository = { }\n",
    "axes = [ 'x', 'y', 'z', 'phi', 'theta', 'psi', 'u', 'v', 'w', 'p', 'q', 'r' ]\n",
    "\n",
    "for k, v in config[ 'model' ][ 'model_dynamics' ].items():\n",
    "\tif isinstance( v, str ) and ':' in v:\n",
    "\t\tslice_repository[ k ] = slice( *[ int( v ) if v != 'None' else None for v in v.split( ':' ) ] )\n",
    "\telif isinstance( v, int ) and 'br_' in k:\n",
    "\t\tslice_repository[ k ] = v\n",
    "\n",
    "pose = { k: v for k, v in slice_repository.items() if 'pose' in k }\n",
    "positions = { k: v for k, v in slice_repository.items() if 'position' in k }\n",
    "orientations = { k: v for k, v in slice_repository.items() if 'orientation' in k }\n",
    "positions_pairs = { '_'.join( a.split( '_' )[ :2 ] ): '_'.join( b.split( '_' )[ :2 ] ) for a, b in\n",
    "\t\t\t\t\t\t\t\t\t\tzip( list( positions )[ :-1 ], list( positions )[ 1: ] ) }\n",
    "speeds = { k: v for k, v in slice_repository.items() if 'linear_speed' in k }\n",
    "linear_actuation = { k: v for k, v in slice_repository.items() if 'linear_actuation' in k }\n",
    "angular_actuation = { k: v for k, v in slice_repository.items() if 'angular_actuation' in k }"
   ],
   "id": "e41a877a5d6a4b88",
   "outputs": [],
   "execution_count": 80
  },
  {
   "metadata": {
    "ExecuteTime": {
     "end_time": "2024-10-03T17:56:03.948363Z",
     "start_time": "2024-10-03T17:56:03.945708Z"
    }
   },
   "cell_type": "code",
   "source": [
    "for i, c in enumerate( config[ 'constraints' ] ):\n",
    "\tprint( f'Constraint {i}' )\n",
    "\tfor j, l in enumerate( c[ 'labels' ] ):\n",
    "\t\tprint( f'\\t{j}: {l}' )"
   ],
   "id": "83ea0a6d13a78b37",
   "outputs": [
    {
     "name": "stdout",
     "output_type": "stream",
     "text": [
      "Constraint 0\n",
      "\t0: $z_0+H_{01}$\n",
      "\t1: $z_1+H_{12}$\n",
      "\t2: $z_2+H_{2fe}$\n",
      "\t3: $|P_0^{x,y}-P_1^{x,y}|$\n",
      "\t4: $|P_1^{x,y}-P_2^{x,y}|$\n",
      "\t5: $|P_2^{x,y}-P_fe^{x,y}|$\n",
      "\t6: $|P_0^{x,y,z}-P_1^{x,y,z}|$\n",
      "\t7: $|P_1^{x,y,z}-P_2^{x,y,z}|$\n",
      "\t8: $|P_2^{x,y,z}-P_fe^{x,y,z}|$\n"
     ]
    }
   ],
   "execution_count": 81
  },
  {
   "metadata": {
    "ExecuteTime": {
     "end_time": "2024-10-03T17:56:04.013663Z",
     "start_time": "2024-10-03T17:56:03.995909Z"
    }
   },
   "cell_type": "code",
   "source": [
    "data_files = list( folder.glob( 'data/*' ) )\n",
    "data_files.sort( key = lambda x: path.getmtime( x ) )\n",
    "with open( data_files[ -1 ] ) as f:\n",
    "\tfinal_state = json.load( f )\n",
    "\n",
    "times = [ config[ 'model' ][ 'time_step' ] * i for i in range( len( config[ 'target_trajectory' ] ) ) ]\n",
    "target_trajectory = array( config[ 'target_trajectory' ] )[ :, 0 ]\n",
    "\n",
    "n_frames = len( data_files )\n",
    "previous_times = [ config[ 'model' ][ 'time_step' ] * i for i in range( n_frames ) ]\n",
    "previous_target_trajectory = target_trajectory[ :n_frames ]\n",
    "previous_actual_trajectory = array( final_state[ 'model' ][ 'previous_states' ] )[ 1:,\n",
    "\t\t\t\t\t\t\t\t\t\t\t\t\t\t :config[ 'model' ][ 'model_dynamics' ][ 'state_size' ] ]\n",
    "\n",
    "previous_actuations = array( final_state[ 'model' ][ 'previous_actuations' ] )\n",
    "\n",
    "pose_weight = array( config[ 'pose_weight_matrix' ][ 0 ] )"
   ],
   "id": "252ce6f553188374",
   "outputs": [],
   "execution_count": 82
  },
  {
   "metadata": {
    "ExecuteTime": {
     "end_time": "2024-10-03T17:56:06.471145Z",
     "start_time": "2024-10-03T17:56:04.055155Z"
    }
   },
   "cell_type": "code",
   "source": "check( f'{folder}/plots' )",
   "id": "179c0cc902a616f",
   "outputs": [
    {
     "data": {
      "text/plain": [
       "24"
      ]
     },
     "execution_count": 83,
     "metadata": {},
     "output_type": "execute_result"
    }
   ],
   "execution_count": 83
  },
  {
   "metadata": {
    "ExecuteTime": {
     "end_time": "2024-10-03T17:56:06.685794Z",
     "start_time": "2024-10-03T17:56:06.507120Z"
    }
   },
   "cell_type": "code",
   "source": [
    "for k, v in positions.items():\n",
    "\tif norm( pose_weight[ v, v ] ) == 0:\n",
    "\t\tcontinue\n",
    "\tabsolute_distances = abs( previous_target_trajectory[ :, v ] - previous_actual_trajectory[ :, v ] )\n",
    "\tplt.plot( previous_times, absolute_distances )\n",
    "\tplt.legend(\n",
    "\t\t\t[\n",
    "\t\t\t\t\tr'over $\\mathbf{x}_w$-axis',\n",
    "\t\t\t\t\tr'over $\\mathbf{y}_w$-axis',\n",
    "\t\t\t\t\tr'over $\\mathbf{z}_w$-axis'\n",
    "\t\t\t\t\t]\n",
    "\t\t\t)\n",
    "\tplt.xlabel( 'time [s]' )\n",
    "\tplt.ylabel( 'absolute error [m]' )\n",
    "\tplt.subplots_adjust( bottom = 0.125, top = 1, left = 0.075, right = 1 )\n",
    "\tplt.savefig( f'{folder}/plots/{k}_tracking_error_{uuid}.png', dpi = 300 )\n",
    "\tplt.close( 'all' )"
   ],
   "id": "608ffdcdd3d4fd98",
   "outputs": [],
   "execution_count": 84
  },
  {
   "metadata": {
    "ExecuteTime": {
     "end_time": "2024-10-03T17:56:07.314748Z",
     "start_time": "2024-10-03T17:56:06.717050Z"
    }
   },
   "cell_type": "code",
   "source": [
    "for k, v in orientations.items():\n",
    "\tif norm( pose_weight[ v, v ] ) == 0:\n",
    "\t\tcontinue\n",
    "\tplt.plot( previous_times, abs( previous_target_trajectory[ :, v ] - previous_actual_trajectory[ :, v ] ) )\n",
    "\tplt.legend(\n",
    "\t\t\t[\n",
    "\t\t\t\t\tr'around $\\mathbf{x}_w$-axis',\n",
    "\t\t\t\t\tr'around $\\mathbf{y}_w$-axis',\n",
    "\t\t\t\t\tr'around $\\mathbf{z}_w$-axis'\n",
    "\t\t\t\t\t]\n",
    "\t\t\t)\n",
    "\tplt.xlabel( 'time [s]' )\n",
    "\tplt.ylabel( 'absolute error [rad]' )\n",
    "\tplt.subplots_adjust( bottom = 0.125, top = 1, left = 0.075, right = 1 )\n",
    "\tplt.savefig( f'{folder}/plots/{k}_tracking_error_{uuid}.png', dpi = 300 )\n",
    "\tplt.close( 'all' )"
   ],
   "id": "3cfcd0e3074aff59",
   "outputs": [],
   "execution_count": 85
  },
  {
   "metadata": {
    "ExecuteTime": {
     "end_time": "2024-10-03T17:56:08.237978Z",
     "start_time": "2024-10-03T17:56:07.345577Z"
    }
   },
   "cell_type": "code",
   "source": [
    "for k, v in linear_actuation.items():\n",
    "\tplt.plot( previous_times, previous_actuations[ :-1, v ] )\n",
    "\tplt.xlabel( 'time [s]' )\n",
    "\tplt.ylabel( 'actuation [N]' )\n",
    "\tplt.legend(\n",
    "\t\t\t[\n",
    "\t\t\t\t\tr'over $\\mathbf{x}_r$-axis',\n",
    "\t\t\t\t\tr'over $\\mathbf{y}_r$-axis',\n",
    "\t\t\t\t\tr'over $\\mathbf{z}_r$-axis'\n",
    "\t\t\t\t\t]\n",
    "\t\t\t)\n",
    "\tplt.subplots_adjust( bottom = 0.125, top = 1, left = 0.075, right = 1 )\n",
    "\tplt.savefig( f'{folder}/plots/{k}_{uuid}.png', dpi = 300 )\n",
    "\tplt.close( 'all' )"
   ],
   "id": "d3ce72c654dc4014",
   "outputs": [],
   "execution_count": 86
  },
  {
   "metadata": {
    "ExecuteTime": {
     "end_time": "2024-10-03T17:56:08.955090Z",
     "start_time": "2024-10-03T17:56:08.269864Z"
    }
   },
   "cell_type": "code",
   "source": [
    "for k, v in angular_actuation.items():\n",
    "\tplt.plot( previous_times, previous_actuations[ :-1, v ] )\n",
    "\tplt.xlabel( 'time [s]' )\n",
    "\tplt.ylabel( 'actuation [Nm]' )\n",
    "\tplt.legend(\n",
    "\t\t\t[\n",
    "\t\t\t\t\tr'around $\\mathbf{x}_r$-axis',\n",
    "\t\t\t\t\tr'around $\\mathbf{y}_r$-axis',\n",
    "\t\t\t\t\tr'around $\\mathbf{z}_r$-axis'\n",
    "\t\t\t\t\t]\n",
    "\t\t\t)\n",
    "\tplt.subplots_adjust( bottom = 0.125, top = 1, left = 0.075, right = 1 )\n",
    "\tplt.savefig( f'{folder}/plots/{k}_{uuid}.png', dpi = 300 )\n",
    "\tplt.close( 'all' )"
   ],
   "id": "8e1cc090d6aeb520",
   "outputs": [],
   "execution_count": 87
  },
  {
   "metadata": {
    "ExecuteTime": {
     "end_time": "2024-10-03T17:56:09.209629Z",
     "start_time": "2024-10-03T17:56:08.979209Z"
    }
   },
   "cell_type": "code",
   "source": [
    "for pair_1, pair_2 in positions_pairs.items():\n",
    "\tposition_1 = deepcopy( previous_actual_trajectory[ :, slice_repository[ pair_1 + '_position' ] ] )\n",
    "\tposition_2 = deepcopy( previous_actual_trajectory[ :, slice_repository[ pair_2 + '_position' ] ] )\n",
    "\n",
    "\tlowest_points = zeros( (position_1.shape[ 0 ],) )\n",
    "\n",
    "\tname = f'c_{pair_1.split( \"_\" )[ -1 ]}{pair_2.split( \"_\" )[ -1 ]}'\n",
    "\tcat = Catenary(\n",
    "\t\t\tconfig[ 'model' ][ 'model_dynamics' ][ name ][ 'length' ],\n",
    "\t\t\tconfig[ 'model' ][ 'model_dynamics' ][ name ][ 'linear_mass' ]\n",
    "\t\t\t)\n",
    "\n",
    "\tfor i, (p1, p2) in enumerate( zip( position_1, position_2 ) ):\n",
    "\t\tlowest_points[ i ] = cat.get_lowest_point( p1, p2 )[ 2 ]\n",
    "\n",
    "\tplt.plot( previous_times, lowest_points )\n",
    "\n",
    "plt.legend( [ f'from {a} to {b}' for a, b in positions_pairs.items() ] )\n",
    "plt.xlabel( 'time [s]' )\n",
    "plt.ylabel( 'distance [m]' )\n",
    "plt.subplots_adjust( bottom = 0.125, top = 1, left = 0.075, right = 1 )\n",
    "plt.gca().invert_yaxis()\n",
    "plt.savefig( f'{folder}/plots/lowest_points_{uuid}.png', dpi = 300 )\n",
    "plt.close( 'all' )"
   ],
   "id": "f24c7e7b52d28c00",
   "outputs": [],
   "execution_count": 88
  },
  {
   "metadata": {
    "ExecuteTime": {
     "end_time": "2024-10-03T17:56:09.412566Z",
     "start_time": "2024-10-03T17:56:09.237629Z"
    }
   },
   "cell_type": "code",
   "source": [
    "for pair_1, pair_2 in positions_pairs.items():\n",
    "\tabsolute_distances = norm(\n",
    "\t\t\tprevious_actual_trajectory[ :, positions[ pair_1 + '_position' ] ] -\n",
    "\t\t\tprevious_actual_trajectory[ :, positions[ pair_2 + '_position' ] ],\n",
    "\t\t\taxis = 1\n",
    "\t\t\t)\n",
    "\tplt.plot( previous_times, absolute_distances )\n",
    "plt.legend( [ f'from {a} to {b}' for a, b in positions_pairs.items() ] )\n",
    "plt.xlabel( 'time [s]' )\n",
    "plt.ylabel( 'distance [m]' )\n",
    "plt.subplots_adjust( bottom = 0.125, top = 1, left = 0.075, right = 1 )\n",
    "plt.savefig( f'{folder}/plots/distance_{uuid}.png', dpi = 300 )\n",
    "plt.close( 'all' )"
   ],
   "id": "bcc5c58b0ed123b0",
   "outputs": [],
   "execution_count": 89
  },
  {
   "metadata": {
    "ExecuteTime": {
     "end_time": "2024-10-03T17:56:09.612955Z",
     "start_time": "2024-10-03T17:56:09.440579Z"
    }
   },
   "cell_type": "code",
   "source": [
    "for p1, p2 in positions_pairs.items():\n",
    "\tabsolute_distances = norm(\n",
    "\t\t\tprevious_actual_trajectory[ :, slice_repository[ p1 + '_xy' ] ] -\n",
    "\t\t\tprevious_actual_trajectory[ :, slice_repository[ p2 + '_xy' ] ],\n",
    "\t\t\taxis = 1\n",
    "\t\t\t)\n",
    "\tplt.plot( previous_times, absolute_distances )\n",
    "plt.legend( [ f'from {a} to {b}' for a, b in positions_pairs.items() ] )\n",
    "plt.xlabel( 'time [s]' )\n",
    "plt.ylabel( 'distance [m]' )\n",
    "plt.subplots_adjust( bottom = 0.125, top = 1, left = 0.075, right = 1 )\n",
    "plt.savefig( f'{folder}/plots/horizontal_distance_{uuid}.png', dpi = 300 )\n",
    "plt.close( 'all' )"
   ],
   "id": "5652214d517da19",
   "outputs": [],
   "execution_count": 90
  },
  {
   "metadata": {
    "ExecuteTime": {
     "end_time": "2024-10-03T17:56:10.180591Z",
     "start_time": "2024-10-03T17:56:09.639662Z"
    }
   },
   "cell_type": "code",
   "source": [
    "figs = [ 'x', 'y', 'z' ]\n",
    "\n",
    "x = plt.figure().subplots()\n",
    "y = plt.figure().subplots()\n",
    "z = plt.figure().subplots()\n",
    "z.invert_yaxis()\n",
    "\n",
    "legends = [ [ ], [ ], [ ] ]\n",
    "\n",
    "for k, v in positions.items():\n",
    "\tposition = previous_actual_trajectory[ :, v ]\n",
    "\n",
    "\tX = position[ :, 0 ]\n",
    "\tY = position[ :, 1 ]\n",
    "\tZ = position[ :, 2 ]\n",
    "\n",
    "\tx.plot( previous_times, X )\n",
    "\ty.plot( previous_times, Y )\n",
    "\tz.plot( previous_times, Z )\n",
    "\n",
    "\tfor i in range( 3 ):\n",
    "\t\tlegends[ i ] += [ f'{k}' ]\n",
    "\n",
    "\tif norm( pose_weight[ v, v ][ :, 0 ] ) > 0:\n",
    "\t\ttarget = previous_target_trajectory[ :, v ][ :, 0 ]\n",
    "\t\tx.plot( previous_times, target, ':', linewidth = 3 )\n",
    "\t\tlegends[ 0 ] += [ f'{k} target' ]\n",
    "\n",
    "\tif norm( pose_weight[ v, v ][ :, 1 ] ) > 0:\n",
    "\t\ttarget = previous_target_trajectory[ :, v ][ :, 1 ]\n",
    "\t\ty.plot( previous_times, target, ':', linewidth = 3 )\n",
    "\t\tlegends[ 1 ] += [ f'{k} target' ]\n",
    "\n",
    "\tif norm( pose_weight[ v, v ][ :, 2 ] ) > 0:\n",
    "\t\ttarget = previous_target_trajectory[ :, v ][ :, 2 ]\n",
    "\t\tz.plot( previous_times, target, ':', linewidth = 3 )\n",
    "\t\tlegends[ 2 ] += [ f'{k} target' ]\n",
    "\n",
    "for f in plt.get_fignums():\n",
    "\tfig = plt.figure( f )\n",
    "\tplt.legend( legends[ f - 1 ] )\n",
    "\tplt.xlabel( 'time [s]' )\n",
    "\tplt.ylabel( f'position on $\\\\mathbf{{{figs[ f - 1 ]}}}_w$-axis [m]' )\n",
    "\tplt.subplots_adjust( bottom = 0.125, top = 1, left = 0.075, right = 1 )\n",
    "\tplt.savefig( f'{folder}/plots/positions_on_{figs[ f - 1 ]}_{uuid}.png', dpi = 300 )\n",
    "plt.close( 'all' )"
   ],
   "id": "5bcb8d886f34b586",
   "outputs": [],
   "execution_count": 91
  },
  {
   "metadata": {
    "ExecuteTime": {
     "end_time": "2024-10-03T17:56:10.865600Z",
     "start_time": "2024-10-03T17:56:10.212478Z"
    }
   },
   "cell_type": "code",
   "source": [
    "figs = [ 'x', 'y', 'z' ]\n",
    "\n",
    "x = plt.figure().subplots()\n",
    "y = plt.figure().subplots()\n",
    "z = plt.figure().subplots()\n",
    "z.invert_yaxis()\n",
    "\n",
    "legends = [ [ ], [ ], [ ] ]\n",
    "\n",
    "for k, v in speeds.items():\n",
    "\tspeed = previous_actual_trajectory[ :, v ]\n",
    "\n",
    "\tX = speed[ :, 0 ]\n",
    "\tY = speed[ :, 1 ]\n",
    "\tZ = speed[ :, 2 ]\n",
    "\n",
    "\tx.plot( previous_times, X )\n",
    "\ty.plot( previous_times, Y )\n",
    "\tz.plot( previous_times, Z )\n",
    "\n",
    "\tfor i in range( 3 ):\n",
    "\t\tlegends[ i ] += [ f'{k}' ]\n",
    "\n",
    "for f in plt.get_fignums():\n",
    "\tfig = plt.figure( f )\n",
    "\tplt.legend( legends[ f - 1 ] )\n",
    "\tplt.xlabel( 'time [s]' )\n",
    "\tplt.ylabel( f'speed on $\\\\mathbf{{{figs[ f - 1 ]}}}_r$-axis [m/s]' )\n",
    "\tplt.subplots_adjust( bottom = 0.125, top = 1, left = 0.075, right = 1 )\n",
    "\tplt.savefig( f'{folder}/plots/speeds_on_{figs[ f - 1 ]}_{uuid}.png', dpi = 300 )\n",
    "plt.close( 'all' )"
   ],
   "id": "93f40afd47b7d607",
   "outputs": [],
   "execution_count": 92
  },
  {
   "metadata": {
    "ExecuteTime": {
     "end_time": "2024-10-03T17:56:11.073569Z",
     "start_time": "2024-10-03T17:56:10.899076Z"
    }
   },
   "cell_type": "code",
   "source": [
    "plt.plot( previous_times, final_state[ 'compute_times' ] )\n",
    "plt.hlines( config[ 'model' ][ 'time_step' ] * config[ 'horizon' ], 0, previous_times[ -1 ], 'r', '--' )\n",
    "plt.legend( [ 'compute time', 'horizon depth' ] )\n",
    "plt.xlabel( 'time [s]' )\n",
    "plt.ylabel( 'time [s]' )\n",
    "plt.subplots_adjust( bottom = 0.125, top = 1, left = 0.075, right = 1 )\n",
    "plt.savefig( f'{folder}/plots/compute_times_{uuid}.png', dpi = 300 )\n",
    "plt.close( 'all' )"
   ],
   "id": "fa7d95363674979c",
   "outputs": [],
   "execution_count": 93
  },
  {
   "metadata": {
    "ExecuteTime": {
     "end_time": "2024-10-03T17:56:12.331619Z",
     "start_time": "2024-10-03T17:56:11.106609Z"
    }
   },
   "cell_type": "code",
   "source": "frames_already_done = check( f'{folder}/plots/3d_frames' )",
   "id": "ad389f2c68bbfa6f",
   "outputs": [],
   "execution_count": 94
  },
  {
   "metadata": {
    "ExecuteTime": {
     "end_time": "2024-10-03T17:57:43.682981Z",
     "start_time": "2024-10-03T17:56:12.366620Z"
    }
   },
   "cell_type": "code",
   "source": [
    "robots_colors = { '0': 'r', '1': 'g', '2': 'b', '3': 'y', '4': 'm' }\n",
    "quiver_scale = .5\n",
    "box = [ [ -3, 8 ], [ -5.5, 5.5 ], [ -5, 6 ] ]\n",
    "\n",
    "for frame in tqdm( range( frames_already_done, n_frames ) ):\n",
    "\t# frame = 100\n",
    "\n",
    "\twith open( data_files[ frame ] ) as f:\n",
    "\t\tsimulation_state = json.load( f )\n",
    "\tpredicted_trajectories = array( simulation_state[ 'predicted_trajectories' ] )\n",
    "\tif predicted_trajectories.shape[ 0 ] > 100:\n",
    "\t\tpredicted_trajectories = predicted_trajectories[ ::predicted_trajectories.shape[ 0 ] // 100 ]\n",
    "\n",
    "\tfig = plt.figure( figsize = (10, 10) )\n",
    "\tview = plt.subplot( projection = '3d' )\n",
    "\tview.set_xlabel( r\"$\\mathbf{x}_w$-axis\" )\n",
    "\tview.set_ylabel( r\"$\\mathbf{y}_w$-axis\" )\n",
    "\tview.set_zlabel( r\"$\\mathbf{z}_w$-axis\" )\n",
    "\tview.set_xlim( *box[ 0 ] )\n",
    "\tview.set_ylim( *box[ 1 ] )\n",
    "\tview.set_zlim( *box[ 2 ] )\n",
    "\tview.invert_yaxis()\n",
    "\tview.invert_zaxis()\n",
    "\n",
    "\tinset_view_xz = view.inset_axes( [ .0, .0, .2, .2 ] )\n",
    "\tinset_view_xz.set_xlabel( r\"$\\mathbf{x}_w$-axis\" )\n",
    "\tinset_view_xz.set_ylabel( r\"$\\mathbf{z}_w$-axis\" )\n",
    "\tinset_view_xz.set_xlim( *box[ 0 ] )\n",
    "\tinset_view_xz.set_ylim( *box[ 2 ] )\n",
    "\tinset_view_xz.invert_yaxis()\n",
    "\n",
    "\tinset_view_yz = view.inset_axes( [ .8, .0, .2, .2 ] )\n",
    "\tinset_view_yz.set_xlabel( r\"$\\mathbf{y}_w$-axis\" )\n",
    "\tinset_view_yz.set_ylabel( r\"$\\mathbf{z}_w$-axis\" )\n",
    "\tinset_view_yz.set_xlim( *box[ 1 ] )\n",
    "\tinset_view_yz.set_ylim( *box[ 2 ] )\n",
    "\tinset_view_yz.invert_yaxis()\n",
    "\tinset_view_yz.invert_xaxis()\n",
    "\n",
    "\tinset_view_xy = view.inset_axes( [ .0, .8, .2, .2 ] )\n",
    "\tinset_view_xy.set_xlabel( r\"$\\mathbf{x}_w$-axis\" )\n",
    "\tinset_view_xy.set_ylabel( r\"$\\mathbf{y}_w$-axis\" )\n",
    "\tinset_view_xy.set_xlim( *box[ 0 ] )\n",
    "\tinset_view_xy.set_ylim( *box[ 1 ] )\n",
    "\tinset_view_xy.invert_yaxis()\n",
    "\n",
    "\tfor k, v in pose.items():\n",
    "\n",
    "\t\tcolor = robots_colors[ k.split( '_' )[ 1 ] ]\n",
    "\n",
    "\t\tif norm( pose_weight[ v, v ][ :3, :3 ] ) > 0:\n",
    "\t\t\tXt = target_trajectory[ :, v ][ :, 0 ]\n",
    "\t\t\tYt = target_trajectory[ :, v ][ :, 1 ]\n",
    "\t\t\tZt = target_trajectory[ :, v ][ :, 2 ]\n",
    "\n",
    "\t\t\tview.plot( Xt, Yt, Zt, ':', color = 'k' )\n",
    "\t\t\tview.scatter( Xt[ frame + 1 ], Yt[ frame + 1 ], Zt[ frame + 1 ], marker = 'x', color = 'k' )\n",
    "\t\t\tinset_view_xz.plot( Xt, Zt, ':', color = 'k' )\n",
    "\t\t\tinset_view_xz.scatter( Xt[ frame + 1 ], Zt[ frame + 1 ], marker = 'x', color = 'k' )\n",
    "\t\t\tinset_view_yz.plot( Yt, Zt, ':', color = 'k' )\n",
    "\t\t\tinset_view_yz.scatter( Yt[ frame + 1 ], Zt[ frame + 1 ], marker = 'x', color = 'k' )\n",
    "\t\t\tinset_view_xy.plot( Xt, Yt, ':', color = 'k' )\n",
    "\t\t\tinset_view_xy.scatter( Xt[ frame + 1 ], Yt[ frame + 1 ], marker = 'x', color = 'k' )\n",
    "\n",
    "\t\tX = previous_actual_trajectory[ frame, v ][ 0 ]\n",
    "\t\tY = previous_actual_trajectory[ frame, v ][ 1 ]\n",
    "\t\tZ = previous_actual_trajectory[ frame, v ][ 2 ]\n",
    "\n",
    "\t\tP = previous_actual_trajectory[ frame, v ][ :3 ]\n",
    "\t\tA = previous_actual_trajectory[ frame, v ][ 3:6 ]\n",
    "\t\tR = Rotation.from_euler( 'xyz', A ).as_matrix()\n",
    "\t\tRxz = R[ ::2, ::2 ] / norm( R[ ::2, ::2 ] )\n",
    "\t\tRyz = R[ 1:, 1: ] / norm( R[ 1:, 1: ] )\n",
    "\t\tRxy = R[ :2, :2 ] / norm( R[ :2, :2 ] )\n",
    "\n",
    "\t\tview.quiver( *P, *(R @ array( [ quiver_scale, 0., 0. ] )), color = 'r' )\n",
    "\t\tview.quiver( *P, *(R @ array( [ 0., quiver_scale, 0. ] )), color = 'g' )\n",
    "\t\tview.quiver( *P, *(R @ array( [ 0., 0., quiver_scale ] )), color = 'b' )\n",
    "\t\tinset_view_xz.quiver( *P[ ::2 ], *(Rxz @ array( [ quiver_scale, 0 ] )), color = 'r', scale = 4. )\n",
    "\t\tinset_view_xz.quiver( *P[ ::2 ], *(Rxz @ array( [ 0, -quiver_scale ] )), color = 'b', scale = 4. )\n",
    "\t\tinset_view_yz.quiver( *P[ 1: ], *(Ryz @ array( [ -quiver_scale, 0 ] )), color = 'g', scale = 4. )\n",
    "\t\tinset_view_yz.quiver( *P[ 1: ], *(Ryz @ array( [ 0, -quiver_scale ] )), color = 'b', scale = 4. )\n",
    "\t\tinset_view_xy.quiver( *P[ :2 ], *(Rxy @ array( [ quiver_scale, 0 ] )), color = 'r', scale = 4. )\n",
    "\t\tinset_view_xy.quiver( *P[ :2 ], *(Rxy @ array( [ 0, -quiver_scale ] )), color = 'g', scale = 4. )\n",
    "\n",
    "\t\tview.scatter( X, Y, Z, color = color )\n",
    "\t\tinset_view_xz.scatter( X, Z, color = color )\n",
    "\t\tinset_view_yz.scatter( Y, Z, color = color )\n",
    "\t\tinset_view_xy.scatter( X, Y, color = color )\n",
    "\n",
    "\t\tfor trajectory in predicted_trajectories:\n",
    "\t\t\tX = trajectory[ :, 0, v ][ :, 0 ]\n",
    "\t\t\tY = trajectory[ :, 0, v ][ :, 1 ]\n",
    "\t\t\tZ = trajectory[ :, 0, v ][ :, 2 ]\n",
    "\n",
    "\t\t\tview.plot( X, Y, Z, linewidth = .5, color = color )\n",
    "\t\t\tinset_view_xz.plot( X, Z, linewidth = .5, color = color )\n",
    "\t\t\tinset_view_yz.plot( Y, Z, linewidth = .5, color = color )\n",
    "\t\t\tinset_view_xy.plot( X, Y, linewidth = .5, color = color )\n",
    "\n",
    "\tfor p1, p2 in positions_pairs.items():\n",
    "\n",
    "\t\tcolor = robots_colors[ p1.split( '_' )[ 1 ] ]\n",
    "\n",
    "\t\tposition_1 = deepcopy( previous_actual_trajectory[ frame, positions[ p1 + '_position' ] ] )\n",
    "\t\tposition_2 = deepcopy( previous_actual_trajectory[ frame, positions[ p2 + '_position' ] ] )\n",
    "\n",
    "\t\tname = f'c_{p1.split( \"_\" )[ -1 ]}{p2.split( \"_\" )[ -1 ]}'\n",
    "\t\tcat = Catenary(\n",
    "\t\t\t\tconfig[ 'model' ][ 'model_dynamics' ][ name ][ 'length' ],\n",
    "\t\t\t\tconfig[ 'model' ][ 'model_dynamics' ][ name ][ 'linear_mass' ]\n",
    "\t\t\t\t)\n",
    "\n",
    "\t\tcat_12 = cat.discretize( position_1, position_2 )\n",
    "\n",
    "\t\tview.plot( cat_12[ :, 0 ], cat_12[ :, 1 ], cat_12[ :, 2 ], color = color )\n",
    "\t\tinset_view_xz.plot( cat_12[ :, 0 ], cat_12[ :, 2 ], color = color )\n",
    "\t\tinset_view_yz.plot( cat_12[ :, 1 ], cat_12[ :, 2 ], color = color )\n",
    "\t\tinset_view_xy.plot( cat_12[ :, 0 ], cat_12[ :, 1 ], color = color )\n",
    "\n",
    "\tplt.savefig( f'{folder}/plots/3d_frames/{frame}.png', dpi = 100 )\n",
    "\tplt.close( 'all' )\n",
    "\tdel fig, view, inset_view_xz, inset_view_yz, inset_view_xy"
   ],
   "id": "634fcfd31d96cf19",
   "outputs": [
    {
     "name": "stderr",
     "output_type": "stream",
     "text": [
      "100%|██████████| 98/98 [01:31<00:00,  1.07it/s]\n"
     ]
    }
   ],
   "execution_count": 95
  },
  {
   "metadata": {
    "ExecuteTime": {
     "end_time": "2024-10-03T17:57:52.033814Z",
     "start_time": "2024-10-03T17:57:43.706224Z"
    }
   },
   "cell_type": "code",
   "source": "collect()",
   "id": "70338ea0a686564",
   "outputs": [
    {
     "data": {
      "text/plain": [
       "11297158"
      ]
     },
     "execution_count": 96,
     "metadata": {},
     "output_type": "execute_result"
    }
   ],
   "execution_count": 96
  },
  {
   "metadata": {
    "ExecuteTime": {
     "end_time": "2024-10-03T17:57:58.515903Z",
     "start_time": "2024-10-03T17:57:52.056289Z"
    }
   },
   "cell_type": "code",
   "source": "gif_from_pngs( f'{folder}/plots/3d_frames', duration = config[ 'model' ][ 'time_step' ] * 1000 )",
   "id": "eb26e196bad38112",
   "outputs": [],
   "execution_count": 97
  },
  {
   "metadata": {
    "ExecuteTime": {
     "end_time": "2024-10-03T17:57:58.620072Z",
     "start_time": "2024-10-03T17:57:58.541454Z"
    }
   },
   "cell_type": "code",
   "source": "collect()",
   "id": "f79cbacba01f8091",
   "outputs": [
    {
     "data": {
      "text/plain": [
       "1395"
      ]
     },
     "execution_count": 98,
     "metadata": {},
     "output_type": "execute_result"
    }
   ],
   "execution_count": 98
  },
  {
   "metadata": {
    "ExecuteTime": {
     "end_time": "2024-10-03T17:57:59.415710Z",
     "start_time": "2024-10-03T17:57:58.659332Z"
    }
   },
   "cell_type": "code",
   "source": "system( f'ffmpeg -y -i {folder}/plots/3d_frames/animation.gif {folder}/plots/animation.mp4' )",
   "id": "21caf7a3eeacdfe0",
   "outputs": [
    {
     "name": "stderr",
     "output_type": "stream",
     "text": [
      "ffmpeg version 6.1.1-3ubuntu5 Copyright (c) 2000-2023 the FFmpeg developers\n",
      "  built with gcc 13 (Ubuntu 13.2.0-23ubuntu3)\n",
      "  configuration: --prefix=/usr --extra-version=3ubuntu5 --toolchain=hardened --libdir=/usr/lib/x86_64-linux-gnu --incdir=/usr/include/x86_64-linux-gnu --arch=amd64 --enable-gpl --disable-stripping --disable-omx --enable-gnutls --enable-libaom --enable-libass --enable-libbs2b --enable-libcaca --enable-libcdio --enable-libcodec2 --enable-libdav1d --enable-libflite --enable-libfontconfig --enable-libfreetype --enable-libfribidi --enable-libglslang --enable-libgme --enable-libgsm --enable-libharfbuzz --enable-libmp3lame --enable-libmysofa --enable-libopenjpeg --enable-libopenmpt --enable-libopus --enable-librubberband --enable-libshine --enable-libsnappy --enable-libsoxr --enable-libspeex --enable-libtheora --enable-libtwolame --enable-libvidstab --enable-libvorbis --enable-libvpx --enable-libwebp --enable-libx265 --enable-libxml2 --enable-libxvid --enable-libzimg --enable-openal --enable-opencl --enable-opengl --disable-sndio --enable-libvpl --disable-libmfx --enable-libdc1394 --enable-libdrm --enable-libiec61883 --enable-chromaprint --enable-frei0r --enable-ladspa --enable-libbluray --enable-libjack --enable-libpulse --enable-librabbitmq --enable-librist --enable-libsrt --enable-libssh --enable-libsvtav1 --enable-libx264 --enable-libzmq --enable-libzvbi --enable-lv2 --enable-sdl2 --enable-libplacebo --enable-librav1e --enable-pocketsphinx --enable-librsvg --enable-libjxl --enable-shared\n",
      "  libavutil      58. 29.100 / 58. 29.100\n",
      "  libavcodec     60. 31.102 / 60. 31.102\n",
      "  libavformat    60. 16.100 / 60. 16.100\n",
      "  libavdevice    60.  3.100 / 60.  3.100\n",
      "  libavfilter     9. 12.100 /  9. 12.100\n",
      "  libswscale      7.  5.100 /  7.  5.100\n",
      "  libswresample   4. 12.100 /  4. 12.100\n",
      "  libpostproc    57.  3.100 / 57.  3.100\n",
      "Input #0, gif, from 'export/chain_of_four_1727977565/plots/3d_frames/animation.gif':\n",
      "  Duration: 00:00:20.00, start: 0.000000, bitrate: 480 kb/s\n",
      "  Stream #0:0: Video: gif, bgra, 1000x1000, 10 fps, 10 tbr, 100 tbn\n",
      "Stream mapping:\n",
      "  Stream #0:0 -> #0:0 (gif (native) -> h264 (libx264))\n",
      "Press [q] to stop, [?] for help\n",
      "[libx264 @ 0x59c7324937c0] using cpu capabilities: MMX2 SSE2Fast SSSE3 SSE4.2 AVX FMA3 BMI2 AVX2\n",
      "[libx264 @ 0x59c7324937c0] profile High 4:4:4 Predictive, level 3.2, 4:4:4, 8-bit\n",
      "[libx264 @ 0x59c7324937c0] 264 - core 164 r3108 31e19f9 - H.264/MPEG-4 AVC codec - Copyleft 2003-2023 - http://www.videolan.org/x264.html - options: cabac=1 ref=3 deblock=1:0:0 analyse=0x3:0x113 me=hex subme=7 psy=1 psy_rd=1.00:0.00 mixed_ref=1 me_range=16 chroma_me=1 trellis=1 8x8dct=1 cqm=0 deadzone=21,11 fast_pskip=1 chroma_qp_offset=4 threads=24 lookahead_threads=4 sliced_threads=0 nr=0 decimate=1 interlaced=0 bluray_compat=0 constrained_intra=0 bframes=3 b_pyramid=2 b_adapt=1 b_bias=0 direct=1 weightb=1 open_gop=0 weightp=2 keyint=250 keyint_min=10 scenecut=40 intra_refresh=0 rc_lookahead=40 rc=crf mbtree=1 crf=23.0 qcomp=0.60 qpmin=0 qpmax=69 qpstep=4 ip_ratio=1.40 aq=1:1.00\n",
      "Output #0, mp4, to 'export/chain_of_four_1727977565/plots/animation.mp4':\n",
      "  Metadata:\n",
      "    encoder         : Lavf60.16.100\n",
      "  Stream #0:0: Video: h264 (avc1 / 0x31637661), yuv444p(tv, progressive), 1000x1000, q=2-31, 10 fps, 10240 tbn\n",
      "    Metadata:\n",
      "      encoder         : Lavc60.31.102 libx264\n",
      "    Side data:\n",
      "      cpb: bitrate max/min/avg: 0/0/0 buffer size: 0 vbv_delay: N/A\n",
      "[out#0/mp4 @ 0x59c732473740] video:288kB audio:0kB subtitle:0kB other streams:0kB global headers:0kB muxing overhead: 1.093614%\n",
      "frame=  200 fps=0.0 q=-1.0 Lsize=     292kB time=00:00:19.70 bitrate= 121.3kbits/s dup=1 drop=0 speed=28.2x    \n",
      "[libx264 @ 0x59c7324937c0] frame I:1     Avg QP:15.47  size: 49925\n",
      "[libx264 @ 0x59c7324937c0] frame P:59    Avg QP:16.09  size:  2207\n",
      "[libx264 @ 0x59c7324937c0] frame B:140   Avg QP:22.77  size:   818\n",
      "[libx264 @ 0x59c7324937c0] consecutive B-frames:  2.0% 12.0%  6.0% 80.0%\n",
      "[libx264 @ 0x59c7324937c0] mb I  I16..4:  7.0% 66.1% 26.9%\n",
      "[libx264 @ 0x59c7324937c0] mb P  I16..4:  0.1%  0.1%  0.1%  P16..4:  0.6%  0.4%  0.4%  0.0%  0.0%    skip:98.4%\n",
      "[libx264 @ 0x59c7324937c0] mb B  I16..4:  0.0%  0.3%  0.0%  B16..8:  1.2%  0.3%  0.2%  direct: 0.1%  skip:97.8%  L0:49.6% L1:38.7% BI:11.7%\n",
      "[libx264 @ 0x59c7324937c0] 8x8 transform intra:70.9% inter:6.4%\n",
      "[libx264 @ 0x59c7324937c0] coded y,u,v intra: 11.4% 1.7% 1.8% inter: 0.4% 0.1% 0.2%\n",
      "[libx264 @ 0x59c7324937c0] i16 v,h,dc,p: 65% 24% 11%  0%\n",
      "[libx264 @ 0x59c7324937c0] i8 v,h,dc,ddl,ddr,vr,hd,vl,hu: 36%  4% 60%  0%  0%  0%  0%  0%  0%\n",
      "[libx264 @ 0x59c7324937c0] i4 v,h,dc,ddl,ddr,vr,hd,vl,hu: 43% 18% 16%  7%  1%  1% 10%  1%  2%\n",
      "[libx264 @ 0x59c7324937c0] Weighted P-Frames: Y:0.0% UV:0.0%\n",
      "[libx264 @ 0x59c7324937c0] ref P L0: 67.3%  6.7% 15.1% 10.9%\n",
      "[libx264 @ 0x59c7324937c0] ref B L0: 73.0% 21.4%  5.5%\n",
      "[libx264 @ 0x59c7324937c0] ref B L1: 96.9%  3.1%\n",
      "[libx264 @ 0x59c7324937c0] kb/s:117.86\n"
     ]
    },
    {
     "data": {
      "text/plain": [
       "0"
      ]
     },
     "execution_count": 99,
     "metadata": {},
     "output_type": "execute_result"
    }
   ],
   "execution_count": 99
  },
  {
   "metadata": {
    "ExecuteTime": {
     "end_time": "2024-10-08T12:07:24.797064Z",
     "start_time": "2024-10-08T12:07:24.715798Z"
    }
   },
   "cell_type": "code",
   "source": [
    "from numpy import exp, linspace\n",
    "\n",
    "water = 0\n",
    "depth = linspace( -4, 4, 1000 )\n",
    "buoyancy = .5 + .5 / (1 + exp( 10 * (water - depth) -2 ))\n",
    "\n",
    "plt.plot( depth, buoyancy )\n"
   ],
   "id": "a77ba157d28adcc6",
   "outputs": [
    {
     "data": {
      "text/plain": [
       "[<matplotlib.lines.Line2D at 0x1ac06798c80>]"
      ]
     },
     "execution_count": 5,
     "metadata": {},
     "output_type": "execute_result"
    },
    {
     "data": {
      "text/plain": [
       "<Figure size 960x360 with 1 Axes>"
      ],
      "image/png": "[encoded data removed]"
     },
     "metadata": {},
     "output_type": "display_data"
    }
   ],
   "execution_count": 5
  }
 ],
 "metadata": {
  "kernelspec": {
   "display_name": "Python 3",
   "language": "python",
   "name": "python3"
  },
  "language_info": {
   "codemirror_mode": {
    "name": "ipython",
    "version": 2
   },
   "file_extension": ".py",
   "mimetype": "text/x-python",
   "name": "python",
   "nbconvert_exporter": "python",
   "pygments_lexer": "ipython2",
   "version": "3.12.3"
  }
 },
 "nbformat": 4,
 "nbformat_minor": 5
}
