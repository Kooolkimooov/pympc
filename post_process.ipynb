{
 "cells": [
  {
   "cell_type": "code",
   "id": "bbc75564e51cad8e",
   "metadata": {
    "ExecuteTime": {
     "end_time": "2024-10-30T14:32:24.006954Z",
     "start_time": "2024-10-30T14:32:24.001209Z"
    }
   },
   "source": [
    "import json as json\n",
    "import pathlib as pl\n",
    "from copy import deepcopy\n",
    "from datetime import datetime\n",
    "from gc import collect\n",
    "from os import path, system\n",
    "from warnings import simplefilter\n",
    "\n",
    "import matplotlib.pyplot as plt\n",
    "from matplotlib import rcParams\n",
    "from numpy import array, linspace, meshgrid, ones, zeros\n",
    "from numpy.linalg import norm\n",
    "from scipy.spatial.transform import Rotation\n",
    "from tqdm import tqdm\n",
    "\n",
    "from catenary import Catenary\n",
    "from utils import check, gif_from_pngs, print_dict\n",
    "\n",
    "simplefilter( 'ignore', RuntimeWarning )\n",
    "\n",
    "gain = 1.5\n",
    "rcParams[ 'figure.figsize' ] = [ gain * 6.4, gain * 4.8 / 2 ]\n",
    "# rcParams['figure.facecolor'] = 'black'\n",
    "# rcParams['axes.edgecolor'] = 'white'\n",
    "# rcParams['axes.facecolor'] = 'black'\n",
    "# rcParams['axes.labelcolor'] = 'white'\n",
    "# rcParams['xtick.color'] = 'white'\n",
    "# rcParams['ytick.color'] = 'white'\n",
    "# rcParams['legend.labelcolor'] = 'white'\n",
    "# rcParams['legend.facecolor'] = 'black'"
   ],
   "outputs": [],
   "execution_count": 137
  },
  {
   "cell_type": "code",
   "id": "3423fed8fb41d212",
   "metadata": {
    "ExecuteTime": {
     "end_time": "2024-10-30T14:33:31.721753Z",
     "start_time": "2024-10-30T14:33:31.716253Z"
    }
   },
   "source": [
    "files = list( pl.Path( \"./export\" ).glob( '*' ) )\n",
    "files.sort( key = lambda x: path.getctime( x ) )\n",
    "for v in files:\n",
    "\tprint( str( v ).split( '//' )[ -1 ], end = '\\t' )\n",
    "\tprint( datetime.fromtimestamp( path.getctime( v ) ) )"
   ],
   "outputs": [
    {
     "name": "stdout",
     "output_type": "stream",
     "text": [
      "export\\three_robots_chain_1726157070\t2024-09-17 09:04:31.536003\n",
      "export\\Figure_1.png\t2024-10-10 09:58:20.942149\n",
      "export\\three_robots_chain_with_fixed_end_1726429003\t2024-10-24 16:48:58.855255\n",
      "export\\three_robots_chain_1726514783\t2024-10-24 19:05:24.019054\n",
      "export\\three_robots_chain_with_fixed_end_1726554218\t2024-10-24 19:05:24.068337\n",
      "export\\chain_of_four_1730298623\t2024-10-30 15:30:23.829106\n",
      "export\\chain_of_four_1730298800\t2024-10-30 15:33:20.850509\n"
     ]
    }
   ],
   "execution_count": 141
  },
  {
   "cell_type": "code",
   "id": "1e61faef7e2de6ff",
   "metadata": {
    "ExecuteTime": {
     "end_time": "2024-10-30T14:33:39.543238Z",
     "start_time": "2024-10-30T14:33:39.539484Z"
    }
   },
   "source": [
    "folder = pl.Path( './export/chain_of_four_1730298800' )\n",
    "uuid = str( folder ).split( '_' )[ -1 ]"
   ],
   "outputs": [],
   "execution_count": 142
  },
  {
   "cell_type": "code",
   "id": "ee369b87390cc54a",
   "metadata": {
    "ExecuteTime": {
     "end_time": "2024-10-30T14:33:43.130671Z",
     "start_time": "2024-10-30T14:33:40.865880Z"
    }
   },
   "source": [
    "with open( folder / 'config.json' ) as f:\n",
    "\tconfig = json.load( f )\n",
    "print_dict( config )"
   ],
   "outputs": [
    {
     "name": "stdout",
     "output_type": "stream",
     "text": [
      "predict: \tdef _pred ...\n",
      "get_actuation: \tdef _get_ ...\n",
      "get_result: \tdef _get_ ...\n",
      "model:\n",
      "\tdynamics:\n",
      "\t\tbr_0:\n",
      "\t\t\tmass: 11.5\n",
      "\t\t\tcenter_of_mass: [0.0, 0.0, 0.0]\n",
      "\t\t\tweight: [0.0, 0.0, 112.77647499999999]\n",
      "\t\t\tvolume: 0.0134\n",
      "\t\t\tcenter_of_volume: [0.0, 0.0, -0.01]\n",
      "\t\t\tbuoyancy: [-0.0, -0.0, -131.01488267000002]\n",
      "\t\t\twater_surface_depth: 0.0\n",
      "\t\t\twater_current: [0.5, 0.5, 0.0, 0.0, 0.0, 0.0]\n",
      "\t\t\tinertial_coefficients: [0.26, 0.23, 0.37, 0.0, 0.0, 0.0]\n",
      "\t\t\thydrodynamic_coefficients: [13.7, 0.0, 33.0, 0.0, 0.8, 0.0]\n",
      "\t\t\tadded_mass_coefficients: [6.36, 7.12, 18.68, 0.189, 0.135, 0.222]\n",
      "\t\t\tinertial_matrix: (6, 6)\n",
      "\t\t\tinverse_inertial_matrix: (6, 6)\n",
      "\t\t\thydrodynamic_matrix: (6, 6)\n",
      "\t\t\tstate_size: 12\n",
      "\t\t\tactuation_size: 6\n",
      "\t\t\tbuild_transformation_matrix:\n",
      "\t\t\t\tinstance_of: staticmeth ...\n",
      "\t\t\tbuild_inertial_matrix:\n",
      "\t\t\t\tinstance_of: staticmeth ...\n",
      "\t\t\tinstance_of: Bluerov\n",
      "\t\tc_01:\n",
      "\t\t\tlength: 3.0\n",
      "\t\t\tlinear_mass: 0.01\n",
      "\t\t\toptimization_function:\n",
      "\t\t\t\tinstance_of: staticmeth ...\n",
      "\t\t\tget_parameters: \tdef get_p ...\n",
      "\t\t\tGET_PARAMETER_METHOD: ['runtime', 'precompute']\n",
      "\t\t\tget_lowest_point: \tdef get_l ...\n",
      "\t\t\tget_perturbations: \tdef get_p ...\n",
      "\t\t\tdiscretize: \tdef discr ...\n",
      "\t\t\tinstance_of: Catenary\n",
      "\t\tbr_1:\n",
      "\t\t\tmass: 11.5\n",
      "\t\t\tcenter_of_mass: [0.0, 0.0, 0.0]\n",
      "\t\t\tweight: [0.0, 0.0, 112.77647499999999]\n",
      "\t\t\tvolume: 0.0134\n",
      "\t\t\tcenter_of_volume: [0.0, 0.0, -0.01]\n",
      "\t\t\tbuoyancy: [-0.0, -0.0, -131.01488267000002]\n",
      "\t\t\twater_surface_depth: 0.0\n",
      "\t\t\twater_current: [0.5, 0.5, 0.0, 0.0, 0.0, 0.0]\n",
      "\t\t\tinertial_coefficients: [0.26, 0.23, 0.37, 0.0, 0.0, 0.0]\n",
      "\t\t\thydrodynamic_coefficients: [13.7, 0.0, 33.0, 0.0, 0.8, 0.0]\n",
      "\t\t\tadded_mass_coefficients: [6.36, 7.12, 18.68, 0.189, 0.135, 0.222]\n",
      "\t\t\tinertial_matrix: (6, 6)\n",
      "\t\t\tinverse_inertial_matrix: (6, 6)\n",
      "\t\t\thydrodynamic_matrix: (6, 6)\n",
      "\t\t\tstate_size: 12\n",
      "\t\t\tactuation_size: 6\n",
      "\t\t\tbuild_transformation_matrix:\n",
      "\t\t\t\tinstance_of: staticmeth ...\n",
      "\t\t\tbuild_inertial_matrix:\n",
      "\t\t\t\tinstance_of: staticmeth ...\n",
      "\t\t\tinstance_of: Bluerov\n",
      "\t\tc_12:\n",
      "\t\t\tlength: 3.0\n",
      "\t\t\tlinear_mass: 0.01\n",
      "\t\t\toptimization_function:\n",
      "\t\t\t\tinstance_of: staticmeth ...\n",
      "\t\t\tget_parameters: \tdef get_p ...\n",
      "\t\t\tGET_PARAMETER_METHOD: ['runtime', 'precompute']\n",
      "\t\t\tget_lowest_point: \tdef get_l ...\n",
      "\t\t\tget_perturbations: \tdef get_p ...\n",
      "\t\t\tdiscretize: \tdef discr ...\n",
      "\t\t\tinstance_of: Catenary\n",
      "\t\tbr_2:\n",
      "\t\t\tmass: 11.5\n",
      "\t\t\tcenter_of_mass: [0.0, 0.0, 0.0]\n",
      "\t\t\tweight: [0.0, 0.0, 112.77647499999999]\n",
      "\t\t\tvolume: 0.0134\n",
      "\t\t\tcenter_of_volume: [0.0, 0.0, -0.01]\n",
      "\t\t\tbuoyancy: [-0.0, -0.0, -131.01488267000002]\n",
      "\t\t\twater_surface_depth: 0.0\n",
      "\t\t\twater_current: [0.5, 0.5, 0.0, 0.0, 0.0, 0.0]\n",
      "\t\t\tinertial_coefficients: [0.26, 0.23, 0.37, 0.0, 0.0, 0.0]\n",
      "\t\t\thydrodynamic_coefficients: [13.7, 0.0, 33.0, 0.0, 0.8, 0.0]\n",
      "\t\t\tadded_mass_coefficients: [6.36, 7.12, 18.68, 0.189, 0.135, 0.222]\n",
      "\t\t\tinertial_matrix: (6, 6)\n",
      "\t\t\tinverse_inertial_matrix: (6, 6)\n",
      "\t\t\thydrodynamic_matrix: (6, 6)\n",
      "\t\t\tstate_size: 12\n",
      "\t\t\tactuation_size: 6\n",
      "\t\t\tbuild_transformation_matrix:\n",
      "\t\t\t\tinstance_of: staticmeth ...\n",
      "\t\t\tbuild_inertial_matrix:\n",
      "\t\t\t\tinstance_of: staticmeth ...\n",
      "\t\t\tinstance_of: Bluerov\n",
      "\t\tc_23:\n",
      "\t\t\tlength: 3.0\n",
      "\t\t\tlinear_mass: 0.01\n",
      "\t\t\toptimization_function:\n",
      "\t\t\t\tinstance_of: staticmeth ...\n",
      "\t\t\tget_parameters: \tdef get_p ...\n",
      "\t\t\tGET_PARAMETER_METHOD: ['runtime', 'precompute']\n",
      "\t\t\tget_lowest_point: \tdef get_l ...\n",
      "\t\t\tget_perturbations: \tdef get_p ...\n",
      "\t\t\tdiscretize: \tdef discr ...\n",
      "\t\t\tinstance_of: Catenary\n",
      "\t\tbr_3:\n",
      "\t\t\tstate_size: 12\n",
      "\t\t\tactuation_size: 2\n",
      "\t\t\tbuild_transformation_matrix:\n",
      "\t\t\t\tinstance_of: staticmeth ...\n",
      "\t\t\tbuild_inertial_matrix:\n",
      "\t\t\t\tinstance_of: staticmeth ...\n",
      "\t\t\tmass: 11.5\n",
      "\t\t\tcenter_of_mass: [0.0, 0.0, 0.0]\n",
      "\t\t\tweight: [0.0, 0.0, 112.77647499999999]\n",
      "\t\t\tvolume: 0.0134\n",
      "\t\t\tcenter_of_volume: [0.0, 0.0, -0.01]\n",
      "\t\t\tbuoyancy: [-0.0, -0.0, -131.01488267000002]\n",
      "\t\t\twater_surface_depth: 0.0\n",
      "\t\t\twater_current: [0.0, 0.0, 0.0, 0.0, 0.0, 0.0]\n",
      "\t\t\tinertial_coefficients: [0.26, 0.23, 0.37, 0.0, 0.0, 0.0]\n",
      "\t\t\thydrodynamic_coefficients: [13.7, 0.0, 33.0, 0.0, 0.8, 0.0]\n",
      "\t\t\tadded_mass_coefficients: [6.36, 7.12, 18.68, 0.189, 0.135, 0.222]\n",
      "\t\t\tinertial_matrix: (6, 6)\n",
      "\t\t\tinverse_inertial_matrix: (6, 6)\n",
      "\t\t\thydrodynamic_matrix: (6, 6)\n",
      "\t\t\tinstance_of: USV\n",
      "\t\tsf:\n",
      "\t\t\tget_distance_to_seafloor: \tdef get_d ...\n",
      "\t\t\tseafloor_function: def seaflo ...\n",
      "\t\t\tinstance_of: SeafloorFr ...\n",
      "\t\tlast_perturbation_01_0: [0.0, 0.0, 0.0, 0.0, 0.0, 0.0]\n",
      "\t\tlast_perturbation_01_1: [0.0, 0.0, 0.0, 0.0, 0.0, 0.0]\n",
      "\t\tlast_perturbation_12_1: [0.0, 0.0, 0.0, 0.0, 0.0, 0.0]\n",
      "\t\tlast_perturbation_12_2: [0.0, 0.0, 0.0, 0.0, 0.0, 0.0]\n",
      "\t\tlast_perturbation_23_2: [0.0, 0.0, 0.0, 0.0, 0.0, 0.0]\n",
      "\t\tlast_perturbation_23_3: [0.0, 0.0, 0.0, 0.0, 0.0, 0.0]\n",
      "\t\tbr_0_pose: 0:6:None\n",
      "\t\tbr_0_position: 0:3:None\n",
      "\t\tbr_0_xy: 0:2:None\n",
      "\t\tbr_0_z: 2\n",
      "\t\tbr_0_orientation: 3:6:None\n",
      "\t\tbr_1_pose: 6:12:None\n",
      "\t\tbr_1_position: 6:9:None\n",
      "\t\tbr_1_xy: 6:8:None\n",
      "\t\tbr_1_z: 8\n",
      "\t\tbr_1_orientation: 9:12:None\n",
      "\t\tbr_2_pose: 12:18:None\n",
      "\t\tbr_2_position: 12:15:None\n",
      "\t\tbr_2_xy: 12:14:None\n",
      "\t\tbr_2_z: 14\n",
      "\t\tbr_2_orientation: 15:18:None\n",
      "\t\tbr_3_pose: 18:24:None\n",
      "\t\tbr_3_position: 18:21:None\n",
      "\t\tbr_3_xy: 18:20:None\n",
      "\t\tbr_3_z: 20\n",
      "\t\tbr_3_orientation: 21:24:None\n",
      "\t\tbr_0_speed: 24:30:None\n",
      "\t\tbr_0_linear_speed: 24:27:None\n",
      "\t\tbr_0_angular_speed: 27:30:None\n",
      "\t\tbr_1_speed: 30:36:None\n",
      "\t\tbr_1_linear_speed: 30:33:None\n",
      "\t\tbr_1_angular_speed: 33:36:None\n",
      "\t\tbr_2_speed: 36:42:None\n",
      "\t\tbr_2_linear_speed: 36:39:None\n",
      "\t\tbr_2_angular_speed: 39:42:None\n",
      "\t\tbr_3_speed: 42:48:None\n",
      "\t\tbr_3_linear_speed: 42:45:None\n",
      "\t\tbr_3_angular_speed: 45:48:None\n",
      "\t\tbr_0_actuation_start: 0\n",
      "\t\tbr_0_actuation: 0:6:None\n",
      "\t\tbr_0_linear_actuation: 0:3:None\n",
      "\t\tbr_0_angular_actuation: 3:6:None\n",
      "\t\tbr_1_actuation_start: 6\n",
      "\t\tbr_1_actuation: 6:12:None\n",
      "\t\tbr_1_linear_actuation: 6:9:None\n",
      "\t\tbr_1_angular_actuation: 9:12:None\n",
      "\t\tbr_2_actuation: 12:18:None\n",
      "\t\tbr_2_actuation_start: 12\n",
      "\t\tbr_2_linear_actuation: 12:15:None\n",
      "\t\tbr_2_angular_actuation: 15:18:None\n",
      "\t\tbr_3_actuation: 18:20:None\n",
      "\t\tbr_3_actuation_start: 18\n",
      "\t\tbr_3_linear_actuation: 18\n",
      "\t\tbr_3_angular_actuation: 19\n",
      "\t\tbr_0_state: (12,)\n",
      "\t\tbr_1_state: (12,)\n",
      "\t\tbr_2_state: (12,)\n",
      "\t\tbr_3_state: (12,)\n",
      "\t\tstate_size: 48\n",
      "\t\tactuation_size: 20\n",
      "\t\tget_taunt_cable_perturbations: \tdef get_t ...\n",
      "\t\tinstance_of: ChainOf4\n",
      "\ttime_step: 0.1\n",
      "\tstate: (48,)\n",
      "\tactuation: (20,)\n",
      "\trecord: True\n",
      "\tprevious_states: (1, 48)\n",
      "\tprevious_actuations: (1, 20)\n",
      "\tstep: \tdef step( ...\n",
      "\tinstance_of: Model\n",
      "horizon: 5\n",
      "target_trajectory: (400, 1, 24)\n",
      "objective: def chain_ ...\n",
      "time_step_prediction_factor: 2\n",
      "time_step: 0.1\n",
      "time_steps_per_actuation: 5\n",
      "guess_from_last_solution: True\n",
      "tolerance: 1e-06\n",
      "max_number_of_iteration: 100\n",
      "bounds: None\n",
      "constraints:\n",
      "\t0:\n",
      "\t\tfun: def chain_ ...\n",
      "\t\tlb: (45,)\n",
      "\t\tub: (45,)\n",
      "\t\tfinite_diff_rel_step: None\n",
      "\t\tfinite_diff_jac_sparsity: None\n",
      "\t\tjac: 2-point\n",
      "\t\thess:\n",
      "\t\t\tinitialize:     def in ...\n",
      "\t\t\tupdate:     def up ...\n",
      "\t\t\tdot:     def do ...\n",
      "\t\t\tget_matrix:     def ge ...\n",
      "\t\t\tmin_curvature: 1e-08\n",
      "\t\t\tinit_scale: auto\n",
      "\t\t\tfirst_iteration: None\n",
      "\t\t\tapprox_type: None\n",
      "\t\t\tB: None\n",
      "\t\t\tH: None\n",
      "\t\t\texception_strategy: skip_updat ...\n",
      "\t\t\tinstance_of: BFGS\n",
      "\t\tkeep_feasible: False\n",
      "\t\tvalue_labels: ['c_01_distance_to_seafloor', 'c_12_distance_to_seafloor', 'c_23_distance_to_seafloor', 'br_0_br_1_horizontal_distance', 'br_1_br_2_horizontal_distance', 'br_2_br_3_horizontal_distance', 'br_0_br_1_distance', 'br_1_br_2_distance', 'br_2_br_3_distance']\n",
      "\t\tlabels: ['seafloor', 'seafloor', 'seafloor', 'cable_length', 'cable_length', 'cable_length', 'cable_length', 'cable_length', 'cable_length']\n",
      "\t\tinstance_of: NonlinearC ...\n",
      "result_shape: [1, 1, 20]\n",
      "raw_result: None\n",
      "result: (20,)\n",
      "pose_weight_matrix: (5, 24, 24)\n",
      "actuation_derivative_weight_matrix: (1, 20, 20)\n",
      "objective_weight: 0.01\n",
      "final_weight: 0.0\n",
      "record: True\n",
      "predicted_trajectories: []\n",
      "candidate_actuations: []\n",
      "compute_times: []\n",
      "verbose: False\n",
      "constraints_function: def chain_ ...\n",
      "os: Windows\n",
      "os_release: 11\n",
      "os_version: 10.0.22631\n",
      "cpu:\n",
      "\tpython_version: 3.12.6.fin ...\n",
      "\tcpuinfo_version: [9, 0, 0]\n",
      "\tcpuinfo_version_string: 9.0.0\n",
      "\tarch: X86_64\n",
      "\tbits: 64\n",
      "\tcount: 12\n",
      "\tarch_string_raw: AMD64\n",
      "\tvendor_id_raw: GenuineInt ...\n",
      "\tbrand_raw: 12th Gen I ...\n",
      "\thz_actual_friendly: 1.8000 GHz\n",
      "\thz_actual: [1800000000, 0]\n",
      "\tl2_cache_size: 6815744\n",
      "\tstepping: 4\n",
      "\tmodel: 154\n",
      "\tfamily: 6\n",
      "\tl3_cache_size: 12582912\n",
      "\thz_advertised_friendly: 2.6880 GHz\n",
      "\thz_advertised: [2688000000, 0]\n",
      "\tflags: (76,)\n",
      "\tl2_cache_line_size: 1280\n",
      "\tl2_cache_associativity: 7\n"
     ]
    }
   ],
   "execution_count": 143
  },
  {
   "cell_type": "code",
   "id": "e41a877a5d6a4b88",
   "metadata": {
    "ExecuteTime": {
     "end_time": "2024-10-30T13:49:08.123426Z",
     "start_time": "2024-10-30T13:49:08.114653Z"
    }
   },
   "source": [
    "slice_repository = { }\n",
    "axes = [ 'x', 'y', 'z', 'phi', 'theta', 'psi', 'u', 'v', 'w', 'p', 'q', 'r' ]\n",
    "\n",
    "for k, v in config[ 'model' ][ 'dynamics' ].items():\n",
    "\tif isinstance( v, str ) and '\\n' not in v and ':' in v:\n",
    "\t\tslice_repository[ k ] = slice( *[ int( v ) if v != 'None' else None for v in v.split( ':' ) ] )\n",
    "\telif isinstance( v, int ) and 'br_' in k:\n",
    "\t\tslice_repository[ k ] = v\n",
    "\n",
    "pose = { k: v for k, v in slice_repository.items() if 'pose' in k }\n",
    "positions = { k: v for k, v in slice_repository.items() if 'position' in k }\n",
    "orientations = { k: v for k, v in slice_repository.items() if 'orientation' in k }\n",
    "positions_pairs = { '_'.join( a.split( '_' )[ :2 ] ): '_'.join( b.split( '_' )[ :2 ] ) for a, b in\n",
    "\t\t\t\t\t\t\t\t\t\tzip( list( positions )[ :-1 ], list( positions )[ 1: ] ) }\n",
    "speeds = { k: v for k, v in slice_repository.items() if 'linear_speed' in k }\n",
    "linear_actuation = { k: v for k, v in slice_repository.items() if 'linear_actuation' in k }\n",
    "angular_actuation = { k: v for k, v in slice_repository.items() if 'angular_actuation' in k }"
   ],
   "outputs": [],
   "execution_count": 122
  },
  {
   "cell_type": "code",
   "id": "83ea0a6d13a78b37",
   "metadata": {
    "ExecuteTime": {
     "end_time": "2024-10-30T13:49:08.284615Z",
     "start_time": "2024-10-30T13:49:08.278680Z"
    }
   },
   "source": [
    "for i, c in enumerate( config[ 'constraints' ] ):\n",
    "\tfor j, (lb, ub, label, vlabel) in enumerate( zip( c[ 'lb' ], c[ 'ub' ], c[ 'labels' ], c[ 'value_labels' ] ) ):\n",
    "\t\tprint( f'{(i + 1) * j}.\\t{label}: {lb}\\t<=\\t{vlabel}\\t<=\\t{ub}' )"
   ],
   "outputs": [
    {
     "name": "stdout",
     "output_type": "stream",
     "text": [
      "0.\tseafloor: 0.2\t<=\tc_01_distance_to_seafloor\t<=\tinf\n",
      "1.\tseafloor: 0.2\t<=\tc_12_distance_to_seafloor\t<=\tinf\n",
      "2.\tseafloor: 0.2\t<=\tc_23_distance_to_seafloor\t<=\tinf\n",
      "3.\tcable_length: 0.2\t<=\tbr_0_br_1_horizontal_distance\t<=\t2.8\n",
      "4.\tcable_length: 0.2\t<=\tbr_1_br_2_horizontal_distance\t<=\t2.8\n",
      "5.\tcable_length: 0.2\t<=\tbr_2_br_3_horizontal_distance\t<=\t2.8\n",
      "6.\tcable_length: -inf\t<=\tbr_0_br_1_distance\t<=\t2.8\n",
      "7.\tcable_length: -inf\t<=\tbr_1_br_2_distance\t<=\t2.8\n",
      "8.\tcable_length: -inf\t<=\tbr_2_br_3_distance\t<=\t2.8\n"
     ]
    }
   ],
   "execution_count": 123
  },
  {
   "cell_type": "code",
   "id": "252ce6f553188374",
   "metadata": {
    "ExecuteTime": {
     "end_time": "2024-10-30T13:49:08.534943Z",
     "start_time": "2024-10-30T13:49:08.411330Z"
    }
   },
   "source": [
    "data_files = list( folder.glob( 'data/*' ) )\n",
    "data_files.sort( key = lambda x: path.getmtime( x ) )\n",
    "with open( data_files[ -1 ] ) as f:\n",
    "\tfinal_state = json.load( f )\n",
    "\n",
    "times = [ config[ 'model' ][ 'time_step' ] * i for i in range( len( config[ 'target_trajectory' ] ) ) ]\n",
    "target_trajectory = array( config[ 'target_trajectory' ] )[ :, 0 ]\n",
    "\n",
    "n_frames = len( data_files )\n",
    "previous_times = [ config[ 'model' ][ 'time_step' ] * i for i in range( n_frames ) ]\n",
    "previous_target_trajectory = target_trajectory[ :n_frames ]\n",
    "previous_actual_trajectory = array( final_state[ 'model' ][ 'previous_states' ] )[ 1:,\n",
    "\t\t\t\t\t\t\t\t\t\t\t\t\t\t :config[ 'model' ][ 'dynamics' ][ 'state_size' ] ]\n",
    "\n",
    "previous_actuations = array( final_state[ 'model' ][ 'previous_actuations' ] )\n",
    "\n",
    "pose_weight = array( config[ 'pose_weight_matrix' ][ 0 ] )"
   ],
   "outputs": [
    {
     "ename": "JSONDecodeError",
     "evalue": "Expecting ',' delimiter: line 1 column 3075072 (char 3075071)",
     "output_type": "error",
     "traceback": [
      "\u001B[1;31m---------------------------------------------------------------------------\u001B[0m",
      "\u001B[1;31mJSONDecodeError\u001B[0m                           Traceback (most recent call last)",
      "Cell \u001B[1;32mIn[124], line 4\u001B[0m\n\u001B[0;32m      2\u001B[0m data_files\u001B[38;5;241m.\u001B[39msort( key \u001B[38;5;241m=\u001B[39m \u001B[38;5;28;01mlambda\u001B[39;00m x: path\u001B[38;5;241m.\u001B[39mgetmtime( x ) )\n\u001B[0;32m      3\u001B[0m \u001B[38;5;28;01mwith\u001B[39;00m \u001B[38;5;28mopen\u001B[39m( data_files[ \u001B[38;5;241m-\u001B[39m\u001B[38;5;241m1\u001B[39m ] ) \u001B[38;5;28;01mas\u001B[39;00m f:\n\u001B[1;32m----> 4\u001B[0m \tfinal_state \u001B[38;5;241m=\u001B[39m \u001B[43mjson\u001B[49m\u001B[38;5;241;43m.\u001B[39;49m\u001B[43mload\u001B[49m\u001B[43m(\u001B[49m\u001B[43m \u001B[49m\u001B[43mf\u001B[49m\u001B[43m \u001B[49m\u001B[43m)\u001B[49m\n\u001B[0;32m      6\u001B[0m times \u001B[38;5;241m=\u001B[39m [ config[ \u001B[38;5;124m'\u001B[39m\u001B[38;5;124mmodel\u001B[39m\u001B[38;5;124m'\u001B[39m ][ \u001B[38;5;124m'\u001B[39m\u001B[38;5;124mtime_step\u001B[39m\u001B[38;5;124m'\u001B[39m ] \u001B[38;5;241m*\u001B[39m i \u001B[38;5;28;01mfor\u001B[39;00m i \u001B[38;5;129;01min\u001B[39;00m \u001B[38;5;28mrange\u001B[39m( \u001B[38;5;28mlen\u001B[39m( config[ \u001B[38;5;124m'\u001B[39m\u001B[38;5;124mtarget_trajectory\u001B[39m\u001B[38;5;124m'\u001B[39m ] ) ) ]\n\u001B[0;32m      7\u001B[0m target_trajectory \u001B[38;5;241m=\u001B[39m array( config[ \u001B[38;5;124m'\u001B[39m\u001B[38;5;124mtarget_trajectory\u001B[39m\u001B[38;5;124m'\u001B[39m ] )[ :, \u001B[38;5;241m0\u001B[39m ]\n",
      "File \u001B[1;32m~\\AppData\\Local\\Programs\\Python\\Python312\\Lib\\json\\__init__.py:293\u001B[0m, in \u001B[0;36mload\u001B[1;34m(fp, cls, object_hook, parse_float, parse_int, parse_constant, object_pairs_hook, **kw)\u001B[0m\n\u001B[0;32m    274\u001B[0m \u001B[38;5;28;01mdef\u001B[39;00m \u001B[38;5;21mload\u001B[39m(fp, \u001B[38;5;241m*\u001B[39m, \u001B[38;5;28mcls\u001B[39m\u001B[38;5;241m=\u001B[39m\u001B[38;5;28;01mNone\u001B[39;00m, object_hook\u001B[38;5;241m=\u001B[39m\u001B[38;5;28;01mNone\u001B[39;00m, parse_float\u001B[38;5;241m=\u001B[39m\u001B[38;5;28;01mNone\u001B[39;00m,\n\u001B[0;32m    275\u001B[0m         parse_int\u001B[38;5;241m=\u001B[39m\u001B[38;5;28;01mNone\u001B[39;00m, parse_constant\u001B[38;5;241m=\u001B[39m\u001B[38;5;28;01mNone\u001B[39;00m, object_pairs_hook\u001B[38;5;241m=\u001B[39m\u001B[38;5;28;01mNone\u001B[39;00m, \u001B[38;5;241m*\u001B[39m\u001B[38;5;241m*\u001B[39mkw):\n\u001B[0;32m    276\u001B[0m \u001B[38;5;250m    \u001B[39m\u001B[38;5;124;03m\"\"\"Deserialize ``fp`` (a ``.read()``-supporting file-like object containing\u001B[39;00m\n\u001B[0;32m    277\u001B[0m \u001B[38;5;124;03m    a JSON document) to a Python object.\u001B[39;00m\n\u001B[0;32m    278\u001B[0m \n\u001B[1;32m   (...)\u001B[0m\n\u001B[0;32m    291\u001B[0m \u001B[38;5;124;03m    kwarg; otherwise ``JSONDecoder`` is used.\u001B[39;00m\n\u001B[0;32m    292\u001B[0m \u001B[38;5;124;03m    \"\"\"\u001B[39;00m\n\u001B[1;32m--> 293\u001B[0m     \u001B[38;5;28;01mreturn\u001B[39;00m \u001B[43mloads\u001B[49m\u001B[43m(\u001B[49m\u001B[43mfp\u001B[49m\u001B[38;5;241;43m.\u001B[39;49m\u001B[43mread\u001B[49m\u001B[43m(\u001B[49m\u001B[43m)\u001B[49m\u001B[43m,\u001B[49m\n\u001B[0;32m    294\u001B[0m \u001B[43m        \u001B[49m\u001B[38;5;28;43mcls\u001B[39;49m\u001B[38;5;241;43m=\u001B[39;49m\u001B[38;5;28;43mcls\u001B[39;49m\u001B[43m,\u001B[49m\u001B[43m \u001B[49m\u001B[43mobject_hook\u001B[49m\u001B[38;5;241;43m=\u001B[39;49m\u001B[43mobject_hook\u001B[49m\u001B[43m,\u001B[49m\n\u001B[0;32m    295\u001B[0m \u001B[43m        \u001B[49m\u001B[43mparse_float\u001B[49m\u001B[38;5;241;43m=\u001B[39;49m\u001B[43mparse_float\u001B[49m\u001B[43m,\u001B[49m\u001B[43m \u001B[49m\u001B[43mparse_int\u001B[49m\u001B[38;5;241;43m=\u001B[39;49m\u001B[43mparse_int\u001B[49m\u001B[43m,\u001B[49m\n\u001B[0;32m    296\u001B[0m \u001B[43m        \u001B[49m\u001B[43mparse_constant\u001B[49m\u001B[38;5;241;43m=\u001B[39;49m\u001B[43mparse_constant\u001B[49m\u001B[43m,\u001B[49m\u001B[43m \u001B[49m\u001B[43mobject_pairs_hook\u001B[49m\u001B[38;5;241;43m=\u001B[39;49m\u001B[43mobject_pairs_hook\u001B[49m\u001B[43m,\u001B[49m\u001B[43m \u001B[49m\u001B[38;5;241;43m*\u001B[39;49m\u001B[38;5;241;43m*\u001B[39;49m\u001B[43mkw\u001B[49m\u001B[43m)\u001B[49m\n",
      "File \u001B[1;32m~\\AppData\\Local\\Programs\\Python\\Python312\\Lib\\json\\__init__.py:346\u001B[0m, in \u001B[0;36mloads\u001B[1;34m(s, cls, object_hook, parse_float, parse_int, parse_constant, object_pairs_hook, **kw)\u001B[0m\n\u001B[0;32m    341\u001B[0m     s \u001B[38;5;241m=\u001B[39m s\u001B[38;5;241m.\u001B[39mdecode(detect_encoding(s), \u001B[38;5;124m'\u001B[39m\u001B[38;5;124msurrogatepass\u001B[39m\u001B[38;5;124m'\u001B[39m)\n\u001B[0;32m    343\u001B[0m \u001B[38;5;28;01mif\u001B[39;00m (\u001B[38;5;28mcls\u001B[39m \u001B[38;5;129;01mis\u001B[39;00m \u001B[38;5;28;01mNone\u001B[39;00m \u001B[38;5;129;01mand\u001B[39;00m object_hook \u001B[38;5;129;01mis\u001B[39;00m \u001B[38;5;28;01mNone\u001B[39;00m \u001B[38;5;129;01mand\u001B[39;00m\n\u001B[0;32m    344\u001B[0m         parse_int \u001B[38;5;129;01mis\u001B[39;00m \u001B[38;5;28;01mNone\u001B[39;00m \u001B[38;5;129;01mand\u001B[39;00m parse_float \u001B[38;5;129;01mis\u001B[39;00m \u001B[38;5;28;01mNone\u001B[39;00m \u001B[38;5;129;01mand\u001B[39;00m\n\u001B[0;32m    345\u001B[0m         parse_constant \u001B[38;5;129;01mis\u001B[39;00m \u001B[38;5;28;01mNone\u001B[39;00m \u001B[38;5;129;01mand\u001B[39;00m object_pairs_hook \u001B[38;5;129;01mis\u001B[39;00m \u001B[38;5;28;01mNone\u001B[39;00m \u001B[38;5;129;01mand\u001B[39;00m \u001B[38;5;129;01mnot\u001B[39;00m kw):\n\u001B[1;32m--> 346\u001B[0m     \u001B[38;5;28;01mreturn\u001B[39;00m \u001B[43m_default_decoder\u001B[49m\u001B[38;5;241;43m.\u001B[39;49m\u001B[43mdecode\u001B[49m\u001B[43m(\u001B[49m\u001B[43ms\u001B[49m\u001B[43m)\u001B[49m\n\u001B[0;32m    347\u001B[0m \u001B[38;5;28;01mif\u001B[39;00m \u001B[38;5;28mcls\u001B[39m \u001B[38;5;129;01mis\u001B[39;00m \u001B[38;5;28;01mNone\u001B[39;00m:\n\u001B[0;32m    348\u001B[0m     \u001B[38;5;28mcls\u001B[39m \u001B[38;5;241m=\u001B[39m JSONDecoder\n",
      "File \u001B[1;32m~\\AppData\\Local\\Programs\\Python\\Python312\\Lib\\json\\decoder.py:337\u001B[0m, in \u001B[0;36mJSONDecoder.decode\u001B[1;34m(self, s, _w)\u001B[0m\n\u001B[0;32m    332\u001B[0m \u001B[38;5;28;01mdef\u001B[39;00m \u001B[38;5;21mdecode\u001B[39m(\u001B[38;5;28mself\u001B[39m, s, _w\u001B[38;5;241m=\u001B[39mWHITESPACE\u001B[38;5;241m.\u001B[39mmatch):\n\u001B[0;32m    333\u001B[0m \u001B[38;5;250m    \u001B[39m\u001B[38;5;124;03m\"\"\"Return the Python representation of ``s`` (a ``str`` instance\u001B[39;00m\n\u001B[0;32m    334\u001B[0m \u001B[38;5;124;03m    containing a JSON document).\u001B[39;00m\n\u001B[0;32m    335\u001B[0m \n\u001B[0;32m    336\u001B[0m \u001B[38;5;124;03m    \"\"\"\u001B[39;00m\n\u001B[1;32m--> 337\u001B[0m     obj, end \u001B[38;5;241m=\u001B[39m \u001B[38;5;28;43mself\u001B[39;49m\u001B[38;5;241;43m.\u001B[39;49m\u001B[43mraw_decode\u001B[49m\u001B[43m(\u001B[49m\u001B[43ms\u001B[49m\u001B[43m,\u001B[49m\u001B[43m \u001B[49m\u001B[43midx\u001B[49m\u001B[38;5;241;43m=\u001B[39;49m\u001B[43m_w\u001B[49m\u001B[43m(\u001B[49m\u001B[43ms\u001B[49m\u001B[43m,\u001B[49m\u001B[43m \u001B[49m\u001B[38;5;241;43m0\u001B[39;49m\u001B[43m)\u001B[49m\u001B[38;5;241;43m.\u001B[39;49m\u001B[43mend\u001B[49m\u001B[43m(\u001B[49m\u001B[43m)\u001B[49m\u001B[43m)\u001B[49m\n\u001B[0;32m    338\u001B[0m     end \u001B[38;5;241m=\u001B[39m _w(s, end)\u001B[38;5;241m.\u001B[39mend()\n\u001B[0;32m    339\u001B[0m     \u001B[38;5;28;01mif\u001B[39;00m end \u001B[38;5;241m!=\u001B[39m \u001B[38;5;28mlen\u001B[39m(s):\n",
      "File \u001B[1;32m~\\AppData\\Local\\Programs\\Python\\Python312\\Lib\\json\\decoder.py:353\u001B[0m, in \u001B[0;36mJSONDecoder.raw_decode\u001B[1;34m(self, s, idx)\u001B[0m\n\u001B[0;32m    344\u001B[0m \u001B[38;5;250m\u001B[39m\u001B[38;5;124;03m\"\"\"Decode a JSON document from ``s`` (a ``str`` beginning with\u001B[39;00m\n\u001B[0;32m    345\u001B[0m \u001B[38;5;124;03ma JSON document) and return a 2-tuple of the Python\u001B[39;00m\n\u001B[0;32m    346\u001B[0m \u001B[38;5;124;03mrepresentation and the index in ``s`` where the document ended.\u001B[39;00m\n\u001B[1;32m   (...)\u001B[0m\n\u001B[0;32m    350\u001B[0m \n\u001B[0;32m    351\u001B[0m \u001B[38;5;124;03m\"\"\"\u001B[39;00m\n\u001B[0;32m    352\u001B[0m \u001B[38;5;28;01mtry\u001B[39;00m:\n\u001B[1;32m--> 353\u001B[0m     obj, end \u001B[38;5;241m=\u001B[39m \u001B[38;5;28;43mself\u001B[39;49m\u001B[38;5;241;43m.\u001B[39;49m\u001B[43mscan_once\u001B[49m\u001B[43m(\u001B[49m\u001B[43ms\u001B[49m\u001B[43m,\u001B[49m\u001B[43m \u001B[49m\u001B[43midx\u001B[49m\u001B[43m)\u001B[49m\n\u001B[0;32m    354\u001B[0m \u001B[38;5;28;01mexcept\u001B[39;00m \u001B[38;5;167;01mStopIteration\u001B[39;00m \u001B[38;5;28;01mas\u001B[39;00m err:\n\u001B[0;32m    355\u001B[0m     \u001B[38;5;28;01mraise\u001B[39;00m JSONDecodeError(\u001B[38;5;124m\"\u001B[39m\u001B[38;5;124mExpecting value\u001B[39m\u001B[38;5;124m\"\u001B[39m, s, err\u001B[38;5;241m.\u001B[39mvalue) \u001B[38;5;28;01mfrom\u001B[39;00m \u001B[38;5;28;01mNone\u001B[39;00m\n",
      "\u001B[1;31mJSONDecodeError\u001B[0m: Expecting ',' delimiter: line 1 column 3075072 (char 3075071)"
     ]
    }
   ],
   "execution_count": 124
  },
  {
   "cell_type": "code",
   "id": "179c0cc902a616f",
   "metadata": {
    "ExecuteTime": {
     "end_time": "2024-10-30T13:49:08.628626700Z",
     "start_time": "2024-10-30T13:38:33.735474Z"
    }
   },
   "source": [
    "check( f'{folder}/plots' )"
   ],
   "outputs": [
    {
     "data": {
      "text/plain": [
       "24"
      ]
     },
     "execution_count": 100,
     "metadata": {},
     "output_type": "execute_result"
    }
   ],
   "execution_count": 100
  },
  {
   "cell_type": "code",
   "id": "608ffdcdd3d4fd98",
   "metadata": {
    "ExecuteTime": {
     "end_time": "2024-10-30T13:49:08.628626700Z",
     "start_time": "2024-10-30T13:38:36.159746Z"
    }
   },
   "source": [
    "for k, v in positions.items():\n",
    "\tif norm( pose_weight[ v, v ] ) == 0:\n",
    "\t\tcontinue\n",
    "\tabsolute_distances = abs( previous_target_trajectory[ :, v ] - previous_actual_trajectory[ :, v ] )\n",
    "\tplt.plot( previous_times, absolute_distances )\n",
    "\tplt.legend(\n",
    "\t\t\t[\n",
    "\t\t\t\t\tr'over $\\mathbf{x}_w$-axis',\n",
    "\t\t\t\t\tr'over $\\mathbf{y}_w$-axis',\n",
    "\t\t\t\t\tr'over $\\mathbf{z}_w$-axis'\n",
    "\t\t\t\t\t]\n",
    "\t\t\t)\n",
    "\tplt.xlabel( 'time [s]' )\n",
    "\tplt.ylabel( 'absolute error [m]' )\n",
    "\tplt.subplots_adjust( bottom = 0.125, top = 1, left = 0.075, right = 1 )\n",
    "\tplt.savefig( f'{folder}/plots/{k}_tracking_error_{uuid}.png', dpi = 300 )\n",
    "\tplt.close( 'all' )"
   ],
   "outputs": [],
   "execution_count": 101
  },
  {
   "cell_type": "code",
   "id": "3cfcd0e3074aff59",
   "metadata": {
    "ExecuteTime": {
     "end_time": "2024-10-30T13:49:08.628626700Z",
     "start_time": "2024-10-30T13:38:36.476386Z"
    }
   },
   "source": [
    "for k, v in orientations.items():\n",
    "\tif norm( pose_weight[ v, v ] ) == 0:\n",
    "\t\tcontinue\n",
    "\tplt.plot( previous_times, abs( previous_target_trajectory[ :, v ] - previous_actual_trajectory[ :, v ] ) )\n",
    "\tplt.legend(\n",
    "\t\t\t[\n",
    "\t\t\t\t\tr'around $\\mathbf{x}_w$-axis',\n",
    "\t\t\t\t\tr'around $\\mathbf{y}_w$-axis',\n",
    "\t\t\t\t\tr'around $\\mathbf{z}_w$-axis'\n",
    "\t\t\t\t\t]\n",
    "\t\t\t)\n",
    "\tplt.xlabel( 'time [s]' )\n",
    "\tplt.ylabel( 'absolute error [rad]' )\n",
    "\tplt.subplots_adjust( bottom = 0.125, top = 1, left = 0.075, right = 1 )\n",
    "\tplt.savefig( f'{folder}/plots/{k}_tracking_error_{uuid}.png', dpi = 300 )\n",
    "\tplt.close( 'all' )"
   ],
   "outputs": [],
   "execution_count": 102
  },
  {
   "cell_type": "code",
   "id": "d3ce72c654dc4014",
   "metadata": {
    "ExecuteTime": {
     "end_time": "2024-10-30T13:49:08.628626700Z",
     "start_time": "2024-10-30T13:38:37.159103Z"
    }
   },
   "source": [
    "for k, v in linear_actuation.items():\n",
    "\tplt.plot( previous_times, previous_actuations[ :-1, v ] )\n",
    "\tplt.xlabel( 'time [s]' )\n",
    "\tplt.ylabel( 'actuation [N]' )\n",
    "\tplt.legend(\n",
    "\t\t\t[\n",
    "\t\t\t\t\tr'over $\\mathbf{x}_r$-axis',\n",
    "\t\t\t\t\tr'over $\\mathbf{y}_r$-axis',\n",
    "\t\t\t\t\tr'over $\\mathbf{z}_r$-axis'\n",
    "\t\t\t\t\t]\n",
    "\t\t\t)\n",
    "\tplt.subplots_adjust( bottom = 0.125, top = 1, left = 0.075, right = 1 )\n",
    "\tplt.savefig( f'{folder}/plots/{k}_{uuid}.png', dpi = 300 )\n",
    "\tplt.close( 'all' )"
   ],
   "outputs": [],
   "execution_count": 103
  },
  {
   "cell_type": "code",
   "id": "8e1cc090d6aeb520",
   "metadata": {
    "ExecuteTime": {
     "end_time": "2024-10-30T13:49:08.628626700Z",
     "start_time": "2024-10-30T13:38:38.291182Z"
    }
   },
   "source": [
    "for k, v in angular_actuation.items():\n",
    "\tplt.plot( previous_times, previous_actuations[ :-1, v ] )\n",
    "\tplt.xlabel( 'time [s]' )\n",
    "\tplt.ylabel( 'actuation [Nm]' )\n",
    "\tplt.legend(\n",
    "\t\t\t[\n",
    "\t\t\t\t\tr'around $\\mathbf{x}_r$-axis',\n",
    "\t\t\t\t\tr'around $\\mathbf{y}_r$-axis',\n",
    "\t\t\t\t\tr'around $\\mathbf{z}_r$-axis'\n",
    "\t\t\t\t\t]\n",
    "\t\t\t)\n",
    "\tplt.subplots_adjust( bottom = 0.125, top = 1, left = 0.075, right = 1 )\n",
    "\tplt.savefig( f'{folder}/plots/{k}_{uuid}.png', dpi = 300 )\n",
    "\tplt.close( 'all' )"
   ],
   "outputs": [],
   "execution_count": 104
  },
  {
   "cell_type": "code",
   "id": "f24c7e7b52d28c00",
   "metadata": {
    "ExecuteTime": {
     "end_time": "2024-10-30T13:49:08.628626700Z",
     "start_time": "2024-10-30T13:38:39.231461Z"
    }
   },
   "source": [
    "for pair_1, pair_2 in positions_pairs.items():\n",
    "\tposition_1 = deepcopy( previous_actual_trajectory[ :, slice_repository[ pair_1 + '_position' ] ] )\n",
    "\tposition_2 = deepcopy( previous_actual_trajectory[ :, slice_repository[ pair_2 + '_position' ] ] )\n",
    "\n",
    "\tlowest_points = zeros( (position_1.shape[ 0 ],) )\n",
    "\n",
    "\tname = f'c_{pair_1.split( \"_\" )[ -1 ]}{pair_2.split( \"_\" )[ -1 ]}'\n",
    "\tcat = Catenary(\n",
    "\t\t\tconfig[ 'model' ][ 'dynamics' ][ name ][ 'length' ],\n",
    "\t\t\tconfig[ 'model' ][ 'dynamics' ][ name ][ 'linear_mass' ]\n",
    "\t\t\t)\n",
    "\n",
    "\tfor i, (p1, p2) in enumerate( zip( position_1, position_2 ) ):\n",
    "\t\tlowest_points[ i ] = cat.get_lowest_point( p1, p2 )[ 2 ]\n",
    "\n",
    "\tplt.plot( previous_times, lowest_points )\n",
    "\n",
    "plt.legend( [ f'from {a} to {b}' for a, b in positions_pairs.items() ] )\n",
    "plt.xlabel( 'time [s]' )\n",
    "plt.ylabel( 'distance [m]' )\n",
    "plt.subplots_adjust( bottom = 0.125, top = 1, left = 0.075, right = 1 )\n",
    "plt.gca().invert_yaxis()\n",
    "plt.savefig( f'{folder}/plots/lowest_points_{uuid}.png', dpi = 300 )\n",
    "plt.close( 'all' )"
   ],
   "outputs": [],
   "execution_count": 105
  },
  {
   "cell_type": "code",
   "id": "bcc5c58b0ed123b0",
   "metadata": {
    "ExecuteTime": {
     "end_time": "2024-10-30T13:49:08.629557900Z",
     "start_time": "2024-10-30T13:38:39.583692Z"
    }
   },
   "source": [
    "for pair_1, pair_2 in positions_pairs.items():\n",
    "\tabsolute_distances = norm(\n",
    "\t\t\tprevious_actual_trajectory[ :, positions[ pair_1 + '_position' ] ] -\n",
    "\t\t\tprevious_actual_trajectory[ :, positions[ pair_2 + '_position' ] ],\n",
    "\t\t\taxis = 1\n",
    "\t\t\t)\n",
    "\tplt.plot( previous_times, absolute_distances )\n",
    "plt.legend( [ f'from {a} to {b}' for a, b in positions_pairs.items() ] )\n",
    "plt.xlabel( 'time [s]' )\n",
    "plt.ylabel( 'distance [m]' )\n",
    "plt.subplots_adjust( bottom = 0.125, top = 1, left = 0.075, right = 1 )\n",
    "plt.savefig( f'{folder}/plots/distance_{uuid}.png', dpi = 300 )\n",
    "plt.close( 'all' )"
   ],
   "outputs": [],
   "execution_count": 106
  },
  {
   "cell_type": "code",
   "id": "5652214d517da19",
   "metadata": {
    "ExecuteTime": {
     "end_time": "2024-10-30T13:49:08.629557900Z",
     "start_time": "2024-10-30T13:38:39.875228Z"
    }
   },
   "source": [
    "for p1, p2 in positions_pairs.items():\n",
    "\tabsolute_distances = norm(\n",
    "\t\t\tprevious_actual_trajectory[ :, slice_repository[ p1 + '_xy' ] ] -\n",
    "\t\t\tprevious_actual_trajectory[ :, slice_repository[ p2 + '_xy' ] ],\n",
    "\t\t\taxis = 1\n",
    "\t\t\t)\n",
    "\tplt.plot( previous_times, absolute_distances )\n",
    "plt.legend( [ f'from {a} to {b}' for a, b in positions_pairs.items() ] )\n",
    "plt.xlabel( 'time [s]' )\n",
    "plt.ylabel( 'distance [m]' )\n",
    "plt.subplots_adjust( bottom = 0.125, top = 1, left = 0.075, right = 1 )\n",
    "plt.savefig( f'{folder}/plots/horizontal_distance_{uuid}.png', dpi = 300 )\n",
    "plt.close( 'all' )"
   ],
   "outputs": [],
   "execution_count": 107
  },
  {
   "cell_type": "code",
   "id": "5bcb8d886f34b586",
   "metadata": {
    "ExecuteTime": {
     "end_time": "2024-10-30T13:49:08.629557900Z",
     "start_time": "2024-10-30T13:38:40.150592Z"
    }
   },
   "source": [
    "figs = [ 'x', 'y', 'z' ]\n",
    "\n",
    "x = plt.figure().subplots()\n",
    "y = plt.figure().subplots()\n",
    "z = plt.figure().subplots()\n",
    "z.invert_yaxis()\n",
    "\n",
    "legends = [ [ ], [ ], [ ] ]\n",
    "\n",
    "for k, v in positions.items():\n",
    "\tposition = previous_actual_trajectory[ :, v ]\n",
    "\n",
    "\tX = position[ :, 0 ]\n",
    "\tY = position[ :, 1 ]\n",
    "\tZ = position[ :, 2 ]\n",
    "\n",
    "\tx.plot( previous_times, X )\n",
    "\ty.plot( previous_times, Y )\n",
    "\tz.plot( previous_times, Z )\n",
    "\n",
    "\tfor i in range( 3 ):\n",
    "\t\tlegends[ i ] += [ f'{k}' ]\n",
    "\n",
    "\tif norm( pose_weight[ v, v ][ :, 0 ] ) > 0:\n",
    "\t\ttarget = previous_target_trajectory[ :, v ][ :, 0 ]\n",
    "\t\tx.plot( previous_times, target, ':', linewidth = 3 )\n",
    "\t\tlegends[ 0 ] += [ f'{k} target' ]\n",
    "\n",
    "\tif norm( pose_weight[ v, v ][ :, 1 ] ) > 0:\n",
    "\t\ttarget = previous_target_trajectory[ :, v ][ :, 1 ]\n",
    "\t\ty.plot( previous_times, target, ':', linewidth = 3 )\n",
    "\t\tlegends[ 1 ] += [ f'{k} target' ]\n",
    "\n",
    "\tif norm( pose_weight[ v, v ][ :, 2 ] ) > 0:\n",
    "\t\ttarget = previous_target_trajectory[ :, v ][ :, 2 ]\n",
    "\t\tz.plot( previous_times, target, ':', linewidth = 3 )\n",
    "\t\tlegends[ 2 ] += [ f'{k} target' ]\n",
    "\n",
    "for f in plt.get_fignums():\n",
    "\tfig = plt.figure( f )\n",
    "\tplt.legend( legends[ f - 1 ] )\n",
    "\tplt.xlabel( 'time [s]' )\n",
    "\tplt.ylabel( f'position on $\\\\mathbf{{{figs[ f - 1 ]}}}_w$-axis [m]' )\n",
    "\tplt.subplots_adjust( bottom = 0.125, top = 1, left = 0.075, right = 1 )\n",
    "\tplt.savefig( f'{folder}/plots/positions_on_{figs[ f - 1 ]}_{uuid}.png', dpi = 300 )\n",
    "plt.close( 'all' )"
   ],
   "outputs": [],
   "execution_count": 108
  },
  {
   "cell_type": "code",
   "id": "93f40afd47b7d607",
   "metadata": {
    "ExecuteTime": {
     "end_time": "2024-10-30T13:49:08.629557900Z",
     "start_time": "2024-10-30T13:38:40.912116Z"
    }
   },
   "source": [
    "figs = [ 'x', 'y', 'z' ]\n",
    "\n",
    "x = plt.figure().subplots()\n",
    "y = plt.figure().subplots()\n",
    "z = plt.figure().subplots()\n",
    "z.invert_yaxis()\n",
    "\n",
    "legends = [ [ ], [ ], [ ] ]\n",
    "\n",
    "for k, v in speeds.items():\n",
    "\tspeed = previous_actual_trajectory[ :, v ]\n",
    "\n",
    "\tX = speed[ :, 0 ]\n",
    "\tY = speed[ :, 1 ]\n",
    "\tZ = speed[ :, 2 ]\n",
    "\n",
    "\tx.plot( previous_times, X )\n",
    "\ty.plot( previous_times, Y )\n",
    "\tz.plot( previous_times, Z )\n",
    "\n",
    "\tfor i in range( 3 ):\n",
    "\t\tlegends[ i ] += [ f'{k}' ]\n",
    "\n",
    "for f in plt.get_fignums():\n",
    "\tfig = plt.figure( f )\n",
    "\tplt.legend( legends[ f - 1 ] )\n",
    "\tplt.xlabel( 'time [s]' )\n",
    "\tplt.ylabel( f'speed on $\\\\mathbf{{{figs[ f - 1 ]}}}_r$-axis [m/s]' )\n",
    "\tplt.subplots_adjust( bottom = 0.125, top = 1, left = 0.075, right = 1 )\n",
    "\tplt.savefig( f'{folder}/plots/speeds_on_{figs[ f - 1 ]}_{uuid}.png', dpi = 300 )\n",
    "plt.close( 'all' )"
   ],
   "outputs": [],
   "execution_count": 109
  },
  {
   "cell_type": "code",
   "id": "fa7d95363674979c",
   "metadata": {
    "ExecuteTime": {
     "end_time": "2024-10-30T13:49:08.629557900Z",
     "start_time": "2024-10-30T13:38:41.829427Z"
    }
   },
   "source": [
    "plt.plot( previous_times, final_state[ 'compute_times' ] )\n",
    "plt.hlines( config[ 'time_step' ] * config[ 'horizon' ], 0, previous_times[ -1 ], 'r', '--' )\n",
    "plt.legend( [ 'compute time', 'horizon depth' ] )\n",
    "plt.xlabel( 'time [s]' )\n",
    "plt.ylabel( 'time [s]' )\n",
    "plt.subplots_adjust( bottom = 0.125, top = 1, left = 0.075, right = 1 )\n",
    "plt.savefig( f'{folder}/plots/compute_times_{uuid}.png', dpi = 300 )\n",
    "plt.close( 'all' )"
   ],
   "outputs": [],
   "execution_count": 110
  },
  {
   "cell_type": "code",
   "id": "ad389f2c68bbfa6f",
   "metadata": {
    "ExecuteTime": {
     "end_time": "2024-10-30T13:49:08.629557900Z",
     "start_time": "2024-10-30T13:38:42.110355Z"
    }
   },
   "source": [
    "frames_already_done = check( f'{folder}/plots/3d_frames' )"
   ],
   "outputs": [],
   "execution_count": 111
  },
  {
   "cell_type": "code",
   "id": "634fcfd31d96cf19",
   "metadata": {
    "ExecuteTime": {
     "end_time": "2024-10-30T13:49:08.629557900Z",
     "start_time": "2024-10-30T13:38:44.188815Z"
    }
   },
   "source": [
    "robots_colors = { '0': 'r', '1': 'g', '2': 'b', '3': 'y', '4': 'm' }\n",
    "quiver_scale = .5\n",
    "box = [ [ -6.5, 4.5 ], [ -5.5, 5.5 ], [ -5, 6 ] ]\n",
    "\n",
    "water_current = config[ 'model' ][ 'dynamics' ][ 'br_0' ][ 'water_current' ]\n",
    "water_surface = config[ 'model' ][ 'dynamics' ][ 'br_0' ][ 'water_surface_depth' ]\n",
    "seafloor_index = config[ 'constraints' ][ 0 ][ 'labels' ].index( 'seafloor' )\n",
    "seafloor = config[ 'constraints' ][ 0 ][ 'ub' ][ seafloor_index ]\n",
    "\n",
    "X = linspace( box[ 0 ][ 0 ], box[ 0 ][ 1 ], 5 )\n",
    "Y = linspace( box[ 1 ][ 0 ], box[ 1 ][ 1 ], 5 )\n",
    "Z = linspace(\n",
    "\t\tbox[ 2 ][ 0 ] if box[ 2 ][ 0 ] > water_surface else water_surface,\n",
    "\t\tbox[ 2 ][ 1 ] if box[ 2 ][ 1 ] < seafloor else seafloor,\n",
    "\t\t5\n",
    "\t\t)\n",
    "Xg, Yg, Zg = meshgrid( X, Y, Z )\n",
    "Xpg, Ypg = meshgrid( X, Y )\n",
    "\n",
    "Uc = water_current[ 0 ] * ones( Xg.shape )\n",
    "Vc = water_current[ 1 ] * ones( Xg.shape )\n",
    "Wc = water_current[ 2 ] * ones( Xg.shape )\n",
    "\n",
    "WS = water_surface * ones( Xpg.shape )\n",
    "SF = seafloor * ones( Xpg.shape )\n",
    "\n",
    "for frame in tqdm( range( frames_already_done, n_frames ) ):\n",
    "\t# frame = 100\n",
    "\n",
    "\twith open( data_files[ frame ] ) as f:\n",
    "\t\tsimulation_state = json.load( f )\n",
    "\tpredicted_trajectories = array( simulation_state[ 'predicted_trajectories' ] )\n",
    "\tif predicted_trajectories.shape[ 0 ] > 100:\n",
    "\t\tpredicted_trajectories = predicted_trajectories[ ::predicted_trajectories.shape[ 0 ] // 100 ]\n",
    "\n",
    "\tfig = plt.figure( figsize = (10, 10) )\n",
    "\tview = plt.subplot( projection = '3d', computed_zorder = False )\n",
    "\tview.set_xlabel( r\"$\\mathbf{x}_w$-axis\" )\n",
    "\tview.set_ylabel( r\"$\\mathbf{y}_w$-axis\" )\n",
    "\tview.set_zlabel( r\"$\\mathbf{z}_w$-axis\" )\n",
    "\tview.set_xlim( *box[ 0 ] )\n",
    "\tview.set_ylim( *box[ 1 ] )\n",
    "\tview.set_zlim( *box[ 2 ] )\n",
    "\tview.invert_yaxis()\n",
    "\tview.invert_zaxis()\n",
    "\n",
    "\tinset_view_xz = view.inset_axes( [ .0, .0, .2, .2 ] )\n",
    "\tinset_view_xz.set_xlabel( r\"$\\mathbf{x}_w$-axis\" )\n",
    "\tinset_view_xz.set_ylabel( r\"$\\mathbf{z}_w$-axis\" )\n",
    "\tinset_view_xz.set_xlim( *box[ 0 ] )\n",
    "\tinset_view_xz.set_ylim( *box[ 2 ] )\n",
    "\tinset_view_xz.invert_yaxis()\n",
    "\n",
    "\tinset_view_yz = view.inset_axes( [ .8, .0, .2, .2 ] )\n",
    "\tinset_view_yz.set_xlabel( r\"$\\mathbf{y}_w$-axis\" )\n",
    "\tinset_view_yz.set_ylabel( r\"$\\mathbf{z}_w$-axis\" )\n",
    "\tinset_view_yz.set_xlim( *box[ 1 ] )\n",
    "\tinset_view_yz.set_ylim( *box[ 2 ] )\n",
    "\tinset_view_yz.invert_yaxis()\n",
    "\tinset_view_yz.invert_xaxis()\n",
    "\n",
    "\tinset_view_xy = view.inset_axes( [ .0, .8, .2, .2 ] )\n",
    "\tinset_view_xy.set_xlabel( r\"$\\mathbf{x}_w$-axis\" )\n",
    "\tinset_view_xy.set_ylabel( r\"$\\mathbf{y}_w$-axis\" )\n",
    "\tinset_view_xy.set_xlim( *box[ 0 ] )\n",
    "\tinset_view_xy.set_ylim( *box[ 1 ] )\n",
    "\tinset_view_xy.invert_yaxis()\n",
    "\n",
    "\tview.quiver( Xg, Yg, Zg, Uc, Vc, Wc, color = 'navy' )\n",
    "\tview.plot_surface( Xpg, Ypg, SF, color = 'brown', zorder = 0. )\n",
    "\tview.plot_surface( Xpg, Ypg, WS, color = 'navy', alpha = 0.1 )\n",
    "\n",
    "\tinset_view_xz.axhline(water_surface, color='navy')\n",
    "\tinset_view_xz.axhline(seafloor, color='brown')\n",
    "\tinset_view_yz.axhline(water_surface, color='navy')\n",
    "\tinset_view_yz.axhline(seafloor, color='brown')\n",
    "\n",
    "\tfor k, v in pose.items():\n",
    "\n",
    "\t\tcolor = robots_colors[ k.split( '_' )[ 1 ] ]\n",
    "\n",
    "\t\tif norm( pose_weight[ v, v ][ :3, :3 ] ) > 0:\n",
    "\t\t\tXt = target_trajectory[ :, v ][ :, 0 ]\n",
    "\t\t\tYt = target_trajectory[ :, v ][ :, 1 ]\n",
    "\t\t\tZt = target_trajectory[ :, v ][ :, 2 ]\n",
    "\n",
    "\t\t\tview.plot( Xt, Yt, Zt, ':', color = 'k' )\n",
    "\t\t\tview.scatter( Xt[ frame + 1 ], Yt[ frame + 1 ], Zt[ frame + 1 ], marker = 'x', color = 'k' )\n",
    "\t\t\tinset_view_xz.plot( Xt, Zt, ':', color = 'k' )\n",
    "\t\t\tinset_view_xz.scatter( Xt[ frame + 1 ], Zt[ frame + 1 ], marker = 'x', color = 'k' )\n",
    "\t\t\tinset_view_yz.plot( Yt, Zt, ':', color = 'k' )\n",
    "\t\t\tinset_view_yz.scatter( Yt[ frame + 1 ], Zt[ frame + 1 ], marker = 'x', color = 'k' )\n",
    "\t\t\tinset_view_xy.plot( Xt, Yt, ':', color = 'k' )\n",
    "\t\t\tinset_view_xy.scatter( Xt[ frame + 1 ], Yt[ frame + 1 ], marker = 'x', color = 'k' )\n",
    "\n",
    "\t\tX = previous_actual_trajectory[ frame, v ][ 0 ]\n",
    "\t\tY = previous_actual_trajectory[ frame, v ][ 1 ]\n",
    "\t\tZ = previous_actual_trajectory[ frame, v ][ 2 ]\n",
    "\n",
    "\t\tP = previous_actual_trajectory[ frame, v ][ :3 ]\n",
    "\t\tA = previous_actual_trajectory[ frame, v ][ 3:6 ]\n",
    "\t\tR = Rotation.from_euler( 'xyz', A ).as_matrix()\n",
    "\n",
    "\t\tview.quiver( *P, *(R @ array( [ quiver_scale, 0., 0. ] )), color = 'r' )\n",
    "\t\tview.quiver( *P, *(R @ array( [ 0., quiver_scale, 0. ] )), color = 'g' )\n",
    "\t\tview.quiver( *P, *(R @ array( [ 0., 0., quiver_scale ] )), color = 'b' )\n",
    "\n",
    "\t\tview.scatter( X, Y, Z, color = color )\n",
    "\t\tinset_view_xz.scatter( X, Z, color = color )\n",
    "\t\tinset_view_yz.scatter( Y, Z, color = color )\n",
    "\t\tinset_view_xy.scatter( X, Y, color = color )\n",
    "\n",
    "\t\tfor trajectory in predicted_trajectories:\n",
    "\t\t\tX = trajectory[ :, 0, v ][ :, 0 ]\n",
    "\t\t\tY = trajectory[ :, 0, v ][ :, 1 ]\n",
    "\t\t\tZ = trajectory[ :, 0, v ][ :, 2 ]\n",
    "\n",
    "\t\t\tview.plot( X, Y, Z, linewidth = .5, color = color )\n",
    "\t\t\tinset_view_xz.plot( X, Z, linewidth = .5, color = color )\n",
    "\t\t\tinset_view_yz.plot( Y, Z, linewidth = .5, color = color )\n",
    "\t\t\tinset_view_xy.plot( X, Y, linewidth = .5, color = color )\n",
    "\n",
    "\tfor p1, p2 in positions_pairs.items():\n",
    "\n",
    "\t\tcolor = robots_colors[ p1.split( '_' )[ 1 ] ]\n",
    "\n",
    "\t\tposition_1 = deepcopy( previous_actual_trajectory[ frame, positions[ p1 + '_position' ] ] )\n",
    "\t\tposition_2 = deepcopy( previous_actual_trajectory[ frame, positions[ p2 + '_position' ] ] )\n",
    "\n",
    "\t\tname = f'c_{p1.split( \"_\" )[ -1 ]}{p2.split( \"_\" )[ -1 ]}'\n",
    "\t\tcat = Catenary(\n",
    "\t\t\t\tconfig[ 'model' ][ 'dynamics' ][ name ][ 'length' ],\n",
    "\t\t\t\tconfig[ 'model' ][ 'dynamics' ][ name ][ 'linear_mass' ]\n",
    "\t\t\t\t)\n",
    "\n",
    "\t\tcat_12 = cat.discretize( position_1, position_2 )\n",
    "\n",
    "\t\tview.plot( cat_12[ :, 0 ], cat_12[ :, 1 ], cat_12[ :, 2 ], color = color )\n",
    "\t\tinset_view_xz.plot( cat_12[ :, 0 ], cat_12[ :, 2 ], color = color )\n",
    "\t\tinset_view_yz.plot( cat_12[ :, 1 ], cat_12[ :, 2 ], color = color )\n",
    "\t\tinset_view_xy.plot( cat_12[ :, 0 ], cat_12[ :, 1 ], color = color )\n",
    "\n",
    "\tplt.savefig( f'{folder}/plots/3d_frames/{frame}.png', dpi = 100 )\n",
    "\tplt.close( 'all' )\n",
    "\tdel fig, view, inset_view_xz, inset_view_yz, inset_view_xy"
   ],
   "outputs": [
    {
     "name": "stderr",
     "output_type": "stream",
     "text": [
      "100%|██████████| 22/22 [00:53<00:00,  2.44s/it]\n"
     ]
    }
   ],
   "execution_count": 112
  },
  {
   "cell_type": "code",
   "id": "70338ea0a686564",
   "metadata": {
    "ExecuteTime": {
     "end_time": "2024-10-30T13:49:08.629557900Z",
     "start_time": "2024-10-30T13:39:38.029095Z"
    }
   },
   "source": [
    "collect()"
   ],
   "outputs": [
    {
     "data": {
      "text/plain": [
       "2576909"
      ]
     },
     "execution_count": 113,
     "metadata": {},
     "output_type": "execute_result"
    }
   ],
   "execution_count": 113
  },
  {
   "cell_type": "code",
   "id": "eb26e196bad38112",
   "metadata": {
    "ExecuteTime": {
     "end_time": "2024-10-30T13:49:08.629557900Z",
     "start_time": "2024-10-30T13:39:39.732772Z"
    }
   },
   "source": [
    "gif_from_pngs( f'{folder}/plots/3d_frames', duration = config[ 'model' ][ 'time_step' ] * 1000 )"
   ],
   "outputs": [],
   "execution_count": 114
  },
  {
   "cell_type": "code",
   "id": "f79cbacba01f8091",
   "metadata": {
    "ExecuteTime": {
     "end_time": "2024-10-30T13:49:08.629557900Z",
     "start_time": "2024-10-30T13:39:42.186743Z"
    }
   },
   "source": [
    "collect()"
   ],
   "outputs": [
    {
     "data": {
      "text/plain": [
       "0"
      ]
     },
     "execution_count": 115,
     "metadata": {},
     "output_type": "execute_result"
    }
   ],
   "execution_count": 115
  },
  {
   "cell_type": "code",
   "id": "21caf7a3eeacdfe0",
   "metadata": {
    "ExecuteTime": {
     "end_time": "2024-10-30T13:49:08.629557900Z",
     "start_time": "2024-10-30T13:39:42.390441Z"
    }
   },
   "source": [
    "system( f'ffmpeg -y -i {folder}/plots/3d_frames/animation.gif {folder}/plots/animation.mp4' )"
   ],
   "outputs": [
    {
     "data": {
      "text/plain": [
       "0"
      ]
     },
     "execution_count": 116,
     "metadata": {},
     "output_type": "execute_result"
    }
   ],
   "execution_count": 116
  }
 ],
 "metadata": {
  "kernelspec": {
   "display_name": "venv_312",
   "language": "python",
   "name": "python3"
  },
  "language_info": {
   "codemirror_mode": {
    "name": "ipython",
    "version": 3
   },
   "file_extension": ".py",
   "mimetype": "text/x-python",
   "name": "python",
   "nbconvert_exporter": "python",
   "pygments_lexer": "ipython3",
   "version": "3.12.6"
  }
 },
 "nbformat": 4,
 "nbformat_minor": 5
}
