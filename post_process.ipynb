{
 "cells": [
  {
   "cell_type": "code",
   "id": "aba6b7805a7db44b",
   "metadata": {
    "ExecuteTime": {
     "end_time": "2024-09-24T13:07:16.251660Z",
     "start_time": "2024-09-24T13:07:16.238592Z"
    }
   },
   "source": [
    "import json as json\n",
    "import pathlib as pl\n",
    "from copy import deepcopy\n",
    "from datetime import datetime\n",
    "from gc import collect\n",
    "from os import path, system\n",
    "\n",
    "import matplotlib.pyplot as plt\n",
    "from matplotlib import rcParams\n",
    "from numpy import array\n",
    "from numpy.linalg import norm\n",
    "from tqdm import tqdm\n",
    "\n",
    "from calc_catenary_from_ext_points import get_coor_marker_points_ideal_catenary\n",
    "from utils import check, gif_from_pngs, print_dict\n",
    "\n",
    "gain = 1.5\n",
    "rcParams[ 'figure.figsize' ] = [ gain * 6.4, gain * 4.8 / 2 ]"
   ],
   "outputs": [],
   "execution_count": 62
  },
  {
   "cell_type": "code",
   "id": "5064fca0b6aaa5b7",
   "metadata": {
    "ExecuteTime": {
     "end_time": "2024-09-24T13:07:16.299704Z",
     "start_time": "2024-09-24T13:07:16.275236Z"
    }
   },
   "source": [
    "for v in pl.Path( \"./export\" ).glob( '*' ):\n",
    "\tprint( str( v ).split( '//' )[ -1 ], end = '\\t' )\n",
    "\tprint( datetime.fromtimestamp( path.getctime( v ) ) )"
   ],
   "outputs": [
    {
     "name": "stdout",
     "output_type": "stream",
     "text": [
      "export\\three_robots_chain_1726157070\t2024-09-17 09:04:31.536003\n",
      "export\\three_robots_chain_1726514783\t2024-09-24 09:27:41.851908\n",
      "export\\three_robots_chain_1726580899\t2024-09-17 15:48:19.796810\n",
      "export\\three_robots_chain_with_fixed_end_1726429003\t2024-09-24 09:27:41.884528\n",
      "export\\three_robots_chain_with_fixed_end_1726554218\t2024-09-24 09:27:41.919829\n",
      "export\\three_robots_chain_with_fixed_end_1727078633\t2024-09-23 10:03:53.983169\n",
      "export\\three_robots_chain_with_fixed_end_1727081819\t2024-09-23 10:56:59.165230\n",
      "export\\three_robots_chain_with_fixed_end_1727099624\t2024-09-23 15:53:44.695520\n",
      "export\\three_robots_chain_with_fixed_end_1727163792\t2024-09-24 09:43:12.977548\n",
      "export\\three_robots_chain_with_fixed_end_1727166337\t2024-09-24 10:25:37.238871\n",
      "export\\three_robots_chain_with_fixed_end_1727173761\t2024-09-24 12:29:21.839493\n",
      "export\\three_robots_chain_with_fixed_end_1727174240\t2024-09-24 12:37:20.930869\n",
      "export\\three_robots_chain_with_fixed_end_1727175608\t2024-09-24 13:00:08.731280\n",
      "export\\three_robots_chain_with_fixed_end_1727175965\t2024-09-24 13:06:05.785539\n",
      "export\\three_robots_chain_with_fixed_end_1727176928\t2024-09-24 13:22:08.992746\n",
      "export\\three_robots_chain_with_fixed_end_1727177668\t2024-09-24 13:34:28.782965\n",
      "export\\three_robots_chain_with_fixed_end_1727180227\t2024-09-24 14:17:07.258998\n",
      "export\\three_robots_chain_with_fixed_end_1727183179\t2024-09-24 15:06:19.634268\n"
     ]
    }
   ],
   "execution_count": 63
  },
  {
   "metadata": {
    "ExecuteTime": {
     "end_time": "2024-09-24T13:07:16.395806Z",
     "start_time": "2024-09-24T13:07:16.382763Z"
    }
   },
   "cell_type": "code",
   "source": [
    "folder = pl.Path( './export/three_robots_chain_with_fixed_end_1727183179' )\n",
    "uuid = str( folder ).split( '_' )[ -1 ]"
   ],
   "id": "6705faebb9d7422b",
   "outputs": [],
   "execution_count": 64
  },
  {
   "metadata": {
    "ExecuteTime": {
     "end_time": "2024-09-24T13:07:16.473844Z",
     "start_time": "2024-09-24T13:07:16.451615Z"
    }
   },
   "cell_type": "code",
   "source": [
    "with open( folder / 'config.json' ) as f:\n",
    "\tconfig = json.load( f )\n",
    "print_dict( config )"
   ],
   "id": "95276bac8221f605",
   "outputs": [
    {
     "name": "stdout",
     "output_type": "stream",
     "text": [
      "model:\n",
      "\tdynamics: dynamics\n",
      "\tstep: step\n",
      "\tmodel_dynamics:\n",
      "\t\tstate_size: 48\n",
      "\t\tactuation_size: 9\n",
      "\t\tmass: 11.5\n",
      "\t\tcenter_of_mass: [0.0, 0.0, 0.0]\n",
      "\t\tweight: [0.0, 0.0, 112.77647499999999]\n",
      "\t\tcenter_of_volume: [0.0, 0.0, -0.02]\n",
      "\t\tbuoyancy: [0.0, 0.0, -120.0]\n",
      "\t\tinverse_inertial_matrix: (6, 6)\n",
      "\t\thydrodynamic_matrix: (6, 6)\n",
      "\t\tbr0_pose: 0:6:None\n",
      "\t\tbr0_position: 0:3:None\n",
      "\t\tbr0_xy: 0:2:None\n",
      "\t\tbr0_z: 2\n",
      "\t\tbr0_orientation: 3:6:None\n",
      "\t\tbr1_pose: 6:12:None\n",
      "\t\tbr1_position: 6:9:None\n",
      "\t\tbr1_xy: 6:8:None\n",
      "\t\tbr1_z: 8\n",
      "\t\tbr1_orientation: 9:12:None\n",
      "\t\tbr2_pose: 12:18:None\n",
      "\t\tbr2_position: 12:15:None\n",
      "\t\tbr2_xy: 12:14:None\n",
      "\t\tbr2_z: 14\n",
      "\t\tbr2_orientation: 15:18:None\n",
      "\t\tbr0_speed: 24:30:None\n",
      "\t\tbr0_linear_speed: 24:27:None\n",
      "\t\tbr0_angular_speed: 27:30:None\n",
      "\t\tbr1_speed: 30:36:None\n",
      "\t\tbr1_linear_speed: 30:33:None\n",
      "\t\tbr1_angular_speed: 33:36:None\n",
      "\t\tbr2_speed: 36:42:None\n",
      "\t\tbr2_linear_speed: 36:39:None\n",
      "\t\tbr2_angular_speed: 39:42:None\n",
      "\t\tbr0_actuation_start: 0\n",
      "\t\tbr0_actuation: 0:3:None\n",
      "\t\tbr0_linear_actuation: 0:3:None\n",
      "\t\tbr0_angular_actuation: 0:0:None\n",
      "\t\tbr1_actuation_start: 3\n",
      "\t\tbr1_actuation: 3:6:None\n",
      "\t\tbr1_linear_actuation: 3:6:None\n",
      "\t\tbr1_angular_actuation: 0:0:None\n",
      "\t\tbr2_actuation_start: 6\n",
      "\t\tbr2_actuation: 6:9:None\n",
      "\t\tbr2_linear_actuation: 6:9:None\n",
      "\t\tbr2_angular_actuation: 0:0:None\n",
      "\t\tbr0_state: (12,)\n",
      "\t\tbr1_state: (12,)\n",
      "\t\tbr2_state: (12,)\n",
      "\t\tbrf_pose: 18:24:None\n",
      "\t\tbrf_position: 18:21:None\n",
      "\t\tbrf_xy: 18:20:None\n",
      "\t\tbrf_z: 20\n",
      "\t\tbrf_orientation: 21:24:None\n",
      "\t\tbrf_speed: 42:48:None\n",
      "\t\tbrf_linear_speed: 42:45:None\n",
      "\t\tbrf_angular_speed: 45:48:None\n",
      "\t\tbrf_state: (12,)\n",
      "\ttime_step: 0.1\n",
      "\tstate: (48,)\n",
      "\tactuation: [0.0, 0.0, 0.0, 0.0, 0.0, 0.0, 0.0, 0.0, 0.0]\n",
      "\tkwargs:\n",
      "\trecord: True\n",
      "\tprevious_states: (1, 48)\n",
      "\tprevious_actuations: (1, 9)\n",
      "horizon: 10\n",
      "target_trajectory: (400, 1, 24)\n",
      "objective: None\n",
      "time_step: 0.1\n",
      "time_steps_per_actuation: 10\n",
      "guess_from_last_solution: True\n",
      "tolerance: 0.0001\n",
      "max_iter: 1000\n",
      "bounds:\n",
      "\tresidual: residual\n",
      "\tlb: [-2000.0, -2000.0, -2000.0, -2000.0, -2000.0, -2000.0, -2000.0, -2000.0, -2000.0]\n",
      "\tub: [2000.0, 2000.0, 2000.0, 2000.0, 2000.0, 2000.0, 2000.0, 2000.0, 2000.0]\n",
      "\tkeep_feasible: [True, True, True, True, True, True, True, True, True]\n",
      "constraints:\n",
      "\t0:\n",
      "\t\tfun: chain_of_three_fixed_end_constraint\n",
      "\t\tlb: (120,)\n",
      "\t\tub: (120,)\n",
      "\t\tfinite_diff_rel_step: None\n",
      "\t\tfinite_diff_jac_sparsity: None\n",
      "\t\tjac: 2-point\n",
      "\t\thess:\n",
      "\t\t\tinitialize: initialize\n",
      "\t\t\tupdate: update\n",
      "\t\t\tdot: dot\n",
      "\t\t\tget_matrix: get_matrix\n",
      "\t\t\tmin_curvature: 1e-08\n",
      "\t\t\tinit_scale: auto\n",
      "\t\t\tfirst_iteration: None\n",
      "\t\t\tapprox_type: None\n",
      "\t\t\tB: None\n",
      "\t\t\tH: None\n",
      "\t\t\texception_strategy: skip_update\n",
      "\t\tkeep_feasible: False\n",
      "\t\tlabels: (12,)\n",
      "result_shape: [1, 1, 9]\n",
      "raw_result: None\n",
      "result: (1, 1, 9)\n",
      "pose_weight_matrix: (10, 24, 24)\n",
      "actuation_derivative_weight_matrix: (1, 9, 9)\n",
      "objective_weight: 0.0\n",
      "final_weight: 0.0\n",
      "record: True\n",
      "predicted_trajectories: []\n",
      "candidate_actuations: []\n",
      "compute_times: []\n",
      "verbose: False\n"
     ]
    }
   ],
   "execution_count": 65
  },
  {
   "metadata": {
    "ExecuteTime": {
     "end_time": "2024-09-24T13:07:16.550181Z",
     "start_time": "2024-09-24T13:07:16.531287Z"
    }
   },
   "cell_type": "code",
   "source": [
    "slice_repository = { }\n",
    "axes = [ 'x', 'y', 'z', 'phi', 'theta', 'psi', 'u', 'v', 'w', 'p', 'q', 'r' ]\n",
    "\n",
    "for k, v in config[ 'model' ][ 'model_dynamics' ].items():\n",
    "\tif isinstance( v, str ) and ':' in v:\n",
    "\t\tslice_repository[ k ] = slice( *[ int( v ) if v != 'None' else None for v in v.split( ':' ) ] )\n",
    "\n",
    "positions = { k: v for k, v in slice_repository.items() if 'position' in k }\n",
    "orientations = { k: v for k, v in slice_repository.items() if 'orientation' in k }\n",
    "positions_pairs = { a.split( '_' )[ 0 ]: b.split( '_' )[ 0 ] for a, b in\n",
    "\t\t\t\t\t\t\t\t\t\tzip( list( positions )[ :-1 ], list( positions )[ 1: ] ) }\n",
    "linear_actuation = { k: v for k, v in slice_repository.items() if 'linear_actuation' in k }"
   ],
   "id": "66d4edaec6b9e310",
   "outputs": [],
   "execution_count": 66
  },
  {
   "metadata": {
    "ExecuteTime": {
     "end_time": "2024-09-24T13:07:16.708274Z",
     "start_time": "2024-09-24T13:07:16.687311Z"
    }
   },
   "cell_type": "code",
   "source": [
    "for i, c in enumerate( config[ 'constraints' ] ):\n",
    "\tprint( f'Constraint {i}' )\n",
    "\tfor j, l in enumerate( c[ 'labels' ] ):\n",
    "\t\tprint( f'\\t{j}: {l}' )"
   ],
   "id": "f754895dc8c4adf8",
   "outputs": [
    {
     "name": "stdout",
     "output_type": "stream",
     "text": [
      "Constraint 0\n",
      "\t0: $z_0+H_{01}$\n",
      "\t1: $z_1+H_{12}$\n",
      "\t2: $z_2+H_{2fe}$\n",
      "\t3: $|P_0^{x,y}-P_1^{x,y}|$\n",
      "\t4: $|P_1^{x,y}-P_2^{x,y}|$\n",
      "\t5: $|P_2^{x,y}-P_fe^{x,y}|$\n",
      "\t6: $|P_0^{x,y,z}-P_1^{x,y,z}|$\n",
      "\t7: $|P_1^{x,y,z}-P_2^{x,y,z}|$\n",
      "\t8: $|P_2^{x,y,z}-P_fe^{x,y,z}|$\n",
      "\t9: $|V_0|$\n",
      "\t10: $|V_1|$\n",
      "\t11: $|V_2|$\n"
     ]
    }
   ],
   "execution_count": 67
  },
  {
   "metadata": {
    "ExecuteTime": {
     "end_time": "2024-09-24T13:07:16.848838Z",
     "start_time": "2024-09-24T13:07:16.798391Z"
    }
   },
   "cell_type": "code",
   "source": [
    "data_files = list( folder.glob( 'data/*' ) )\n",
    "data_files.sort( key = lambda x: path.getmtime( x ) )\n",
    "with open( data_files[ -1 ] ) as f:\n",
    "\tfinal_state = json.load( f )\n",
    "\n",
    "times = [ config[ 'model' ][ 'time_step' ] * i for i in range( len( config[ 'target_trajectory' ] ) ) ]\n",
    "target_trajectory = array( config[ 'target_trajectory' ] )[ :, 0 ]\n",
    "\n",
    "n_frames = len( data_files )\n",
    "previous_times = [ config[ 'model' ][ 'time_step' ] * i for i in range( n_frames ) ]\n",
    "previous_target_trajectory = target_trajectory[ :n_frames ]\n",
    "previous_actual_trajectory = array( final_state[ 'model' ][ 'previous_states' ] )[ 1:,\n",
    "\t\t\t\t\t\t\t\t\t\t\t\t\t\t :config[ 'model' ][ 'model_dynamics' ][ 'state_size' ] // 2 ]\n",
    "\n",
    "previous_actuations = array( final_state[ 'model' ][ 'previous_actuations' ] )\n",
    "\n",
    "pose_weight = array( config[ 'pose_weight_matrix' ][ 0 ] )"
   ],
   "id": "c6a8d4b62d2c37c3",
   "outputs": [],
   "execution_count": 68
  },
  {
   "metadata": {
    "ExecuteTime": {
     "end_time": "2024-09-24T13:07:16.957809Z",
     "start_time": "2024-09-24T13:07:16.944577Z"
    }
   },
   "cell_type": "code",
   "source": "check( f'{folder}/plots' )",
   "id": "5ca37c9278171cfa",
   "outputs": [
    {
     "data": {
      "text/plain": [
       "0"
      ]
     },
     "execution_count": 69,
     "metadata": {},
     "output_type": "execute_result"
    }
   ],
   "execution_count": 69
  },
  {
   "metadata": {
    "ExecuteTime": {
     "end_time": "2024-09-24T13:07:17.286554Z",
     "start_time": "2024-09-24T13:07:17.028410Z"
    }
   },
   "cell_type": "code",
   "source": [
    "for k, v in positions.items():\n",
    "\tif norm( pose_weight[ v, v ] ) == 0:\n",
    "\t\tcontinue\n",
    "\tabsolute_distances = abs( previous_target_trajectory[ :, v ] - previous_actual_trajectory[ :, v ] )\n",
    "\tplt.plot( previous_times, absolute_distances )\n",
    "\tplt.legend(\n",
    "\t\t\t[\n",
    "\t\t\t\t\tr'over $\\mathbf{x}_w$-axis',\n",
    "\t\t\t\t\tr'over $\\mathbf{y}_w$-axis',\n",
    "\t\t\t\t\tr'over $\\mathbf{z}_w$-axis'\n",
    "\t\t\t\t\t]\n",
    "\t\t\t)\n",
    "\tplt.xlabel( 'time [s]' )\n",
    "\tplt.ylabel( 'absolute error [m]' )\n",
    "\tplt.subplots_adjust( bottom = 0.125, top = 1, left = 0.075, right = 1 )\n",
    "\tplt.savefig( f'{folder}/plots/{k}_tracking_error_{uuid}.png', dpi = 300 )\n",
    "\tplt.close( 'all' )"
   ],
   "id": "6ed37028b7257b52",
   "outputs": [],
   "execution_count": 70
  },
  {
   "metadata": {
    "ExecuteTime": {
     "end_time": "2024-09-24T13:07:18.385510Z",
     "start_time": "2024-09-24T13:07:17.354398Z"
    }
   },
   "cell_type": "code",
   "source": [
    "for k, v in orientations.items():\n",
    "\tif norm( pose_weight[ v, v ] ) == 0:\n",
    "\t\tcontinue\n",
    "\tplt.plot( previous_times, abs( previous_target_trajectory[ :, v ] - previous_actual_trajectory[ :, v ] ) )\n",
    "\tplt.legend(\n",
    "\t\t\t[\n",
    "\t\t\t\t\tr'around $\\mathbf{x}_w$-axis',\n",
    "\t\t\t\t\tr'around $\\mathbf{y}_w$-axis',\n",
    "\t\t\t\t\tr'around $\\mathbf{z}_w$-axis'\n",
    "\t\t\t\t\t]\n",
    "\t\t\t)\n",
    "\tplt.xlabel( 'time [s]' )\n",
    "\tplt.ylabel( 'absolute error [rad]' )\n",
    "\tplt.subplots_adjust( bottom = 0.125, top = 1, left = 0.075, right = 1 )\n",
    "\tplt.savefig( f'{folder}/plots/{k}_tracking_error_{uuid}.png', dpi = 300 )\n",
    "\tplt.close( 'all' )"
   ],
   "id": "2c6abf6d5bcedfc7",
   "outputs": [],
   "execution_count": 71
  },
  {
   "metadata": {
    "ExecuteTime": {
     "end_time": "2024-09-24T13:07:19.232015Z",
     "start_time": "2024-09-24T13:07:18.434382Z"
    }
   },
   "cell_type": "code",
   "source": [
    "for k, v in linear_actuation.items():\n",
    "\tplt.plot( previous_times, previous_actuations[ :-1, v ] )\n",
    "\tplt.xlabel( 'time [s]' )\n",
    "\tplt.ylabel( 'actuation [N]' )\n",
    "\tplt.legend(\n",
    "\t\t\t[\n",
    "\t\t\t\t\tr'over $\\mathbf{x}_w$-axis',\n",
    "\t\t\t\t\tr'over $\\mathbf{y}_w$-axis',\n",
    "\t\t\t\t\tr'over $\\mathbf{z}_w$-axis'\n",
    "\t\t\t\t\t]\n",
    "\t\t\t)\n",
    "\tplt.subplots_adjust( bottom = 0.125, top = 1, left = 0.075, right = 1 )\n",
    "\tplt.savefig( f'{folder}/plots/{k}_{uuid}.png', dpi = 300 )\n",
    "\tplt.close( 'all' )"
   ],
   "id": "2cbd3ff85cdbcfff",
   "outputs": [],
   "execution_count": 72
  },
  {
   "metadata": {
    "ExecuteTime": {
     "end_time": "2024-09-24T13:07:19.527680Z",
     "start_time": "2024-09-24T13:07:19.283811Z"
    }
   },
   "cell_type": "code",
   "source": [
    "for p1, p2 in positions_pairs.items():\n",
    "\tabsolute_distances = norm(\n",
    "\t\t\tprevious_actual_trajectory[ :, positions[ p1 + '_position' ] ] -\n",
    "\t\t\tprevious_actual_trajectory[ :, positions[ p2 + '_position' ] ],\n",
    "\t\t\taxis = 1\n",
    "\t\t\t)\n",
    "\tplt.plot( previous_times, absolute_distances )\n",
    "plt.legend( [ f'from {a} to {b}' for a, b in positions_pairs.items() ] )\n",
    "plt.xlabel( 'time [s]' )\n",
    "plt.ylabel( 'distance [m]' )\n",
    "plt.subplots_adjust( bottom = 0.125, top = 1, left = 0.075, right = 1 )\n",
    "plt.savefig( f'{folder}/plots/distance_{uuid}.png', dpi = 300 )\n",
    "plt.close( 'all' )"
   ],
   "id": "a04d352575c1d1ae",
   "outputs": [],
   "execution_count": 73
  },
  {
   "metadata": {
    "ExecuteTime": {
     "end_time": "2024-09-24T13:07:19.793886Z",
     "start_time": "2024-09-24T13:07:19.561401Z"
    }
   },
   "cell_type": "code",
   "source": [
    "for p1, p2 in positions_pairs.items():\n",
    "\tabsolute_distances = norm(\n",
    "\t\t\tprevious_actual_trajectory[ :, slice_repository[ p1 + '_xy' ] ] -\n",
    "\t\t\tprevious_actual_trajectory[ :, slice_repository[ p2 + '_xy' ] ],\n",
    "\t\t\taxis = 1\n",
    "\t\t\t)\n",
    "\tplt.plot( previous_times, absolute_distances )\n",
    "plt.legend( [ f'from {a} to {b}' for a, b in positions_pairs.items() ] )\n",
    "plt.xlabel( 'time [s]' )\n",
    "plt.ylabel( 'distance [m]' )\n",
    "plt.subplots_adjust( bottom = 0.125, top = 1, left = 0.075, right = 1 )\n",
    "plt.savefig( f'{folder}/plots/horizontal_distance_{uuid}.png', dpi = 300 )\n",
    "plt.close( 'all' )"
   ],
   "id": "3e3a23d854d5f74e",
   "outputs": [],
   "execution_count": 74
  },
  {
   "metadata": {
    "ExecuteTime": {
     "end_time": "2024-09-24T13:07:20.714582Z",
     "start_time": "2024-09-24T13:07:19.847606Z"
    }
   },
   "cell_type": "code",
   "source": [
    "figs = [ 'x', 'y', 'z' ]\n",
    "\n",
    "x = plt.figure().subplots()\n",
    "y = plt.figure().subplots()\n",
    "z = plt.figure().subplots()\n",
    "z.invert_yaxis()\n",
    "\n",
    "legends = [ ]\n",
    "\n",
    "for k, v in positions.items():\n",
    "\tposition = previous_actual_trajectory[ :, v ]\n",
    "\tX = position[ :, 0 ]\n",
    "\tY = position[ :, 1 ]\n",
    "\tZ = position[ :, 2 ]\n",
    "\tx.plot( previous_times, X )\n",
    "\ty.plot( previous_times, Y )\n",
    "\tz.plot( previous_times, Z )\n",
    "\tlegends += [ f'{k}' ]\n",
    "\tif norm( pose_weight[ v, v ] ) > 0:\n",
    "\t\ttarget = previous_target_trajectory[ :, v ]\n",
    "\t\tXt = target[ :, 0 ]\n",
    "\t\tYt = target[ :, 1 ]\n",
    "\t\tZt = target[ :, 2 ]\n",
    "\t\tx.plot( previous_times, Xt, ':', linewidth = 3 )\n",
    "\t\ty.plot( previous_times, Yt, ':', linewidth = 3 )\n",
    "\t\tz.plot( previous_times, Zt, ':', linewidth = 3 )\n",
    "\t\tlegends += [ f'{k} target' ]\n",
    "\n",
    "for f in plt.get_fignums():\n",
    "\tfig = plt.figure( f )\n",
    "\tplt.legend( legends )\n",
    "\tplt.xlabel( 'time [s]' )\n",
    "\tplt.ylabel( f'position on $\\mathbf{{{figs[ f - 1 ]}}}_w$-axis [m]' )\n",
    "\tplt.subplots_adjust( bottom = 0.125, top = 1, left = 0.075, right = 1 )\n",
    "\tplt.savefig( f'{folder}/plots/positions_on_{figs[ f - 1 ]}_{uuid}.png', dpi = 300 )\n",
    "plt.close( 'all' )"
   ],
   "id": "befa11f8536aa032",
   "outputs": [],
   "execution_count": 75
  },
  {
   "metadata": {
    "ExecuteTime": {
     "end_time": "2024-09-24T13:07:20.995347Z",
     "start_time": "2024-09-24T13:07:20.764804Z"
    }
   },
   "cell_type": "code",
   "source": [
    "plt.plot( previous_times, final_state[ 'compute_times' ] )\n",
    "plt.hlines( config[ 'model' ][ 'time_step' ] * config[ 'horizon' ], 0, previous_times[ -1 ], 'r', '--' )\n",
    "plt.legend( [ 'compute time', 'horizon depth' ] )\n",
    "plt.xlabel( 'time [s]' )\n",
    "plt.ylabel( 'time [s]' )\n",
    "plt.subplots_adjust( bottom = 0.125, top = 1, left = 0.075, right = 1 )\n",
    "plt.savefig( f'{folder}/plots/compute_times_{uuid}.png', dpi = 300 )\n",
    "plt.close( 'all' )"
   ],
   "id": "11a6f665d406cb71",
   "outputs": [],
   "execution_count": 76
  },
  {
   "metadata": {
    "ExecuteTime": {
     "end_time": "2024-09-24T13:07:21.057924Z",
     "start_time": "2024-09-24T13:07:21.045868Z"
    }
   },
   "cell_type": "code",
   "source": "frames_already_done = check( f'{folder}/plots/3d_frames' )",
   "id": "933698b29bfd2c41",
   "outputs": [],
   "execution_count": 77
  },
  {
   "metadata": {
    "ExecuteTime": {
     "end_time": "2024-09-24T13:08:24.060615Z",
     "start_time": "2024-09-24T13:07:21.126926Z"
    }
   },
   "cell_type": "code",
   "source": [
    "for frame in tqdm( range( frames_already_done, n_frames ) ):\n",
    "\t# frame = 100\n",
    "\n",
    "\twith open( data_files[ frame ] ) as f:\n",
    "\t\tsimulation_state = json.load( f )\n",
    "\tpredicted_trajectories = array( simulation_state[ 'predicted_trajectories' ] )\n",
    "\n",
    "\tfig = plt.figure( figsize = (10, 10) )\n",
    "\tview = plt.subplot( projection = '3d' )\n",
    "\tview.set_xlabel( \"$\\mathbf{x}_w$-axis\" )\n",
    "\tview.set_ylabel( \"$\\mathbf{y}_w$-axis\" )\n",
    "\tview.set_zlabel( \"$\\mathbf{z}_w$-axis\" )\n",
    "\n",
    "\tinset_view_xz = view.inset_axes( [ .0, .0, .2, .2 ] )\n",
    "\tinset_view_xz.set_xlabel( \"$\\mathbf{x}_w$-axis\" )\n",
    "\tinset_view_xz.set_ylabel( \"$\\mathbf{z}_w$-axis\" )\n",
    "\tinset_view_xz.invert_yaxis()\n",
    "\n",
    "\tinset_view_yz = view.inset_axes( [ .8, .0, .2, .2 ] )\n",
    "\tinset_view_yz.set_xlabel( \"$\\mathbf{y}_w$-axis\" )\n",
    "\tinset_view_yz.set_ylabel( \"$\\mathbf{z}_w$-axis\" )\n",
    "\tinset_view_yz.invert_xaxis()\n",
    "\tinset_view_yz.invert_yaxis()\n",
    "\n",
    "\tinset_view_xy = view.inset_axes( [ .0, .8, .2, .2 ] )\n",
    "\tinset_view_xy.set_xlabel( \"$\\mathbf{x}_w$-axis\" )\n",
    "\tinset_view_xy.set_ylabel( \"$\\mathbf{y}_w$-axis\" )\n",
    "\tinset_view_xy.invert_yaxis()\n",
    "\n",
    "\tfor k, v in positions.items():\n",
    "\t\tif norm( pose_weight[ v, v ] ) > 0:\n",
    "\t\t\tXt = target_trajectory[ :, v ][ :, 0 ]\n",
    "\t\t\tYt = target_trajectory[ :, v ][ :, 1 ]\n",
    "\t\t\tZt = target_trajectory[ :, v ][ :, 2 ]\n",
    "\n",
    "\t\t\tview.plot( Xt, Yt, Zt, ':' )\n",
    "\t\t\tview.scatter( Xt[ frame + 1 ], Yt[ frame + 1 ], Zt[ frame + 1 ], marker = 'x' )\n",
    "\t\t\tinset_view_xz.plot( Xt, Zt, ':' )\n",
    "\t\t\tinset_view_xz.scatter( Xt[ frame + 1 ], Zt[ frame + 1 ], marker = 'x' )\n",
    "\t\t\tinset_view_yz.plot( Yt, Zt, ':' )\n",
    "\t\t\tinset_view_yz.scatter( Yt[ frame + 1 ], Zt[ frame + 1 ], marker = 'x' )\n",
    "\t\t\tinset_view_xy.plot( Xt, Yt, ':' )\n",
    "\t\t\tinset_view_xy.scatter( Xt[ frame + 1 ], Yt[ frame + 1 ], marker = 'x' )\n",
    "\n",
    "\t\tX = previous_actual_trajectory[ frame, v ][ 0 ]\n",
    "\t\tY = previous_actual_trajectory[ frame, v ][ 1 ]\n",
    "\t\tZ = previous_actual_trajectory[ frame, v ][ 2 ]\n",
    "\n",
    "\t\tview.scatter( X, Y, Z )\n",
    "\t\tinset_view_xz.scatter( X, Z )\n",
    "\t\tinset_view_yz.scatter( Y, Z )\n",
    "\t\tinset_view_xy.scatter( X, Y )\n",
    "\n",
    "\t\tfor trajectory in predicted_trajectories:\n",
    "\t\t\tX = trajectory[ :, 0, v ][ :, 0 ]\n",
    "\t\t\tY = trajectory[ :, 0, v ][ :, 1 ]\n",
    "\t\t\tZ = trajectory[ :, 0, v ][ :, 2 ]\n",
    "\n",
    "\t\t\tview.plot( X, Y, Z, linewidth = .5 )\n",
    "\t\t\tinset_view_xz.plot( X, Z, linewidth = .5 )\n",
    "\t\t\tinset_view_yz.plot( Y, Z, linewidth = .5 )\n",
    "\t\t\tinset_view_xy.plot( X, Y, linewidth = .5 )\n",
    "\n",
    "\tfor p1, p2 in positions_pairs.items():\n",
    "\t\tposition1 = deepcopy( previous_actual_trajectory[ frame, positions[ p1 + '_position' ] ] )\n",
    "\t\tposition2 = deepcopy( previous_actual_trajectory[ frame, positions[ p2 + '_position' ] ] )\n",
    "\t\tposition1[ 1: ] *= -1\n",
    "\t\tposition2[ 1: ] *= -1\n",
    "\n",
    "\t\ttry:\n",
    "\t\t\tcat12, _, _, _ = get_coor_marker_points_ideal_catenary( *position1, *position2, 3., .05 )\n",
    "\t\t\tcat12[ :, 1: ] *= -1\n",
    "\t\texcept:\n",
    "\t\t\tcat12 = array( [ position1, position2 ] )\n",
    "\n",
    "\t\tview.plot( cat12[ :, 0 ], cat12[ :, 1 ], cat12[ :, 2 ] )\n",
    "\t\tinset_view_xz.plot( cat12[ :, 0 ], cat12[ :, 2 ] )\n",
    "\t\tinset_view_yz.plot( cat12[ :, 1 ], cat12[ :, 2 ] )\n",
    "\t\tinset_view_xy.plot( cat12[ :, 0 ], cat12[ :, 1 ] )\n",
    "\n",
    "\tview.axis( 'equal' )\n",
    "\tinset_view_xy.axis( 'equal' )\n",
    "\tinset_view_xz.axis( 'equal' )\n",
    "\tinset_view_yz.axis( 'equal' )\n",
    "\tview.invert_yaxis()\n",
    "\tview.invert_zaxis()\n",
    "\n",
    "\tplt.savefig( f'{folder}/plots/3d_frames/{frame}.png', dpi = 100 )\n",
    "\tplt.close( 'all' )\n",
    "\tdel fig, view, inset_view_xz, inset_view_yz, inset_view_xy"
   ],
   "id": "fbb9c8e2fc8852d9",
   "outputs": [
    {
     "name": "stderr",
     "output_type": "stream",
     "text": [
      "100%|██████████| 35/35 [01:02<00:00,  1.80s/it]\n"
     ]
    }
   ],
   "execution_count": 78
  },
  {
   "metadata": {
    "ExecuteTime": {
     "end_time": "2024-09-24T13:08:28.097513Z",
     "start_time": "2024-09-24T13:08:24.110910Z"
    }
   },
   "cell_type": "code",
   "source": "collect()",
   "id": "70338ea0a686564",
   "outputs": [
    {
     "data": {
      "text/plain": [
       "6474709"
      ]
     },
     "execution_count": 79,
     "metadata": {},
     "output_type": "execute_result"
    }
   ],
   "execution_count": 79
  },
  {
   "metadata": {
    "ExecuteTime": {
     "end_time": "2024-09-24T13:08:30.288013Z",
     "start_time": "2024-09-24T13:08:28.146702Z"
    }
   },
   "cell_type": "code",
   "source": "gif_from_pngs( f'{folder}/plots/3d_frames', duration = config['model']['time_step'] * 1000 )",
   "id": "eb26e196bad38112",
   "outputs": [],
   "execution_count": 80
  },
  {
   "metadata": {
    "ExecuteTime": {
     "end_time": "2024-09-24T13:08:30.429397Z",
     "start_time": "2024-09-24T13:08:30.337172Z"
    }
   },
   "cell_type": "code",
   "source": "collect()",
   "id": "f79cbacba01f8091",
   "outputs": [
    {
     "data": {
      "text/plain": [
       "0"
      ]
     },
     "execution_count": 81,
     "metadata": {},
     "output_type": "execute_result"
    }
   ],
   "execution_count": 81
  },
  {
   "metadata": {
    "ExecuteTime": {
     "end_time": "2024-09-24T13:08:31.090316Z",
     "start_time": "2024-09-24T13:08:30.509204Z"
    }
   },
   "cell_type": "code",
   "source": "system( f'ffmpeg -y -i {folder}/plots/3d_frames/animation.gif {folder}/plots/animation.mp4' )",
   "id": "21caf7a3eeacdfe0",
   "outputs": [
    {
     "data": {
      "text/plain": [
       "0"
      ]
     },
     "execution_count": 82,
     "metadata": {},
     "output_type": "execute_result"
    }
   ],
   "execution_count": 82
  }
 ],
 "metadata": {
  "kernelspec": {
   "display_name": "Python 3",
   "language": "python",
   "name": "python3"
  },
  "language_info": {
   "codemirror_mode": {
    "name": "ipython",
    "version": 2
   },
   "file_extension": ".py",
   "mimetype": "text/x-python",
   "name": "python",
   "nbconvert_exporter": "python",
   "pygments_lexer": "ipython2",
   "version": "3.12.3"
  }
 },
 "nbformat": 4,
 "nbformat_minor": 5
}
