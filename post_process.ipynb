{
 "cells": [
  {
   "metadata": {
    "ExecuteTime": {
     "end_time": "2024-10-16T13:46:53.187935Z",
     "start_time": "2024-10-16T13:46:52.447467Z"
    }
   },
   "cell_type": "code",
   "source": [
    "import json as json\n",
    "import pathlib as pl\n",
    "from copy import deepcopy\n",
    "from datetime import datetime\n",
    "from gc import collect\n",
    "from os import path, system\n",
    "from warnings import simplefilter\n",
    "\n",
    "import matplotlib.pyplot as plt\n",
    "from matplotlib import rcParams\n",
    "from numpy import array, linspace, meshgrid, ones, zeros\n",
    "from numpy.linalg import norm\n",
    "from scipy.spatial.transform import Rotation\n",
    "from tqdm import tqdm\n",
    "\n",
    "from catenary import Catenary\n",
    "from utils import check, gif_from_pngs, print_dict\n",
    "\n",
    "simplefilter( 'ignore', RuntimeWarning )\n",
    "\n",
    "gain = 1.5\n",
    "rcParams[ 'figure.figsize' ] = [ gain * 6.4, gain * 4.8 / 2 ]"
   ],
   "id": "bbc75564e51cad8e",
   "outputs": [],
   "execution_count": 1
  },
  {
   "metadata": {
    "ExecuteTime": {
     "end_time": "2024-10-16T13:46:53.206063Z",
     "start_time": "2024-10-16T13:46:53.194821Z"
    }
   },
   "cell_type": "code",
   "source": [
    "files = list( pl.Path( \"./export\" ).glob( '*' ) )\n",
    "files.sort( key = lambda x: path.getctime( x ) )\n",
    "for v in files:\n",
    "\tprint( str( v ).split( '//' )[ -1 ], end = '\\t' )\n",
    "\tprint( datetime.fromtimestamp( path.getctime( v ) ) )"
   ],
   "id": "3423fed8fb41d212",
   "outputs": [
    {
     "name": "stdout",
     "output_type": "stream",
     "text": [
      "export\\three_robots_chain_1726157070\t2024-09-17 09:04:31.536003\n",
      "export\\three_robots_chain_1726580899\t2024-09-17 15:48:19.796810\n",
      "export\\three_robots_chain_with_fixed_end_1727078633\t2024-09-23 10:03:53.983169\n",
      "export\\three_robots_chain_with_fixed_end_1727081819\t2024-09-23 10:56:59.165230\n",
      "export\\three_robots_chain_with_fixed_end_1727099624\t2024-09-23 15:53:44.695520\n",
      "export\\three_robots_chain_1726514783\t2024-09-24 09:27:41.851908\n",
      "export\\three_robots_chain_with_fixed_end_1726429003\t2024-09-24 09:27:41.884528\n",
      "export\\three_robots_chain_with_fixed_end_1726554218\t2024-09-24 09:27:41.919829\n",
      "export\\three_robots_chain_with_fixed_end_1727163792\t2024-09-24 09:43:12.977548\n",
      "export\\three_robots_chain_with_fixed_end_1727166337\t2024-09-24 10:25:37.238871\n",
      "export\\three_robots_chain_with_fixed_end_1727173761\t2024-09-24 12:29:21.839493\n",
      "export\\three_robots_chain_with_fixed_end_1727174240\t2024-09-24 12:37:20.930869\n",
      "export\\three_robots_chain_with_fixed_end_1727175608\t2024-09-24 13:00:08.731280\n",
      "export\\three_robots_chain_with_fixed_end_1727175965\t2024-09-24 13:06:05.785539\n",
      "export\\three_robots_chain_with_fixed_end_1727176928\t2024-09-24 13:22:08.992746\n",
      "export\\three_robots_chain_with_fixed_end_1727177668\t2024-09-24 13:34:28.782965\n",
      "export\\three_robots_chain_with_fixed_end_1727180227\t2024-09-24 14:17:07.258998\n",
      "export\\three_robots_chain_with_fixed_end_1727183179\t2024-09-24 15:06:19.634268\n",
      "export\\three_robots_chain_with_fixed_end_1727248617\t2024-09-25 09:16:57.403914\n",
      "export\\three_robots_chain_with_fixed_end_1727249521\t2024-09-25 09:32:01.352580\n",
      "export\\three_robots_chain_with_fixed_end_1727250787\t2024-09-25 09:53:07.682352\n",
      "export\\three_robots_chain_with_fixed_end_1727253122\t2024-09-25 10:32:02.520548\n",
      "export\\three_robots_chain_with_fixed_end_1727254134\t2024-09-25 10:48:54.874859\n",
      "export\\three_robots_chain_with_fixed_end_1727255117\t2024-09-25 11:05:17.425688\n",
      "export\\three_robots_chain_with_fixed_end_1727256015\t2024-09-25 11:20:15.782898\n",
      "export\\three_robots_chain_with_fixed_end_1727257403\t2024-09-25 11:43:23.281659\n",
      "export\\three_robots_chain_with_fixed_end_1727257937\t2024-09-25 11:52:17.399923\n",
      "export\\three_robots_chain_with_fixed_end_1727259434\t2024-09-25 12:17:14.056937\n",
      "export\\three_robots_chain_with_fixed_end_1727260125\t2024-09-25 12:28:45.869116\n",
      "export\\three_robots_chain_with_moving_end_1727265871\t2024-09-25 14:04:31.428745\n",
      "export\\three_robots_chain_with_moving_end_1727266557\t2024-09-25 14:15:57.731522\n",
      "export\\three_robots_chain_with_moving_end_1727267335\t2024-09-25 14:28:55.039802\n",
      "export\\three_robots_chain_with_moving_end_1727268884\t2024-09-25 14:54:44.264913\n",
      "export\\chain_of_four_1727863721\t2024-10-02 12:08:41.939330\n",
      "export\\chain_of_four_1727868679\t2024-10-02 13:31:19.878642\n",
      "export\\chain_of_four_1727938265\t2024-10-03 08:51:05.682173\n",
      "export\\chain_of_four_1727941680\t2024-10-03 09:48:00.461884\n",
      "export\\chain_of_four_1727945646\t2024-10-03 10:54:06.762519\n",
      "export\\chain_of_four_1727951842\t2024-10-03 12:37:22.684965\n",
      "export\\chain_of_four_1727954289\t2024-10-03 13:18:09.928782\n",
      "export\\chain_of_four_1727956939\t2024-10-03 14:02:19.192339\n",
      "export\\Figure_1.png\t2024-10-10 09:58:20.942149\n",
      "export\\chain_of_four_1729065843\t2024-10-16 10:04:03.109843\n",
      "export\\chain_of_four_1729066963\t2024-10-16 10:22:43.502800\n",
      "export\\chain_of_four_1729067944\t2024-10-16 10:39:04.388300\n",
      "export\\chain_of_four_1729068907\t2024-10-16 10:55:07.082742\n",
      "export\\chain_of_four_1729074876\t2024-10-16 12:34:36.261659\n",
      "export\\chain_of_four_1729076475\t2024-10-16 13:01:15.031102\n",
      "export\\chain_of_four_1729082752\t2024-10-16 14:45:52.697256\n"
     ]
    }
   ],
   "execution_count": 2
  },
  {
   "metadata": {
    "ExecuteTime": {
     "end_time": "2024-10-16T13:46:53.362695Z",
     "start_time": "2024-10-16T13:46:53.357562Z"
    }
   },
   "cell_type": "code",
   "source": [
    "folder = pl.Path( './export/chain_of_four_1729082752' )\n",
    "uuid = str( folder ).split( '_' )[ -1 ]"
   ],
   "id": "1e61faef7e2de6ff",
   "outputs": [],
   "execution_count": 3
  },
  {
   "metadata": {
    "ExecuteTime": {
     "end_time": "2024-10-16T13:46:54.557348Z",
     "start_time": "2024-10-16T13:46:53.378831Z"
    }
   },
   "cell_type": "code",
   "source": [
    "with open( folder / 'config.json' ) as f:\n",
    "\tconfig = json.load( f )\n",
    "print_dict( config )"
   ],
   "id": "ee369b87390cc54a",
   "outputs": [
    {
     "name": "stdout",
     "output_type": "stream",
     "text": [
      "predict: _predict_non_linear\n",
      "get_actuation: _get_actuation_from_actual\n",
      "get_result: _get_result_from_actual\n",
      "model:\n",
      "\tdynamics: dynamics\n",
      "\tstep: step\n",
      "\tmodel_dynamics:\n",
      "\t\tstate_size: 48\n",
      "\t\tactuation_size: 24\n",
      "\t\tget_taunt_cable_perturbations: get_taunt_cable_perturbations\n",
      "\t\tbr_0:\n",
      "\t\t\tstate_size: 12\n",
      "\t\t\tactuation_size: 6\n",
      "\t\t\tbuild_transformation_matrix:\n",
      "\t\t\tbuild_inertial_matrix:\n",
      "\t\t\tmass: 11.5\n",
      "\t\t\tcenter_of_mass: [0.0, 0.0, 0.0]\n",
      "\t\t\tweight: [0.0, 0.0, 112.77647499999999]\n",
      "\t\t\tbuoyancy_norm: 120.0\n",
      "\t\t\tcenter_of_volume: [0.0, 0.0, -0.02]\n",
      "\t\t\twater_surface_z: 0.0\n",
      "\t\t\twater_current: [0.5, 0.5, 0.0, 0.0, 0.0, 0.0]\n",
      "\t\t\tinertial_coefficients: [0.16, 0.16, 0.16, 0.0, 0.0, 0.0]\n",
      "\t\t\thydrodynamic_coefficients: [4.03, 6.22, 5.18, 0.07, 0.07, 0.07]\n",
      "\t\t\tadded_mass_coefficients: [5.5, 12.7, 14.57, 0.12, 0.12, 0.12]\n",
      "\t\t\tinertial_matrix: (6, 6)\n",
      "\t\t\tinverse_inertial_matrix: (6, 6)\n",
      "\t\t\thydrodynamic_matrix: (6, 6)\n",
      "\t\tc_01:\n",
      "\t\t\tGET_PARAMETER_METHOD: ['runtime', 'precompute']\n",
      "\t\t\tget_lowest_point: get_lowest_point\n",
      "\t\t\tget_perturbations: get_perturbations\n",
      "\t\t\tdiscretize: discretize\n",
      "\t\t\toptimization_function: _optimization_function_0\n",
      "\t\t\tget_parameters: _get_parameters_precompute\n",
      "\t\t\tlength: 3.0\n",
      "\t\t\tlinear_mass: 0.0\n",
      "\t\tbr_1:\n",
      "\t\t\tstate_size: 12\n",
      "\t\t\tactuation_size: 6\n",
      "\t\t\tbuild_transformation_matrix:\n",
      "\t\t\tbuild_inertial_matrix:\n",
      "\t\t\tmass: 11.5\n",
      "\t\t\tcenter_of_mass: [0.0, 0.0, 0.0]\n",
      "\t\t\tweight: [0.0, 0.0, 112.77647499999999]\n",
      "\t\t\tbuoyancy_norm: 120.0\n",
      "\t\t\tcenter_of_volume: [0.0, 0.0, -0.02]\n",
      "\t\t\twater_surface_z: 0.0\n",
      "\t\t\twater_current: [0.5, 0.5, 0.0, 0.0, 0.0, 0.0]\n",
      "\t\t\tinertial_coefficients: [0.16, 0.16, 0.16, 0.0, 0.0, 0.0]\n",
      "\t\t\thydrodynamic_coefficients: [4.03, 6.22, 5.18, 0.07, 0.07, 0.07]\n",
      "\t\t\tadded_mass_coefficients: [5.5, 12.7, 14.57, 0.12, 0.12, 0.12]\n",
      "\t\t\tinertial_matrix: (6, 6)\n",
      "\t\t\tinverse_inertial_matrix: (6, 6)\n",
      "\t\t\thydrodynamic_matrix: (6, 6)\n",
      "\t\tc_12:\n",
      "\t\t\tGET_PARAMETER_METHOD: ['runtime', 'precompute']\n",
      "\t\t\tget_lowest_point: get_lowest_point\n",
      "\t\t\tget_perturbations: get_perturbations\n",
      "\t\t\tdiscretize: discretize\n",
      "\t\t\toptimization_function: _optimization_function_0\n",
      "\t\t\tget_parameters: _get_parameters_precompute\n",
      "\t\t\tlength: 3.0\n",
      "\t\t\tlinear_mass: 0.0\n",
      "\t\tbr_2:\n",
      "\t\t\tstate_size: 12\n",
      "\t\t\tactuation_size: 6\n",
      "\t\t\tbuild_transformation_matrix:\n",
      "\t\t\tbuild_inertial_matrix:\n",
      "\t\t\tmass: 11.5\n",
      "\t\t\tcenter_of_mass: [0.0, 0.0, 0.0]\n",
      "\t\t\tweight: [0.0, 0.0, 112.77647499999999]\n",
      "\t\t\tbuoyancy_norm: 120.0\n",
      "\t\t\tcenter_of_volume: [0.0, 0.0, -0.02]\n",
      "\t\t\twater_surface_z: 0.0\n",
      "\t\t\twater_current: [0.5, 0.5, 0.0, 0.0, 0.0, 0.0]\n",
      "\t\t\tinertial_coefficients: [0.16, 0.16, 0.16, 0.0, 0.0, 0.0]\n",
      "\t\t\thydrodynamic_coefficients: [4.03, 6.22, 5.18, 0.07, 0.07, 0.07]\n",
      "\t\t\tadded_mass_coefficients: [5.5, 12.7, 14.57, 0.12, 0.12, 0.12]\n",
      "\t\t\tinertial_matrix: (6, 6)\n",
      "\t\t\tinverse_inertial_matrix: (6, 6)\n",
      "\t\t\thydrodynamic_matrix: (6, 6)\n",
      "\t\tc_23:\n",
      "\t\t\tGET_PARAMETER_METHOD: ['runtime', 'precompute']\n",
      "\t\t\tget_lowest_point: get_lowest_point\n",
      "\t\t\tget_perturbations: get_perturbations\n",
      "\t\t\tdiscretize: discretize\n",
      "\t\t\toptimization_function: _optimization_function_0\n",
      "\t\t\tget_parameters: _get_parameters_precompute\n",
      "\t\t\tlength: 3.0\n",
      "\t\t\tlinear_mass: 0.0\n",
      "\t\tbr_3:\n",
      "\t\t\tstate_size: 12\n",
      "\t\t\tactuation_size: 2\n",
      "\t\t\tbuild_transformation_matrix:\n",
      "\t\t\tbuild_inertial_matrix:\n",
      "\t\t\tmass: 11.5\n",
      "\t\t\tcenter_of_mass: [0.0, 0.0, 0.0]\n",
      "\t\t\tweight: [0.0, 0.0, 112.77647499999999]\n",
      "\t\t\tbuoyancy_norm: 120.0\n",
      "\t\t\tcenter_of_volume: [0.0, 0.0, -0.02]\n",
      "\t\t\twater_surface_z: 0.0\n",
      "\t\t\twater_current: [0.0, 0.0, 0.0, 0.0, 0.0, 0.0]\n",
      "\t\t\tinertial_coefficients: [0.16, 0.16, 0.16, 0.0, 0.0, 0.0]\n",
      "\t\t\thydrodynamic_coefficients: [4.03, 6.22, 5.18, 0.07, 0.07, 0.07]\n",
      "\t\t\tadded_mass_coefficients: [5.5, 12.7, 14.57, 0.12, 0.12, 0.12]\n",
      "\t\t\tinertial_matrix: (6, 6)\n",
      "\t\t\tinverse_inertial_matrix: (6, 6)\n",
      "\t\t\thydrodynamic_matrix: (6, 6)\n",
      "\t\tlast_perturbation_01_0: [0.0, 0.0, 0.0, 0.0, 0.0, 0.0]\n",
      "\t\tlast_perturbation_01_1: [0.0, 0.0, 0.0, 0.0, 0.0, 0.0]\n",
      "\t\tlast_perturbation_12_1: [0.0, 0.0, 0.0, 0.0, 0.0, 0.0]\n",
      "\t\tlast_perturbation_12_2: [0.0, 0.0, 0.0, 0.0, 0.0, 0.0]\n",
      "\t\tlast_perturbation_23_2: [0.0, 0.0, 0.0, 0.0, 0.0, 0.0]\n",
      "\t\tlast_perturbation_23_3: [0.0, 0.0, 0.0, 0.0, 0.0, 0.0]\n",
      "\t\tbr_0_pose: 0:6:None\n",
      "\t\tbr_0_position: 0:3:None\n",
      "\t\tbr_0_xy: 0:2:None\n",
      "\t\tbr_0_z: 2\n",
      "\t\tbr_0_orientation: 3:6:None\n",
      "\t\tbr_1_pose: 6:12:None\n",
      "\t\tbr_1_position: 6:9:None\n",
      "\t\tbr_1_xy: 6:8:None\n",
      "\t\tbr_1_z: 8\n",
      "\t\tbr_1_orientation: 9:12:None\n",
      "\t\tbr_2_pose: 12:18:None\n",
      "\t\tbr_2_position: 12:15:None\n",
      "\t\tbr_2_xy: 12:14:None\n",
      "\t\tbr_2_z: 14\n",
      "\t\tbr_2_orientation: 15:18:None\n",
      "\t\tbr_3_pose: 18:24:None\n",
      "\t\tbr_3_position: 18:21:None\n",
      "\t\tbr_3_xy: 18:20:None\n",
      "\t\tbr_3_z: 20\n",
      "\t\tbr_3_orientation: 21:24:None\n",
      "\t\tbr_0_speed: 24:30:None\n",
      "\t\tbr_0_linear_speed: 24:27:None\n",
      "\t\tbr_0_angular_speed: 27:30:None\n",
      "\t\tbr_1_speed: 30:36:None\n",
      "\t\tbr_1_linear_speed: 30:33:None\n",
      "\t\tbr_1_angular_speed: 33:36:None\n",
      "\t\tbr_2_speed: 36:42:None\n",
      "\t\tbr_2_linear_speed: 36:39:None\n",
      "\t\tbr_2_angular_speed: 39:42:None\n",
      "\t\tbr_3_speed: 42:48:None\n",
      "\t\tbr_3_linear_speed: 42:45:None\n",
      "\t\tbr_3_angular_speed: 45:48:None\n",
      "\t\tbr_0_actuation_start: 0\n",
      "\t\tbr_0_actuation: 0:6:None\n",
      "\t\tbr_0_linear_actuation: 0:3:None\n",
      "\t\tbr_0_angular_actuation: 3:6:None\n",
      "\t\tbr_1_actuation_start: 6\n",
      "\t\tbr_1_actuation: 6:12:None\n",
      "\t\tbr_1_linear_actuation: 6:9:None\n",
      "\t\tbr_1_angular_actuation: 9:12:None\n",
      "\t\tbr_2_actuation: 12:18:None\n",
      "\t\tbr_2_actuation_start: 12\n",
      "\t\tbr_2_linear_actuation: 12:15:None\n",
      "\t\tbr_2_angular_actuation: 15:18:None\n",
      "\t\tbr_3_actuation: 18:20:None\n",
      "\t\tbr_3_actuation_start: 18\n",
      "\t\tbr_3_linear_actuation: 18\n",
      "\t\tbr_3_angular_actuation: 19\n",
      "\t\tbr_0_state: (12,)\n",
      "\t\tbr_1_state: (12,)\n",
      "\t\tbr_2_state: (12,)\n",
      "\t\tbr_3_state: (12,)\n",
      "\ttime_step: 0.1\n",
      "\tstate: (48,)\n",
      "\tactuation: (24,)\n",
      "\tkwargs:\n",
      "\trecord: True\n",
      "\tprevious_states: (1, 48)\n",
      "\tprevious_actuations: (1, 24)\n",
      "horizon: 5\n",
      "target_trajectory: (400, 1, 24)\n",
      "objective: chain_of_4_objective\n",
      "time_step: 0.2\n",
      "time_steps_per_actuation: 5\n",
      "guess_from_last_solution: True\n",
      "tolerance: 1e-06\n",
      "max_iter: 100\n",
      "bounds: None\n",
      "constraints:\n",
      "\t0:\n",
      "\t\tfun: chain_of_4_constraints\n",
      "\t\tlb: (45,)\n",
      "\t\tub: (45,)\n",
      "\t\tfinite_diff_rel_step: None\n",
      "\t\tfinite_diff_jac_sparsity: None\n",
      "\t\tjac: 2-point\n",
      "\t\thess:\n",
      "\t\t\tinitialize: initialize\n",
      "\t\t\tupdate: update\n",
      "\t\t\tdot: dot\n",
      "\t\t\tget_matrix: get_matrix\n",
      "\t\t\tmin_curvature: 1e-08\n",
      "\t\t\tinit_scale: auto\n",
      "\t\t\tfirst_iteration: None\n",
      "\t\t\tapprox_type: None\n",
      "\t\t\tB: None\n",
      "\t\t\tH: None\n",
      "\t\t\texception_strategy: skip_update\n",
      "\t\tkeep_feasible: False\n",
      "\t\tvalue_labels: ['depth_c_01', 'depth_c_12', 'depth_c_23', 'br_0_br_1_horizontal_distance', 'br_1_br_2_horizontal_distance', 'br_2_br_3_horizontal_distance', 'br_0_br_1_distance', 'br_1_br_2_distance', 'br_2_br_3_distance']\n",
      "\t\tlabels: ['seafloor', 'seafloor', 'seafloor', 'cable_lenght', 'cable_lenght', 'cable_lenght', 'cable_lenght', 'cable_lenght', 'cable_lenght']\n",
      "result_shape: [1, 1, 24]\n",
      "raw_result: None\n",
      "result: (24,)\n",
      "pose_weight_matrix: (5, 24, 24)\n",
      "actuation_derivative_weight_matrix: (1, 24, 24)\n",
      "objective_weight: 0.01\n",
      "final_weight: 0.0\n",
      "record: True\n",
      "predicted_trajectories: []\n",
      "candidate_actuations: []\n",
      "compute_times: []\n",
      "verbose: False\n",
      "constraints_function: chain_of_4_constraints\n",
      "os: Windows\n",
      "os_release: 11\n",
      "os_version: 10.0.22631\n",
      "cpu:\n",
      "\tpython_version: 3.12.6.final.0 (64 bit)\n",
      "\tcpuinfo_version: [9, 0, 0]\n",
      "\tcpuinfo_version_string: 9.0.0\n",
      "\tarch: X86_64\n",
      "\tbits: 64\n",
      "\tcount: 12\n",
      "\tarch_string_raw: AMD64\n",
      "\tvendor_id_raw: GenuineIntel\n",
      "\tbrand_raw: 12th Gen Intel(R) Core(TM) i7-1265U\n",
      "\thz_actual_friendly: 1.8000 GHz\n",
      "\thz_actual: [1800000000, 0]\n",
      "\tl2_cache_size: 6815744\n",
      "\tstepping: 4\n",
      "\tmodel: 154\n",
      "\tfamily: 6\n",
      "\tl3_cache_size: 12582912\n",
      "\thz_advertised_friendly: 2.6880 GHz\n",
      "\thz_advertised: [2688000000, 0]\n",
      "\tflags: (76,)\n",
      "\tl2_cache_line_size: 1280\n",
      "\tl2_cache_associativity: 7\n"
     ]
    }
   ],
   "execution_count": 4
  },
  {
   "metadata": {
    "ExecuteTime": {
     "end_time": "2024-10-16T13:46:54.601527Z",
     "start_time": "2024-10-16T13:46:54.593304Z"
    }
   },
   "cell_type": "code",
   "source": [
    "slice_repository = { }\n",
    "axes = [ 'x', 'y', 'z', 'phi', 'theta', 'psi', 'u', 'v', 'w', 'p', 'q', 'r' ]\n",
    "\n",
    "for k, v in config[ 'model' ][ 'model_dynamics' ].items():\n",
    "\tif isinstance( v, str ) and ':' in v:\n",
    "\t\tslice_repository[ k ] = slice( *[ int( v ) if v != 'None' else None for v in v.split( ':' ) ] )\n",
    "\telif isinstance( v, int ) and 'br_' in k:\n",
    "\t\tslice_repository[ k ] = v\n",
    "\n",
    "pose = { k: v for k, v in slice_repository.items() if 'pose' in k }\n",
    "positions = { k: v for k, v in slice_repository.items() if 'position' in k }\n",
    "orientations = { k: v for k, v in slice_repository.items() if 'orientation' in k }\n",
    "positions_pairs = { '_'.join( a.split( '_' )[ :2 ] ): '_'.join( b.split( '_' )[ :2 ] ) for a, b in\n",
    "\t\t\t\t\t\t\t\t\t\tzip( list( positions )[ :-1 ], list( positions )[ 1: ] ) }\n",
    "speeds = { k: v for k, v in slice_repository.items() if 'linear_speed' in k }\n",
    "linear_actuation = { k: v for k, v in slice_repository.items() if 'linear_actuation' in k }\n",
    "angular_actuation = { k: v for k, v in slice_repository.items() if 'angular_actuation' in k }"
   ],
   "id": "e41a877a5d6a4b88",
   "outputs": [],
   "execution_count": 5
  },
  {
   "metadata": {
    "ExecuteTime": {
     "end_time": "2024-10-16T13:46:54.646258Z",
     "start_time": "2024-10-16T13:46:54.639628Z"
    }
   },
   "cell_type": "code",
   "source": [
    "for i, c in enumerate( config[ 'constraints' ] ):\n",
    "\tfor j, (lb, ub, label, vlabel) in enumerate( zip( c[ 'lb' ], c[ 'ub' ], c[ 'labels' ], c[ 'value_labels' ] ) ):\n",
    "\t\tprint( f'{(i + 1) * j}.\\t{label}: {lb}\\t<=\\t{vlabel}\\t<=\\t{ub}' )"
   ],
   "id": "83ea0a6d13a78b37",
   "outputs": [
    {
     "name": "stdout",
     "output_type": "stream",
     "text": [
      "0.\tseafloor: -inf\t<=\tdepth_c_01\t<=\t4.00001\n",
      "1.\tseafloor: -inf\t<=\tdepth_c_12\t<=\t4.00001\n",
      "2.\tseafloor: -inf\t<=\tdepth_c_23\t<=\t4.00001\n",
      "3.\tcable_lenght: 0.4\t<=\tbr_0_br_1_horizontal_distance\t<=\t2.8\n",
      "4.\tcable_lenght: 0.4\t<=\tbr_1_br_2_horizontal_distance\t<=\t2.8\n",
      "5.\tcable_lenght: 0.4\t<=\tbr_2_br_3_horizontal_distance\t<=\t2.8\n",
      "6.\tcable_lenght: -inf\t<=\tbr_0_br_1_distance\t<=\t2.8\n",
      "7.\tcable_lenght: -inf\t<=\tbr_1_br_2_distance\t<=\t2.8\n",
      "8.\tcable_lenght: -inf\t<=\tbr_2_br_3_distance\t<=\t2.8\n"
     ]
    }
   ],
   "execution_count": 6
  },
  {
   "metadata": {
    "ExecuteTime": {
     "end_time": "2024-10-16T13:46:55.959674Z",
     "start_time": "2024-10-16T13:46:54.694701Z"
    }
   },
   "cell_type": "code",
   "source": [
    "data_files = list( folder.glob( 'data/*' ) )\n",
    "data_files.sort( key = lambda x: path.getmtime( x ) )\n",
    "with open( data_files[ -1 ] ) as f:\n",
    "\tfinal_state = json.load( f )\n",
    "\n",
    "times = [ config[ 'model' ][ 'time_step' ] * i for i in range( len( config[ 'target_trajectory' ] ) ) ]\n",
    "target_trajectory = array( config[ 'target_trajectory' ] )[ :, 0 ]\n",
    "\n",
    "n_frames = len( data_files )\n",
    "previous_times = [ config[ 'model' ][ 'time_step' ] * i for i in range( n_frames ) ]\n",
    "previous_target_trajectory = target_trajectory[ :n_frames ]\n",
    "previous_actual_trajectory = array( final_state[ 'model' ][ 'previous_states' ] )[ 1:,\n",
    "\t\t\t\t\t\t\t\t\t\t\t\t\t\t :config[ 'model' ][ 'model_dynamics' ][ 'state_size' ] ]\n",
    "\n",
    "previous_actuations = array( final_state[ 'model' ][ 'previous_actuations' ] )\n",
    "\n",
    "pose_weight = array( config[ 'pose_weight_matrix' ][ 0 ] )"
   ],
   "id": "252ce6f553188374",
   "outputs": [],
   "execution_count": 7
  },
  {
   "metadata": {
    "ExecuteTime": {
     "end_time": "2024-10-16T13:47:01.187061Z",
     "start_time": "2024-10-16T13:46:55.976509Z"
    }
   },
   "cell_type": "code",
   "source": "check( f'{folder}/plots' )",
   "id": "179c0cc902a616f",
   "outputs": [
    {
     "name": "stdout",
     "output_type": "stream",
     "text": [
      "removing export\\chain_of_four_1729082752/plots\\3d_frames\tfailed ...\n",
      "removing export\\chain_of_four_1729082752/plots\\br_0_angular_actuation_1729082752.png\tsuccess.\n",
      "removing export\\chain_of_four_1729082752/plots\\br_0_linear_actuation_1729082752.png\tsuccess.\n",
      "removing export\\chain_of_four_1729082752/plots\\br_0_orientation_tracking_error_1729082752.png\tsuccess.\n",
      "removing export\\chain_of_four_1729082752/plots\\br_0_position_tracking_error_1729082752.png\tsuccess.\n",
      "removing export\\chain_of_four_1729082752/plots\\br_1_angular_actuation_1729082752.png\tsuccess.\n",
      "removing export\\chain_of_four_1729082752/plots\\br_1_linear_actuation_1729082752.png\tsuccess.\n",
      "removing export\\chain_of_four_1729082752/plots\\br_1_orientation_tracking_error_1729082752.png\tsuccess.\n",
      "removing export\\chain_of_four_1729082752/plots\\br_2_angular_actuation_1729082752.png\tsuccess.\n",
      "removing export\\chain_of_four_1729082752/plots\\br_2_linear_actuation_1729082752.png\tsuccess.\n",
      "removing export\\chain_of_four_1729082752/plots\\br_2_orientation_tracking_error_1729082752.png\tsuccess.\n",
      "removing export\\chain_of_four_1729082752/plots\\br_3_angular_actuation_1729082752.png\tsuccess.\n",
      "removing export\\chain_of_four_1729082752/plots\\br_3_linear_actuation_1729082752.png\tsuccess.\n",
      "removing export\\chain_of_four_1729082752/plots\\compute_times_1729082752.png\tsuccess.\n",
      "removing export\\chain_of_four_1729082752/plots\\distance_1729082752.png\tsuccess.\n",
      "removing export\\chain_of_four_1729082752/plots\\horizontal_distance_1729082752.png\tsuccess.\n",
      "removing export\\chain_of_four_1729082752/plots\\lowest_points_1729082752.png\tsuccess.\n",
      "removing export\\chain_of_four_1729082752/plots\\positions_on_x_1729082752.png\tsuccess.\n",
      "removing export\\chain_of_four_1729082752/plots\\positions_on_y_1729082752.png\tsuccess.\n",
      "removing export\\chain_of_four_1729082752/plots\\positions_on_z_1729082752.png\tsuccess.\n",
      "removing export\\chain_of_four_1729082752/plots\\speeds_on_x_1729082752.png\tsuccess.\n",
      "removing export\\chain_of_four_1729082752/plots\\speeds_on_y_1729082752.png\tsuccess.\n",
      "removing export\\chain_of_four_1729082752/plots\\speeds_on_z_1729082752.png\tsuccess.\n"
     ]
    },
    {
     "data": {
      "text/plain": [
       "0"
      ]
     },
     "execution_count": 8,
     "metadata": {},
     "output_type": "execute_result"
    }
   ],
   "execution_count": 8
  },
  {
   "metadata": {
    "ExecuteTime": {
     "end_time": "2024-10-16T13:47:01.604812Z",
     "start_time": "2024-10-16T13:47:01.264029Z"
    }
   },
   "cell_type": "code",
   "source": [
    "for k, v in positions.items():\n",
    "\tif norm( pose_weight[ v, v ] ) == 0:\n",
    "\t\tcontinue\n",
    "\tabsolute_distances = abs( previous_target_trajectory[ :, v ] - previous_actual_trajectory[ :, v ] )\n",
    "\tplt.plot( previous_times, absolute_distances )\n",
    "\tplt.legend(\n",
    "\t\t\t[\n",
    "\t\t\t\t\tr'over $\\mathbf{x}_w$-axis',\n",
    "\t\t\t\t\tr'over $\\mathbf{y}_w$-axis',\n",
    "\t\t\t\t\tr'over $\\mathbf{z}_w$-axis'\n",
    "\t\t\t\t\t]\n",
    "\t\t\t)\n",
    "\tplt.xlabel( 'time [s]' )\n",
    "\tplt.ylabel( 'absolute error [m]' )\n",
    "\tplt.subplots_adjust( bottom = 0.125, top = 1, left = 0.075, right = 1 )\n",
    "\tplt.savefig( f'{folder}/plots/{k}_tracking_error_{uuid}.png', dpi = 300 )\n",
    "\tplt.close( 'all' )"
   ],
   "id": "608ffdcdd3d4fd98",
   "outputs": [],
   "execution_count": 9
  },
  {
   "metadata": {
    "ExecuteTime": {
     "end_time": "2024-10-16T13:47:02.474323Z",
     "start_time": "2024-10-16T13:47:01.622902Z"
    }
   },
   "cell_type": "code",
   "source": [
    "for k, v in orientations.items():\n",
    "\tif norm( pose_weight[ v, v ] ) == 0:\n",
    "\t\tcontinue\n",
    "\tplt.plot( previous_times, abs( previous_target_trajectory[ :, v ] - previous_actual_trajectory[ :, v ] ) )\n",
    "\tplt.legend(\n",
    "\t\t\t[\n",
    "\t\t\t\t\tr'around $\\mathbf{x}_w$-axis',\n",
    "\t\t\t\t\tr'around $\\mathbf{y}_w$-axis',\n",
    "\t\t\t\t\tr'around $\\mathbf{z}_w$-axis'\n",
    "\t\t\t\t\t]\n",
    "\t\t\t)\n",
    "\tplt.xlabel( 'time [s]' )\n",
    "\tplt.ylabel( 'absolute error [rad]' )\n",
    "\tplt.subplots_adjust( bottom = 0.125, top = 1, left = 0.075, right = 1 )\n",
    "\tplt.savefig( f'{folder}/plots/{k}_tracking_error_{uuid}.png', dpi = 300 )\n",
    "\tplt.close( 'all' )"
   ],
   "id": "3cfcd0e3074aff59",
   "outputs": [],
   "execution_count": 10
  },
  {
   "metadata": {
    "ExecuteTime": {
     "end_time": "2024-10-16T13:47:03.440485Z",
     "start_time": "2024-10-16T13:47:02.500616Z"
    }
   },
   "cell_type": "code",
   "source": [
    "for k, v in linear_actuation.items():\n",
    "\tplt.plot( previous_times, previous_actuations[ :-1, v ] )\n",
    "\tplt.xlabel( 'time [s]' )\n",
    "\tplt.ylabel( 'actuation [N]' )\n",
    "\tplt.legend(\n",
    "\t\t\t[\n",
    "\t\t\t\t\tr'over $\\mathbf{x}_r$-axis',\n",
    "\t\t\t\t\tr'over $\\mathbf{y}_r$-axis',\n",
    "\t\t\t\t\tr'over $\\mathbf{z}_r$-axis'\n",
    "\t\t\t\t\t]\n",
    "\t\t\t)\n",
    "\tplt.subplots_adjust( bottom = 0.125, top = 1, left = 0.075, right = 1 )\n",
    "\tplt.savefig( f'{folder}/plots/{k}_{uuid}.png', dpi = 300 )\n",
    "\tplt.close( 'all' )"
   ],
   "id": "d3ce72c654dc4014",
   "outputs": [],
   "execution_count": 11
  },
  {
   "metadata": {
    "ExecuteTime": {
     "end_time": "2024-10-16T13:47:04.385892Z",
     "start_time": "2024-10-16T13:47:03.460972Z"
    }
   },
   "cell_type": "code",
   "source": [
    "for k, v in angular_actuation.items():\n",
    "\tplt.plot( previous_times, previous_actuations[ :-1, v ] )\n",
    "\tplt.xlabel( 'time [s]' )\n",
    "\tplt.ylabel( 'actuation [Nm]' )\n",
    "\tplt.legend(\n",
    "\t\t\t[\n",
    "\t\t\t\t\tr'around $\\mathbf{x}_r$-axis',\n",
    "\t\t\t\t\tr'around $\\mathbf{y}_r$-axis',\n",
    "\t\t\t\t\tr'around $\\mathbf{z}_r$-axis'\n",
    "\t\t\t\t\t]\n",
    "\t\t\t)\n",
    "\tplt.subplots_adjust( bottom = 0.125, top = 1, left = 0.075, right = 1 )\n",
    "\tplt.savefig( f'{folder}/plots/{k}_{uuid}.png', dpi = 300 )\n",
    "\tplt.close( 'all' )"
   ],
   "id": "8e1cc090d6aeb520",
   "outputs": [],
   "execution_count": 12
  },
  {
   "metadata": {
    "ExecuteTime": {
     "end_time": "2024-10-16T13:47:04.809599Z",
     "start_time": "2024-10-16T13:47:04.515771Z"
    }
   },
   "cell_type": "code",
   "source": [
    "for pair_1, pair_2 in positions_pairs.items():\n",
    "\tposition_1 = deepcopy( previous_actual_trajectory[ :, slice_repository[ pair_1 + '_position' ] ] )\n",
    "\tposition_2 = deepcopy( previous_actual_trajectory[ :, slice_repository[ pair_2 + '_position' ] ] )\n",
    "\n",
    "\tlowest_points = zeros( (position_1.shape[ 0 ],) )\n",
    "\n",
    "\tname = f'c_{pair_1.split( \"_\" )[ -1 ]}{pair_2.split( \"_\" )[ -1 ]}'\n",
    "\tcat = Catenary(\n",
    "\t\t\tconfig[ 'model' ][ 'model_dynamics' ][ name ][ 'length' ],\n",
    "\t\t\tconfig[ 'model' ][ 'model_dynamics' ][ name ][ 'linear_mass' ]\n",
    "\t\t\t)\n",
    "\n",
    "\tfor i, (p1, p2) in enumerate( zip( position_1, position_2 ) ):\n",
    "\t\tlowest_points[ i ] = cat.get_lowest_point( p1, p2 )[ 2 ]\n",
    "\n",
    "\tplt.plot( previous_times, lowest_points )\n",
    "\n",
    "plt.legend( [ f'from {a} to {b}' for a, b in positions_pairs.items() ] )\n",
    "plt.xlabel( 'time [s]' )\n",
    "plt.ylabel( 'distance [m]' )\n",
    "plt.subplots_adjust( bottom = 0.125, top = 1, left = 0.075, right = 1 )\n",
    "plt.gca().invert_yaxis()\n",
    "plt.savefig( f'{folder}/plots/lowest_points_{uuid}.png', dpi = 300 )\n",
    "plt.close( 'all' )"
   ],
   "id": "f24c7e7b52d28c00",
   "outputs": [],
   "execution_count": 13
  },
  {
   "metadata": {
    "ExecuteTime": {
     "end_time": "2024-10-16T13:47:05.093618Z",
     "start_time": "2024-10-16T13:47:04.837371Z"
    }
   },
   "cell_type": "code",
   "source": [
    "for pair_1, pair_2 in positions_pairs.items():\n",
    "\tabsolute_distances = norm(\n",
    "\t\t\tprevious_actual_trajectory[ :, positions[ pair_1 + '_position' ] ] -\n",
    "\t\t\tprevious_actual_trajectory[ :, positions[ pair_2 + '_position' ] ],\n",
    "\t\t\taxis = 1\n",
    "\t\t\t)\n",
    "\tplt.plot( previous_times, absolute_distances )\n",
    "plt.legend( [ f'from {a} to {b}' for a, b in positions_pairs.items() ] )\n",
    "plt.xlabel( 'time [s]' )\n",
    "plt.ylabel( 'distance [m]' )\n",
    "plt.subplots_adjust( bottom = 0.125, top = 1, left = 0.075, right = 1 )\n",
    "plt.savefig( f'{folder}/plots/distance_{uuid}.png', dpi = 300 )\n",
    "plt.close( 'all' )"
   ],
   "id": "bcc5c58b0ed123b0",
   "outputs": [],
   "execution_count": 14
  },
  {
   "metadata": {
    "ExecuteTime": {
     "end_time": "2024-10-16T13:47:05.396122Z",
     "start_time": "2024-10-16T13:47:05.122239Z"
    }
   },
   "cell_type": "code",
   "source": [
    "for p1, p2 in positions_pairs.items():\n",
    "\tabsolute_distances = norm(\n",
    "\t\t\tprevious_actual_trajectory[ :, slice_repository[ p1 + '_xy' ] ] -\n",
    "\t\t\tprevious_actual_trajectory[ :, slice_repository[ p2 + '_xy' ] ],\n",
    "\t\t\taxis = 1\n",
    "\t\t\t)\n",
    "\tplt.plot( previous_times, absolute_distances )\n",
    "plt.legend( [ f'from {a} to {b}' for a, b in positions_pairs.items() ] )\n",
    "plt.xlabel( 'time [s]' )\n",
    "plt.ylabel( 'distance [m]' )\n",
    "plt.subplots_adjust( bottom = 0.125, top = 1, left = 0.075, right = 1 )\n",
    "plt.savefig( f'{folder}/plots/horizontal_distance_{uuid}.png', dpi = 300 )\n",
    "plt.close( 'all' )"
   ],
   "id": "5652214d517da19",
   "outputs": [],
   "execution_count": 15
  },
  {
   "metadata": {
    "ExecuteTime": {
     "end_time": "2024-10-16T13:47:06.199610Z",
     "start_time": "2024-10-16T13:47:05.427638Z"
    }
   },
   "cell_type": "code",
   "source": [
    "figs = [ 'x', 'y', 'z' ]\n",
    "\n",
    "x = plt.figure().subplots()\n",
    "y = plt.figure().subplots()\n",
    "z = plt.figure().subplots()\n",
    "z.invert_yaxis()\n",
    "\n",
    "legends = [ [ ], [ ], [ ] ]\n",
    "\n",
    "for k, v in positions.items():\n",
    "\tposition = previous_actual_trajectory[ :, v ]\n",
    "\n",
    "\tX = position[ :, 0 ]\n",
    "\tY = position[ :, 1 ]\n",
    "\tZ = position[ :, 2 ]\n",
    "\n",
    "\tx.plot( previous_times, X )\n",
    "\ty.plot( previous_times, Y )\n",
    "\tz.plot( previous_times, Z )\n",
    "\n",
    "\tfor i in range( 3 ):\n",
    "\t\tlegends[ i ] += [ f'{k}' ]\n",
    "\n",
    "\tif norm( pose_weight[ v, v ][ :, 0 ] ) > 0:\n",
    "\t\ttarget = previous_target_trajectory[ :, v ][ :, 0 ]\n",
    "\t\tx.plot( previous_times, target, ':', linewidth = 3 )\n",
    "\t\tlegends[ 0 ] += [ f'{k} target' ]\n",
    "\n",
    "\tif norm( pose_weight[ v, v ][ :, 1 ] ) > 0:\n",
    "\t\ttarget = previous_target_trajectory[ :, v ][ :, 1 ]\n",
    "\t\ty.plot( previous_times, target, ':', linewidth = 3 )\n",
    "\t\tlegends[ 1 ] += [ f'{k} target' ]\n",
    "\n",
    "\tif norm( pose_weight[ v, v ][ :, 2 ] ) > 0:\n",
    "\t\ttarget = previous_target_trajectory[ :, v ][ :, 2 ]\n",
    "\t\tz.plot( previous_times, target, ':', linewidth = 3 )\n",
    "\t\tlegends[ 2 ] += [ f'{k} target' ]\n",
    "\n",
    "for f in plt.get_fignums():\n",
    "\tfig = plt.figure( f )\n",
    "\tplt.legend( legends[ f - 1 ] )\n",
    "\tplt.xlabel( 'time [s]' )\n",
    "\tplt.ylabel( f'position on $\\\\mathbf{{{figs[ f - 1 ]}}}_w$-axis [m]' )\n",
    "\tplt.subplots_adjust( bottom = 0.125, top = 1, left = 0.075, right = 1 )\n",
    "\tplt.savefig( f'{folder}/plots/positions_on_{figs[ f - 1 ]}_{uuid}.png', dpi = 300 )\n",
    "plt.close( 'all' )"
   ],
   "id": "5bcb8d886f34b586",
   "outputs": [],
   "execution_count": 16
  },
  {
   "metadata": {
    "ExecuteTime": {
     "end_time": "2024-10-16T13:47:06.976995Z",
     "start_time": "2024-10-16T13:47:06.234977Z"
    }
   },
   "cell_type": "code",
   "source": [
    "figs = [ 'x', 'y', 'z' ]\n",
    "\n",
    "x = plt.figure().subplots()\n",
    "y = plt.figure().subplots()\n",
    "z = plt.figure().subplots()\n",
    "z.invert_yaxis()\n",
    "\n",
    "legends = [ [ ], [ ], [ ] ]\n",
    "\n",
    "for k, v in speeds.items():\n",
    "\tspeed = previous_actual_trajectory[ :, v ]\n",
    "\n",
    "\tX = speed[ :, 0 ]\n",
    "\tY = speed[ :, 1 ]\n",
    "\tZ = speed[ :, 2 ]\n",
    "\n",
    "\tx.plot( previous_times, X )\n",
    "\ty.plot( previous_times, Y )\n",
    "\tz.plot( previous_times, Z )\n",
    "\n",
    "\tfor i in range( 3 ):\n",
    "\t\tlegends[ i ] += [ f'{k}' ]\n",
    "\n",
    "for f in plt.get_fignums():\n",
    "\tfig = plt.figure( f )\n",
    "\tplt.legend( legends[ f - 1 ] )\n",
    "\tplt.xlabel( 'time [s]' )\n",
    "\tplt.ylabel( f'speed on $\\\\mathbf{{{figs[ f - 1 ]}}}_r$-axis [m/s]' )\n",
    "\tplt.subplots_adjust( bottom = 0.125, top = 1, left = 0.075, right = 1 )\n",
    "\tplt.savefig( f'{folder}/plots/speeds_on_{figs[ f - 1 ]}_{uuid}.png', dpi = 300 )\n",
    "plt.close( 'all' )"
   ],
   "id": "93f40afd47b7d607",
   "outputs": [],
   "execution_count": 17
  },
  {
   "metadata": {
    "ExecuteTime": {
     "end_time": "2024-10-16T13:47:07.260358Z",
     "start_time": "2024-10-16T13:47:07.025336Z"
    }
   },
   "cell_type": "code",
   "source": [
    "plt.plot( previous_times, final_state[ 'compute_times' ] )\n",
    "plt.hlines( config[ 'model' ][ 'time_step' ] * config[ 'horizon' ], 0, previous_times[ -1 ], 'r', '--' )\n",
    "plt.legend( [ 'compute time', 'horizon depth' ] )\n",
    "plt.xlabel( 'time [s]' )\n",
    "plt.ylabel( 'time [s]' )\n",
    "plt.subplots_adjust( bottom = 0.125, top = 1, left = 0.075, right = 1 )\n",
    "plt.savefig( f'{folder}/plots/compute_times_{uuid}.png', dpi = 300 )\n",
    "plt.close( 'all' )"
   ],
   "id": "fa7d95363674979c",
   "outputs": [],
   "execution_count": 18
  },
  {
   "metadata": {
    "ExecuteTime": {
     "end_time": "2024-10-16T13:47:07.302006Z",
     "start_time": "2024-10-16T13:47:07.294932Z"
    }
   },
   "cell_type": "code",
   "source": "frames_already_done = check( f'{folder}/plots/3d_frames' )",
   "id": "ad389f2c68bbfa6f",
   "outputs": [],
   "execution_count": 19
  },
  {
   "metadata": {
    "ExecuteTime": {
     "end_time": "2024-10-16T13:55:32.036886Z",
     "start_time": "2024-10-16T13:47:07.393035Z"
    }
   },
   "cell_type": "code",
   "source": [
    "robots_colors = { '0': 'r', '1': 'g', '2': 'b', '3': 'y', '4': 'm' }\n",
    "quiver_scale = .5\n",
    "box = [ [ -6.5, 4.5 ], [ -5.5, 5.5 ], [ -5, 6 ] ]\n",
    "\n",
    "water_current = config[ 'model' ][ 'model_dynamics' ][ 'br_0' ][ 'water_current' ]\n",
    "water_surface = config[ 'model' ][ 'model_dynamics' ][ 'br_0' ][ 'water_surface_z' ]\n",
    "seafloor_index = config[ 'constraints' ][ 0 ][ 'labels' ].index( 'seafloor' )\n",
    "seafloor = config[ 'constraints' ][ 0 ][ 'ub' ][ seafloor_index ]\n",
    "\n",
    "X = linspace( box[ 0 ][ 0 ], box[ 0 ][ 1 ], 5 )\n",
    "Y = linspace( box[ 1 ][ 0 ], box[ 1 ][ 1 ], 5 )\n",
    "Z = linspace(\n",
    "\t\tbox[ 2 ][ 0 ] if box[ 2 ][ 0 ] > water_surface else water_surface,\n",
    "\t\tbox[ 2 ][ 1 ] if box[ 2 ][ 1 ] < seafloor else seafloor,\n",
    "\t\t5\n",
    "\t\t)\n",
    "Xg, Yg, Zg = meshgrid( X, Y, Z )\n",
    "Xpg, Ypg = meshgrid( X, Y )\n",
    "\n",
    "Uc = water_current[ 0 ] * ones( Xg.shape )\n",
    "Vc = water_current[ 1 ] * ones( Xg.shape )\n",
    "Wc = water_current[ 2 ] * ones( Xg.shape )\n",
    "\n",
    "WS = water_surface * ones( Xpg.shape )\n",
    "SF = seafloor * ones( Xpg.shape )\n",
    "\n",
    "for frame in tqdm( range( frames_already_done, n_frames ) ):\n",
    "\t# frame = 100\n",
    "\n",
    "\twith open( data_files[ frame ] ) as f:\n",
    "\t\tsimulation_state = json.load( f )\n",
    "\tpredicted_trajectories = array( simulation_state[ 'predicted_trajectories' ] )\n",
    "\tif predicted_trajectories.shape[ 0 ] > 100:\n",
    "\t\tpredicted_trajectories = predicted_trajectories[ ::predicted_trajectories.shape[ 0 ] // 100 ]\n",
    "\n",
    "\tfig = plt.figure( figsize = (10, 10) )\n",
    "\tview = plt.subplot( projection = '3d', computed_zorder = False )\n",
    "\tview.set_xlabel( r\"$\\mathbf{x}_w$-axis\" )\n",
    "\tview.set_ylabel( r\"$\\mathbf{y}_w$-axis\" )\n",
    "\tview.set_zlabel( r\"$\\mathbf{z}_w$-axis\" )\n",
    "\tview.set_xlim( *box[ 0 ] )\n",
    "\tview.set_ylim( *box[ 1 ] )\n",
    "\tview.set_zlim( *box[ 2 ] )\n",
    "\tview.invert_yaxis()\n",
    "\tview.invert_zaxis()\n",
    "\n",
    "\tinset_view_xz = view.inset_axes( [ .0, .0, .2, .2 ] )\n",
    "\tinset_view_xz.set_xlabel( r\"$\\mathbf{x}_w$-axis\" )\n",
    "\tinset_view_xz.set_ylabel( r\"$\\mathbf{z}_w$-axis\" )\n",
    "\tinset_view_xz.set_xlim( *box[ 0 ] )\n",
    "\tinset_view_xz.set_ylim( *box[ 2 ] )\n",
    "\tinset_view_xz.invert_yaxis()\n",
    "\n",
    "\tinset_view_yz = view.inset_axes( [ .8, .0, .2, .2 ] )\n",
    "\tinset_view_yz.set_xlabel( r\"$\\mathbf{y}_w$-axis\" )\n",
    "\tinset_view_yz.set_ylabel( r\"$\\mathbf{z}_w$-axis\" )\n",
    "\tinset_view_yz.set_xlim( *box[ 1 ] )\n",
    "\tinset_view_yz.set_ylim( *box[ 2 ] )\n",
    "\tinset_view_yz.invert_yaxis()\n",
    "\tinset_view_yz.invert_xaxis()\n",
    "\n",
    "\tinset_view_xy = view.inset_axes( [ .0, .8, .2, .2 ] )\n",
    "\tinset_view_xy.set_xlabel( r\"$\\mathbf{x}_w$-axis\" )\n",
    "\tinset_view_xy.set_ylabel( r\"$\\mathbf{y}_w$-axis\" )\n",
    "\tinset_view_xy.set_xlim( *box[ 0 ] )\n",
    "\tinset_view_xy.set_ylim( *box[ 1 ] )\n",
    "\tinset_view_xy.invert_yaxis()\n",
    "\n",
    "\tview.quiver( Xg, Yg, Zg, Uc, Vc, Wc, color = 'navy' )\n",
    "\tview.plot_surface( Xpg, Ypg, SF, color = 'brown', zorder = 0. )\n",
    "\tview.plot_surface( Xpg, Ypg, WS, color = 'navy', alpha = 0.1 )\n",
    "\n",
    "\tinset_view_xz.axhline(water_surface, color='navy')\n",
    "\tinset_view_xz.axhline(seafloor, color='brown')\n",
    "\tinset_view_yz.axhline(water_surface, color='navy')\n",
    "\tinset_view_yz.axhline(seafloor, color='brown')\n",
    "\n",
    "\tfor k, v in pose.items():\n",
    "\n",
    "\t\tcolor = robots_colors[ k.split( '_' )[ 1 ] ]\n",
    "\n",
    "\t\tif norm( pose_weight[ v, v ][ :3, :3 ] ) > 0:\n",
    "\t\t\tXt = target_trajectory[ :, v ][ :, 0 ]\n",
    "\t\t\tYt = target_trajectory[ :, v ][ :, 1 ]\n",
    "\t\t\tZt = target_trajectory[ :, v ][ :, 2 ]\n",
    "\n",
    "\t\t\tview.plot( Xt, Yt, Zt, ':', color = 'k' )\n",
    "\t\t\tview.scatter( Xt[ frame + 1 ], Yt[ frame + 1 ], Zt[ frame + 1 ], marker = 'x', color = 'k' )\n",
    "\t\t\tinset_view_xz.plot( Xt, Zt, ':', color = 'k' )\n",
    "\t\t\tinset_view_xz.scatter( Xt[ frame + 1 ], Zt[ frame + 1 ], marker = 'x', color = 'k' )\n",
    "\t\t\tinset_view_yz.plot( Yt, Zt, ':', color = 'k' )\n",
    "\t\t\tinset_view_yz.scatter( Yt[ frame + 1 ], Zt[ frame + 1 ], marker = 'x', color = 'k' )\n",
    "\t\t\tinset_view_xy.plot( Xt, Yt, ':', color = 'k' )\n",
    "\t\t\tinset_view_xy.scatter( Xt[ frame + 1 ], Yt[ frame + 1 ], marker = 'x', color = 'k' )\n",
    "\n",
    "\t\tX = previous_actual_trajectory[ frame, v ][ 0 ]\n",
    "\t\tY = previous_actual_trajectory[ frame, v ][ 1 ]\n",
    "\t\tZ = previous_actual_trajectory[ frame, v ][ 2 ]\n",
    "\n",
    "\t\tP = previous_actual_trajectory[ frame, v ][ :3 ]\n",
    "\t\tA = previous_actual_trajectory[ frame, v ][ 3:6 ]\n",
    "\t\tR = Rotation.from_euler( 'xyz', A ).as_matrix()\n",
    "\n",
    "\t\tview.quiver( *P, *(R @ array( [ quiver_scale, 0., 0. ] )), color = 'r' )\n",
    "\t\tview.quiver( *P, *(R @ array( [ 0., quiver_scale, 0. ] )), color = 'g' )\n",
    "\t\tview.quiver( *P, *(R @ array( [ 0., 0., quiver_scale ] )), color = 'b' )\n",
    "\n",
    "\t\tview.scatter( X, Y, Z, color = color )\n",
    "\t\tinset_view_xz.scatter( X, Z, color = color )\n",
    "\t\tinset_view_yz.scatter( Y, Z, color = color )\n",
    "\t\tinset_view_xy.scatter( X, Y, color = color )\n",
    "\n",
    "\t\tfor trajectory in predicted_trajectories:\n",
    "\t\t\tX = trajectory[ :, 0, v ][ :, 0 ]\n",
    "\t\t\tY = trajectory[ :, 0, v ][ :, 1 ]\n",
    "\t\t\tZ = trajectory[ :, 0, v ][ :, 2 ]\n",
    "\n",
    "\t\t\tview.plot( X, Y, Z, linewidth = .5, color = color )\n",
    "\t\t\tinset_view_xz.plot( X, Z, linewidth = .5, color = color )\n",
    "\t\t\tinset_view_yz.plot( Y, Z, linewidth = .5, color = color )\n",
    "\t\t\tinset_view_xy.plot( X, Y, linewidth = .5, color = color )\n",
    "\n",
    "\tfor p1, p2 in positions_pairs.items():\n",
    "\n",
    "\t\tcolor = robots_colors[ p1.split( '_' )[ 1 ] ]\n",
    "\n",
    "\t\tposition_1 = deepcopy( previous_actual_trajectory[ frame, positions[ p1 + '_position' ] ] )\n",
    "\t\tposition_2 = deepcopy( previous_actual_trajectory[ frame, positions[ p2 + '_position' ] ] )\n",
    "\n",
    "\t\tname = f'c_{p1.split( \"_\" )[ -1 ]}{p2.split( \"_\" )[ -1 ]}'\n",
    "\t\tcat = Catenary(\n",
    "\t\t\t\tconfig[ 'model' ][ 'model_dynamics' ][ name ][ 'length' ],\n",
    "\t\t\t\tconfig[ 'model' ][ 'model_dynamics' ][ name ][ 'linear_mass' ]\n",
    "\t\t\t\t)\n",
    "\n",
    "\t\tcat_12 = cat.discretize( position_1, position_2 )\n",
    "\n",
    "\t\tview.plot( cat_12[ :, 0 ], cat_12[ :, 1 ], cat_12[ :, 2 ], color = color )\n",
    "\t\tinset_view_xz.plot( cat_12[ :, 0 ], cat_12[ :, 2 ], color = color )\n",
    "\t\tinset_view_yz.plot( cat_12[ :, 1 ], cat_12[ :, 2 ], color = color )\n",
    "\t\tinset_view_xy.plot( cat_12[ :, 0 ], cat_12[ :, 1 ], color = color )\n",
    "\n",
    "\tplt.savefig( f'{folder}/plots/3d_frames/{frame}.png', dpi = 100 )\n",
    "\tplt.close( 'all' )\n",
    "\tdel fig, view, inset_view_xz, inset_view_yz, inset_view_xy"
   ],
   "id": "634fcfd31d96cf19",
   "outputs": [
    {
     "name": "stderr",
     "output_type": "stream",
     "text": [
      "100%|██████████| 200/200 [08:24<00:00,  2.52s/it]\n"
     ]
    }
   ],
   "execution_count": 20
  },
  {
   "metadata": {
    "ExecuteTime": {
     "end_time": "2024-10-16T13:55:49.305954Z",
     "start_time": "2024-10-16T13:55:32.128782Z"
    }
   },
   "cell_type": "code",
   "source": "collect()",
   "id": "70338ea0a686564",
   "outputs": [
    {
     "data": {
      "text/plain": [
       "23923134"
      ]
     },
     "execution_count": 21,
     "metadata": {},
     "output_type": "execute_result"
    }
   ],
   "execution_count": 21
  },
  {
   "metadata": {
    "ExecuteTime": {
     "end_time": "2024-10-16T13:56:23.302353Z",
     "start_time": "2024-10-16T13:55:49.402631Z"
    }
   },
   "cell_type": "code",
   "source": "gif_from_pngs( f'{folder}/plots/3d_frames', duration = config[ 'model' ][ 'time_step' ] * 1000 )",
   "id": "eb26e196bad38112",
   "outputs": [],
   "execution_count": 22
  },
  {
   "metadata": {
    "ExecuteTime": {
     "end_time": "2024-10-16T13:56:23.701495Z",
     "start_time": "2024-10-16T13:56:23.319363Z"
    }
   },
   "cell_type": "code",
   "source": "collect()",
   "id": "f79cbacba01f8091",
   "outputs": [
    {
     "data": {
      "text/plain": [
       "1402"
      ]
     },
     "execution_count": 23,
     "metadata": {},
     "output_type": "execute_result"
    }
   ],
   "execution_count": 23
  },
  {
   "metadata": {
    "ExecuteTime": {
     "end_time": "2024-10-16T13:56:25.439363Z",
     "start_time": "2024-10-16T13:56:23.851927Z"
    }
   },
   "cell_type": "code",
   "source": "system( f'ffmpeg -y -i {folder}/plots/3d_frames/animation.gif {folder}/plots/animation.mp4' )",
   "id": "21caf7a3eeacdfe0",
   "outputs": [
    {
     "data": {
      "text/plain": [
       "0"
      ]
     },
     "execution_count": 24,
     "metadata": {},
     "output_type": "execute_result"
    }
   ],
   "execution_count": 24
  },
  {
   "metadata": {
    "ExecuteTime": {
     "end_time": "2024-10-16T13:56:25.957962Z",
     "start_time": "2024-10-16T13:56:25.582017Z"
    }
   },
   "cell_type": "code",
   "source": [
    "from numpy import exp, linspace\n",
    "\n",
    "water = 0\n",
    "depth = linspace( -4, 4, 1000 )\n",
    "buoyancy = .5 + .5 / (1 + exp( 10 * (water - depth) - 2 ))\n",
    "\n",
    "plt.plot( depth, buoyancy )\n"
   ],
   "id": "a77ba157d28adcc6",
   "outputs": [
    {
     "data": {
      "text/plain": [
       "[<matplotlib.lines.Line2D at 0x29528ff32c0>]"
      ]
     },
     "execution_count": 25,
     "metadata": {},
     "output_type": "execute_result"
    },
    {
     "data": {
      "text/plain": [
       "<Figure size 960x360 with 1 Axes>"
      ],
      "image/png": "[encoded data removed]"
     },
     "metadata": {},
     "output_type": "display_data"
    }
   ],
   "execution_count": 25
  }
 ],
 "metadata": {
  "kernelspec": {
   "display_name": "Python 3",
   "language": "python",
   "name": "python3"
  },
  "language_info": {
   "codemirror_mode": {
    "name": "ipython",
    "version": 2
   },
   "file_extension": ".py",
   "mimetype": "text/x-python",
   "name": "python",
   "nbconvert_exporter": "python",
   "pygments_lexer": "ipython2",
   "version": "3.12.3"
  }
 },
 "nbformat": 4,
 "nbformat_minor": 5
}
